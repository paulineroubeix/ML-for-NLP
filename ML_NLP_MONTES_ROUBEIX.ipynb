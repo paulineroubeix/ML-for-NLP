{
  "nbformat": 4,
  "nbformat_minor": 0,
  "metadata": {
    "colab": {
      "name": "ML_NLP-MONTES-ROUBEIX.ipynb",
      "provenance": [],
      "collapsed_sections": []
    },
    "kernelspec": {
      "display_name": "Python 3",
      "name": "python3"
    },
    "language_info": {
      "name": "python"
    }
  },
  "cells": [
    {
      "cell_type": "markdown",
      "metadata": {
        "id": "r2jIgw2yqLoM"
      },
      "source": [
        "# **Project of ML for NLP - ENSAE - 24/04/2021**\n",
        "## **Do vegetarian meals taste bad ?**\n",
        "Clément Montes, Pauline Roubeix"
      ]
    },
    {
      "cell_type": "markdown",
      "metadata": {
        "id": "vZN688NI-KR-"
      },
      "source": [
        "##**I. Stylized facts on the Kaggle dataset**\n"
      ]
    },
    {
      "cell_type": "markdown",
      "metadata": {
        "id": "WKv86u9I_AHl"
      },
      "source": [
        "##Import packages"
      ]
    },
    {
      "cell_type": "code",
      "metadata": {
        "id": "NxPQQZ58-d86"
      },
      "source": [
        "#Pour traiter notre base de donnees\n",
        "import pandas as pd\n",
        "import copy as c\n",
        "import matplotlib.pyplot as plt\n",
        "from matplotlib_venn import venn2"
      ],
      "execution_count": null,
      "outputs": []
    },
    {
      "cell_type": "code",
      "metadata": {
        "colab": {
          "base_uri": "https://localhost:8080/"
        },
        "id": "lFpcDujFpEgo",
        "outputId": "8aaa4bba-9f4e-49d8-c2ec-6a1798cdef84"
      },
      "source": [
        "!wget RAW_interactions.csv https://www.dropbox.com/s/ec3og2ag84c5ld6/RAW_interactions.csv?dl=0 \n",
        "!wget RAW_recipes.csv https://www.dropbox.com/s/uo6n73497rcra7t/RAW_recipes.csv?dl=0"
      ],
      "execution_count": null,
      "outputs": [
        {
          "output_type": "stream",
          "text": [
            "--2021-04-19 08:16:15--  http://raw_interactions.csv/\n",
            "Resolving raw_interactions.csv (raw_interactions.csv)... failed: Name or service not known.\n",
            "wget: unable to resolve host address ‘raw_interactions.csv’\n",
            "--2021-04-19 08:16:15--  https://www.dropbox.com/s/ec3og2ag84c5ld6/RAW_interactions.csv?dl=0\n",
            "Resolving www.dropbox.com (www.dropbox.com)... 162.125.5.18, 2620:100:601d:18::a27d:512\n",
            "Connecting to www.dropbox.com (www.dropbox.com)|162.125.5.18|:443... connected.\n",
            "HTTP request sent, awaiting response... 301 Moved Permanently\n",
            "Location: /s/raw/ec3og2ag84c5ld6/RAW_interactions.csv [following]\n",
            "--2021-04-19 08:16:15--  https://www.dropbox.com/s/raw/ec3og2ag84c5ld6/RAW_interactions.csv\n",
            "Reusing existing connection to www.dropbox.com:443.\n",
            "HTTP request sent, awaiting response... 302 Found\n",
            "Location: https://ucf0f21437825b6701166340463c.dl.dropboxusercontent.com/cd/0/inline/BM7sBCV1AwiHwJ-vnaIAvaDaVIc7vnTm6SD63DjhC54u5GsbLgdVTTlyed2HzWgZYZnn8wgmnv6oYlTCq1-mVKvtjSQrW5boXNQ5jZ2lK7QhftONJVhUwLQSbCzYHauDU1CubrgllW--fR3H0LlMvQx_/file# [following]\n",
            "--2021-04-19 08:16:15--  https://ucf0f21437825b6701166340463c.dl.dropboxusercontent.com/cd/0/inline/BM7sBCV1AwiHwJ-vnaIAvaDaVIc7vnTm6SD63DjhC54u5GsbLgdVTTlyed2HzWgZYZnn8wgmnv6oYlTCq1-mVKvtjSQrW5boXNQ5jZ2lK7QhftONJVhUwLQSbCzYHauDU1CubrgllW--fR3H0LlMvQx_/file\n",
            "Resolving ucf0f21437825b6701166340463c.dl.dropboxusercontent.com (ucf0f21437825b6701166340463c.dl.dropboxusercontent.com)... 162.125.5.15, 2620:100:601d:15::a27d:50f\n",
            "Connecting to ucf0f21437825b6701166340463c.dl.dropboxusercontent.com (ucf0f21437825b6701166340463c.dl.dropboxusercontent.com)|162.125.5.15|:443... connected.\n",
            "HTTP request sent, awaiting response... 200 OK\n",
            "Length: 349436524 (333M) [text/plain]\n",
            "Saving to: ‘RAW_interactions.csv?dl=0’\n",
            "\n",
            "RAW_interactions.cs 100%[===================>] 333.25M  65.6MB/s    in 5.5s    \n",
            "\n",
            "2021-04-19 08:16:21 (60.3 MB/s) - ‘RAW_interactions.csv?dl=0’ saved [349436524/349436524]\n",
            "\n",
            "FINISHED --2021-04-19 08:16:21--\n",
            "Total wall clock time: 6.8s\n",
            "Downloaded: 1 files, 333M in 5.5s (60.3 MB/s)\n",
            "--2021-04-19 08:16:22--  http://raw_recipes.csv/\n",
            "Resolving raw_recipes.csv (raw_recipes.csv)... failed: Name or service not known.\n",
            "wget: unable to resolve host address ‘raw_recipes.csv’\n",
            "--2021-04-19 08:16:22--  https://www.dropbox.com/s/uo6n73497rcra7t/RAW_recipes.csv?dl=0\n",
            "Resolving www.dropbox.com (www.dropbox.com)... 162.125.5.18, 2620:100:601d:18::a27d:512\n",
            "Connecting to www.dropbox.com (www.dropbox.com)|162.125.5.18|:443... connected.\n",
            "HTTP request sent, awaiting response... 301 Moved Permanently\n",
            "Location: /s/raw/uo6n73497rcra7t/RAW_recipes.csv [following]\n",
            "--2021-04-19 08:16:22--  https://www.dropbox.com/s/raw/uo6n73497rcra7t/RAW_recipes.csv\n",
            "Reusing existing connection to www.dropbox.com:443.\n",
            "HTTP request sent, awaiting response... 302 Found\n",
            "Location: https://uc89d7b20a8d2d454fdb2cb347ac.dl.dropboxusercontent.com/cd/0/inline/BM50Zgm-4zprYZrghDVdgIpBm9qLCx_wy5t-vYe_cvN5c1j9VI3tWQ59Mk5OwTUC3viM_daWtsg-KdbccAYpJZTkqz3FoMKqtAOV2JFDvZxDbV8WenkPPEr8M6xFOadtNZ5IsLPcqSF295xJOkWWTZOj/file# [following]\n",
            "--2021-04-19 08:16:22--  https://uc89d7b20a8d2d454fdb2cb347ac.dl.dropboxusercontent.com/cd/0/inline/BM50Zgm-4zprYZrghDVdgIpBm9qLCx_wy5t-vYe_cvN5c1j9VI3tWQ59Mk5OwTUC3viM_daWtsg-KdbccAYpJZTkqz3FoMKqtAOV2JFDvZxDbV8WenkPPEr8M6xFOadtNZ5IsLPcqSF295xJOkWWTZOj/file\n",
            "Resolving uc89d7b20a8d2d454fdb2cb347ac.dl.dropboxusercontent.com (uc89d7b20a8d2d454fdb2cb347ac.dl.dropboxusercontent.com)... 162.125.5.15, 2620:100:601d:15::a27d:50f\n",
            "Connecting to uc89d7b20a8d2d454fdb2cb347ac.dl.dropboxusercontent.com (uc89d7b20a8d2d454fdb2cb347ac.dl.dropboxusercontent.com)|162.125.5.15|:443... connected.\n",
            "HTTP request sent, awaiting response... 200 OK\n",
            "Length: 294520189 (281M) [text/plain]\n",
            "Saving to: ‘RAW_recipes.csv?dl=0’\n",
            "\n",
            "RAW_recipes.csv?dl= 100%[===================>] 280.88M  62.9MB/s    in 4.8s    \n",
            "\n",
            "2021-04-19 08:16:28 (59.1 MB/s) - ‘RAW_recipes.csv?dl=0’ saved [294520189/294520189]\n",
            "\n",
            "FINISHED --2021-04-19 08:16:28--\n",
            "Total wall clock time: 6.2s\n",
            "Downloaded: 1 files, 281M in 4.8s (59.1 MB/s)\n"
          ],
          "name": "stdout"
        }
      ]
    },
    {
      "cell_type": "code",
      "metadata": {
        "colab": {
          "base_uri": "https://localhost:8080/",
          "height": 269
        },
        "id": "JJia2tvrk8ku",
        "outputId": "798b243f-2ffa-4d6c-a236-baf00fc29fc1"
      },
      "source": [
        "comment= pd.read_csv(\"RAW_interactions.csv?dl=0\", sep = \",\", encoding = 'latin_1')\n",
        "recipe = pd.read_csv(\"RAW_recipes.csv?dl=0\", sep = \",\", encoding = 'latin_1')\n",
        "\n",
        "#Renommer la colonne du merge pour joindre sur recipe_id\n",
        "recipe.columns = ['name', 'recipe_id', 'minutes', 'contributor_id', 'submitted', 'tags',\n",
        "       'nutrition', 'n_steps', 'steps', 'description', 'ingredients',\n",
        "       'n_ingredients']\n",
        "\n",
        "base = pd.merge(comment,recipe,on=\"recipe_id\", how=\"inner\")\n",
        "\n",
        "base['vegetarian'] = ['vegetarian' in tag for tag in base['tags']]\n",
        "base['vegan'] = ['vegan' in tag for tag in base['tags']]\n",
        "\n",
        "vegetarian_cnt = len(base.query('vegetarian == True'))\n",
        "vegan_cnt = len(base.query('vegan == True'))\n",
        "intersect_cnt = len(base.query('vegetarian == True and vegan == True'))\n",
        "\n",
        "venn2(subsets = (vegetarian_cnt, vegan_cnt-intersect_cnt, intersect_cnt), set_labels = ('Végétarien', 'Végane'), set_colors=('#b7e778', '#031c16', '#031c16'), alpha = 1)\n"
      ],
      "execution_count": null,
      "outputs": [
        {
          "output_type": "execute_result",
          "data": {
            "text/plain": [
              "<matplotlib_venn._common.VennDiagram at 0x7f598ea89910>"
            ]
          },
          "metadata": {
            "tags": []
          },
          "execution_count": 3
        },
        {
          "output_type": "display_data",
          "data": {
            "image/png": "[encoded data removed]",
            "text/plain": [
              "<Figure size 432x288 with 1 Axes>"
            ]
          },
          "metadata": {
            "tags": []
          }
        }
      ]
    },
    {
      "cell_type": "code",
      "metadata": {
        "colab": {
          "base_uri": "https://localhost:8080/"
        },
        "id": "oHAe3CUWX_rV",
        "outputId": "550c8cb7-e207-4a06-ed4e-8c37402209dc"
      },
      "source": [
        "base.info()"
      ],
      "execution_count": null,
      "outputs": [
        {
          "output_type": "stream",
          "text": [
            "<class 'pandas.core.frame.DataFrame'>\n",
            "Int64Index: 1132367 entries, 0 to 1132366\n",
            "Data columns (total 18 columns):\n",
            " #   Column          Non-Null Count    Dtype \n",
            "---  ------          --------------    ----- \n",
            " 0   user_id         1132367 non-null  int64 \n",
            " 1   recipe_id       1132367 non-null  int64 \n",
            " 2   date            1132367 non-null  object\n",
            " 3   rating          1132367 non-null  int64 \n",
            " 4   review          1132198 non-null  object\n",
            " 5   name            1132366 non-null  object\n",
            " 6   minutes         1132367 non-null  int64 \n",
            " 7   contributor_id  1132367 non-null  int64 \n",
            " 8   submitted       1132367 non-null  object\n",
            " 9   tags            1132367 non-null  object\n",
            " 10  nutrition       1132367 non-null  object\n",
            " 11  n_steps         1132367 non-null  int64 \n",
            " 12  steps           1132367 non-null  object\n",
            " 13  description     1108857 non-null  object\n",
            " 14  ingredients     1132367 non-null  object\n",
            " 15  n_ingredients   1132367 non-null  int64 \n",
            " 16  vegetarian      1132367 non-null  bool  \n",
            " 17  vegan           1132367 non-null  bool  \n",
            "dtypes: bool(2), int64(7), object(9)\n",
            "memory usage: 149.0+ MB\n"
          ],
          "name": "stdout"
        }
      ]
    },
    {
      "cell_type": "code",
      "metadata": {
        "colab": {
          "base_uri": "https://localhost:8080/",
          "height": 734
        },
        "id": "n0ClCjtStwp1",
        "outputId": "944f9676-1e72-4632-b5a5-a6c8a4ac373c"
      },
      "source": [
        "base.head()"
      ],
      "execution_count": null,
      "outputs": [
        {
          "output_type": "execute_result",
          "data": {
            "text/html": [
              "<div>\n",
              "<style scoped>\n",
              "    .dataframe tbody tr th:only-of-type {\n",
              "        vertical-align: middle;\n",
              "    }\n",
              "\n",
              "    .dataframe tbody tr th {\n",
              "        vertical-align: top;\n",
              "    }\n",
              "\n",
              "    .dataframe thead th {\n",
              "        text-align: right;\n",
              "    }\n",
              "</style>\n",
              "<table border=\"1\" class=\"dataframe\">\n",
              "  <thead>\n",
              "    <tr style=\"text-align: right;\">\n",
              "      <th></th>\n",
              "      <th>user_id</th>\n",
              "      <th>recipe_id</th>\n",
              "      <th>date</th>\n",
              "      <th>rating</th>\n",
              "      <th>review</th>\n",
              "      <th>name</th>\n",
              "      <th>minutes</th>\n",
              "      <th>contributor_id</th>\n",
              "      <th>submitted</th>\n",
              "      <th>tags</th>\n",
              "      <th>nutrition</th>\n",
              "      <th>n_steps</th>\n",
              "      <th>steps</th>\n",
              "      <th>description</th>\n",
              "      <th>ingredients</th>\n",
              "      <th>n_ingredients</th>\n",
              "      <th>vegetarian</th>\n",
              "      <th>vegan</th>\n",
              "    </tr>\n",
              "  </thead>\n",
              "  <tbody>\n",
              "    <tr>\n",
              "      <th>0</th>\n",
              "      <td>38094</td>\n",
              "      <td>40893</td>\n",
              "      <td>2003-02-17</td>\n",
              "      <td>4</td>\n",
              "      <td>Great with a salad. Cooked on top of stove for...</td>\n",
              "      <td>white bean   green chile pepper soup</td>\n",
              "      <td>495</td>\n",
              "      <td>1533</td>\n",
              "      <td>2002-09-21</td>\n",
              "      <td>['weeknight', 'time-to-make', 'course', 'main-...</td>\n",
              "      <td>[204.8, 5.0, 9.0, 26.0, 24.0, 2.0, 10.0]</td>\n",
              "      <td>4</td>\n",
              "      <td>['combine beans , onion , chilies , 1 / 2 teas...</td>\n",
              "      <td>easy soup for the crockpot.</td>\n",
              "      <td>['great northern beans', 'yellow onion', 'dice...</td>\n",
              "      <td>9</td>\n",
              "      <td>False</td>\n",
              "      <td>False</td>\n",
              "    </tr>\n",
              "    <tr>\n",
              "      <th>1</th>\n",
              "      <td>1293707</td>\n",
              "      <td>40893</td>\n",
              "      <td>2011-12-21</td>\n",
              "      <td>5</td>\n",
              "      <td>So simple, so delicious! Great for chilly fall...</td>\n",
              "      <td>white bean   green chile pepper soup</td>\n",
              "      <td>495</td>\n",
              "      <td>1533</td>\n",
              "      <td>2002-09-21</td>\n",
              "      <td>['weeknight', 'time-to-make', 'course', 'main-...</td>\n",
              "      <td>[204.8, 5.0, 9.0, 26.0, 24.0, 2.0, 10.0]</td>\n",
              "      <td>4</td>\n",
              "      <td>['combine beans , onion , chilies , 1 / 2 teas...</td>\n",
              "      <td>easy soup for the crockpot.</td>\n",
              "      <td>['great northern beans', 'yellow onion', 'dice...</td>\n",
              "      <td>9</td>\n",
              "      <td>False</td>\n",
              "      <td>False</td>\n",
              "    </tr>\n",
              "    <tr>\n",
              "      <th>2</th>\n",
              "      <td>8937</td>\n",
              "      <td>44394</td>\n",
              "      <td>2002-12-01</td>\n",
              "      <td>4</td>\n",
              "      <td>This worked very well and is EASY.  I used not...</td>\n",
              "      <td>devilicious cookie cake delights</td>\n",
              "      <td>20</td>\n",
              "      <td>56824</td>\n",
              "      <td>2002-10-27</td>\n",
              "      <td>['30-minutes-or-less', 'time-to-make', 'course...</td>\n",
              "      <td>[132.3, 11.0, 39.0, 5.0, 4.0, 11.0, 5.0]</td>\n",
              "      <td>5</td>\n",
              "      <td>['blend together cake mix , oil and eggs', 'ad...</td>\n",
              "      <td>NaN</td>\n",
              "      <td>[\"devil's food cake mix\", 'vegetable oil', 'eg...</td>\n",
              "      <td>4</td>\n",
              "      <td>False</td>\n",
              "      <td>False</td>\n",
              "    </tr>\n",
              "    <tr>\n",
              "      <th>3</th>\n",
              "      <td>126440</td>\n",
              "      <td>85009</td>\n",
              "      <td>2010-02-27</td>\n",
              "      <td>5</td>\n",
              "      <td>I made the Mexican topping and took it to bunk...</td>\n",
              "      <td>baked potato toppings</td>\n",
              "      <td>10</td>\n",
              "      <td>64342</td>\n",
              "      <td>2004-02-25</td>\n",
              "      <td>['15-minutes-or-less', 'time-to-make', 'course...</td>\n",
              "      <td>[2786.2, 342.0, 134.0, 290.0, 161.0, 301.0, 42.0]</td>\n",
              "      <td>3</td>\n",
              "      <td>['pick whichever topping you want to use and c...</td>\n",
              "      <td>these toppings sure makes a nice change from p...</td>\n",
              "      <td>['mayonnaise', 'salsa', 'cheddar cheese', 'ref...</td>\n",
              "      <td>13</td>\n",
              "      <td>False</td>\n",
              "      <td>False</td>\n",
              "    </tr>\n",
              "    <tr>\n",
              "      <th>4</th>\n",
              "      <td>57222</td>\n",
              "      <td>85009</td>\n",
              "      <td>2011-10-01</td>\n",
              "      <td>5</td>\n",
              "      <td>Made the cheddar bacon topping, adding a sprin...</td>\n",
              "      <td>baked potato toppings</td>\n",
              "      <td>10</td>\n",
              "      <td>64342</td>\n",
              "      <td>2004-02-25</td>\n",
              "      <td>['15-minutes-or-less', 'time-to-make', 'course...</td>\n",
              "      <td>[2786.2, 342.0, 134.0, 290.0, 161.0, 301.0, 42.0]</td>\n",
              "      <td>3</td>\n",
              "      <td>['pick whichever topping you want to use and c...</td>\n",
              "      <td>these toppings sure makes a nice change from p...</td>\n",
              "      <td>['mayonnaise', 'salsa', 'cheddar cheese', 'ref...</td>\n",
              "      <td>13</td>\n",
              "      <td>False</td>\n",
              "      <td>False</td>\n",
              "    </tr>\n",
              "  </tbody>\n",
              "</table>\n",
              "</div>"
            ],
            "text/plain": [
              "   user_id  recipe_id        date  ...  n_ingredients vegetarian  vegan\n",
              "0    38094      40893  2003-02-17  ...              9      False  False\n",
              "1  1293707      40893  2011-12-21  ...              9      False  False\n",
              "2     8937      44394  2002-12-01  ...              4      False  False\n",
              "3   126440      85009  2010-02-27  ...             13      False  False\n",
              "4    57222      85009  2011-10-01  ...             13      False  False\n",
              "\n",
              "[5 rows x 18 columns]"
            ]
          },
          "metadata": {
            "tags": []
          },
          "execution_count": 5
        }
      ]
    },
    {
      "cell_type": "markdown",
      "metadata": {
        "id": "RRI-lqhtAVw5"
      },
      "source": [
        "##**A quick overview of the dataset** "
      ]
    },
    {
      "cell_type": "code",
      "metadata": {
        "colab": {
          "base_uri": "https://localhost:8080/",
          "height": 551
        },
        "id": "yPLKvYLI0QkJ",
        "outputId": "de0e4983-759e-4932-f086-175e220c057d"
      },
      "source": [
        "df = c.deepcopy(base) \n",
        "df.drop_duplicates(subset =\"recipe_id\", keep = 'first', inplace=True) #Eraise duplicates (due to several comments on a single recipe)\n",
        "\n",
        "#Counting the number of vegetarian, vegan and carnist recipes\n",
        "vegetarian_cnt = len(df.query('vegetarian == True'))\n",
        "vegan_cnt = len(df.query('vegan == True'))\n",
        "intersect_cnt = len(df.query('vegetarian == True and vegan == True'))\n",
        "vegeOnly_cnt = len(df.query('vegetarian == True and vegan == False'))\n",
        "meaty_cnt = len(df) - vegetarian_cnt\n",
        "\n",
        "#\n",
        "venn2(subsets = (vegetarian_cnt, vegan_cnt-intersect_cnt, intersect_cnt), set_labels = ('Végétarien', 'Végane'), set_colors=('#b7e778', '#031c16', '#031c16'), alpha = 1)\n",
        "\n",
        "labels = 'Végétarien\\{vegan}', 'Vegan', 'Carniste'\n",
        "sizes = [vegeOnly_cnt, vegan_cnt , meaty_cnt]\n",
        "explode = (0.2, 0, 0)  # only \"explode\" the 2nd slice (i.e. 'Hogs')\n",
        "\n",
        "fig1, ax1 = plt.subplots()\n",
        "ax1.pie(sizes, explode=explode, labels=labels, autopct='%1.1f%%',\n",
        "        shadow=True, startangle=90)\n",
        "ax1.axis('equal')  # Equal aspect ratio ensures that pie is drawn as a circle.\n"
      ],
      "execution_count": null,
      "outputs": [
        {
          "output_type": "execute_result",
          "data": {
            "text/plain": [
              "(-1.1054371122119127,\n",
              " 1.1064818738420878,\n",
              " -1.1149759256957898,\n",
              " 1.2976966209997025)"
            ]
          },
          "metadata": {
            "tags": []
          },
          "execution_count": 4
        },
        {
          "output_type": "display_data",
          "data": {
            "image/png": "[encoded data removed]",
            "text/plain": [
              "<Figure size 432x288 with 1 Axes>"
            ]
          },
          "metadata": {
            "tags": []
          }
        },
        {
          "output_type": "display_data",
          "data": {
            "image/png": "[encoded data removed]",
            "text/plain": [
              "<Figure size 432x288 with 1 Axes>"
            ]
          },
          "metadata": {
            "tags": []
          }
        }
      ]
    },
    {
      "cell_type": "markdown",
      "metadata": {
        "id": "vs545lrtAJH3"
      },
      "source": [
        "On the one hand, our dataset is clearly unbalanced. We will have to take that into account while training our logistic regression.\n",
        "\n",
        "On the other hand, there are roughly 36 thousands vegetarian recipes (with one or more commentaries), which is a reasonable sample in order to analyze sentiments contained in commentaries of vegetarian recipes."
      ]
    },
    {
      "cell_type": "markdown",
      "metadata": {
        "id": "oQVWIuDI7mWG"
      },
      "source": [
        "###However, **the question remains**: are our fathers true? Is meat way better?"
      ]
    },
    {
      "cell_type": "code",
      "metadata": {
        "colab": {
          "base_uri": "https://localhost:8080/",
          "height": 337
        },
        "id": "2ZlzzDzk-4ni",
        "outputId": "f9eda076-c40a-4360-dde2-ed4a7eef9fd5"
      },
      "source": [
        "##Separate the dataset into two sub-datasets of recipes.\n",
        "vegetaBoxplot = base[base['vegetarian'] == True]\n",
        "nonvegetaBoxplot = base[base['vegetarian'] == False]\n",
        "\n",
        "##Boxplot\n",
        "bplot=plt.boxplot([vegetaBoxplot[\"rating\"],nonvegetaBoxplot[\"rating\"]],labels=('végétarien','non végétarien'),patch_artist=True)\n",
        "colors = ['lightblue', 'pink']\n",
        "for element in ['boxes', 'whiskers', 'fliers', 'means', 'medians', 'caps']:\n",
        "    plt.setp(bplot[element], color='grey')\n",
        "for patch, color in zip(bplot['boxes'], colors):\n",
        "    patch.set_facecolor(color)\n",
        "    patch.set_color(color)\n",
        "plt.ylabel('Note sur 5')\n"
      ],
      "execution_count": null,
      "outputs": [
        {
          "output_type": "stream",
          "text": [
            "/usr/local/lib/python3.7/dist-packages/numpy/core/_asarray.py:83: VisibleDeprecationWarning: Creating an ndarray from ragged nested sequences (which is a list-or-tuple of lists-or-tuples-or ndarrays with different lengths or shapes) is deprecated. If you meant to do this, you must specify 'dtype=object' when creating the ndarray\n",
            "  return array(a, dtype, copy=False, order=order)\n"
          ],
          "name": "stderr"
        },
        {
          "output_type": "execute_result",
          "data": {
            "text/plain": [
              "Text(0, 0.5, 'Note sur 5')"
            ]
          },
          "metadata": {
            "tags": []
          },
          "execution_count": 5
        },
        {
          "output_type": "display_data",
          "data": {
            "image/png": "[encoded data removed]",
            "text/plain": [
              "<Figure size 432x288 with 1 Axes>"
            ]
          },
          "metadata": {
            "tags": []
          }
        }
      ]
    },
    {
      "cell_type": "code",
      "metadata": {
        "colab": {
          "base_uri": "https://localhost:8080/",
          "height": 350
        },
        "id": "bRBB5vRSq_O_",
        "outputId": "6bb18752-1b25-4129-d3cf-9fe2746fd3b1"
      },
      "source": [
        "\n",
        "##Histograms\n",
        "plt.hist([vegetaBoxplot.rating,nonvegetaBoxplot.rating], density=True, range = (0, 6), bins = 10, color = ['blue','red'],alpha=0.25,label=[\"végétarien\",\"non végétarien\"])\n",
        "#plt.hist(nonvegetaBoxplot.rating,  density=True, range = (0, 6), bins = 10, color = 'red', alpha=0.25,label=\"non végétarien\")\n",
        "plt.xlabel('Notes')\n",
        "plt.legend()"
      ],
      "execution_count": null,
      "outputs": [
        {
          "output_type": "stream",
          "text": [
            "/usr/local/lib/python3.7/dist-packages/numpy/core/_asarray.py:83: VisibleDeprecationWarning: Creating an ndarray from ragged nested sequences (which is a list-or-tuple of lists-or-tuples-or ndarrays with different lengths or shapes) is deprecated. If you meant to do this, you must specify 'dtype=object' when creating the ndarray\n",
            "  return array(a, dtype, copy=False, order=order)\n"
          ],
          "name": "stderr"
        },
        {
          "output_type": "execute_result",
          "data": {
            "text/plain": [
              "<matplotlib.legend.Legend at 0x7f598e533d90>"
            ]
          },
          "metadata": {
            "tags": []
          },
          "execution_count": 6
        },
        {
          "output_type": "display_data",
          "data": {
            "image/png": "[encoded data removed]",
            "text/plain": [
              "<Figure size 432x288 with 1 Axes>"
            ]
          },
          "metadata": {
            "tags": []
          }
        }
      ]
    },
    {
      "cell_type": "markdown",
      "metadata": {
        "id": "mwEtVxV_83dm"
      },
      "source": [
        "Only based on ratings, it seems that meals containing meats, fishes, seashells,... are a little tastier for the very enthusiastic persons, but less represented in 4-stars voters."
      ]
    },
    {
      "cell_type": "markdown",
      "metadata": {
        "id": "1HTPSKWS9dj_"
      },
      "source": [
        "# **II. Sentiment analysis on commentaries**"
      ]
    },
    {
      "cell_type": "markdown",
      "metadata": {
        "id": "c6AKjjkDyBOX"
      },
      "source": [
        "First, let's have a look at the commentaries in themselves. Let's see how many characters they have. We see that they are in terms of characters pretty similar to tweets, with a mean number of characters around 280."
      ]
    },
    {
      "cell_type": "code",
      "metadata": {
        "colab": {
          "base_uri": "https://localhost:8080/",
          "height": 282
        },
        "id": "dMo-qRgnvC7a",
        "outputId": "eababa23-d784-4fcf-c03a-369dfe774465"
      },
      "source": [
        "#We can not make the histogram for the whole dataset. Let's watch for the first thousand lines.\n",
        "base.head(1000).review.apply(len).hist(bins=40)"
      ],
      "execution_count": null,
      "outputs": [
        {
          "output_type": "execute_result",
          "data": {
            "text/plain": [
              "<matplotlib.axes._subplots.AxesSubplot at 0x7fd2ab60d8d0>"
            ]
          },
          "metadata": {
            "tags": []
          },
          "execution_count": 7
        },
        {
          "output_type": "display_data",
          "data": {
            "image/png": "[encoded data removed]",
            "text/plain": [
              "<Figure size 432x288 with 1 Axes>"
            ]
          },
          "metadata": {
            "tags": []
          }
        }
      ]
    },
    {
      "cell_type": "markdown",
      "metadata": {
        "id": "D9jJzvo4TvLw"
      },
      "source": [
        "###Creating a column for sentiments based on the ratings"
      ]
    },
    {
      "cell_type": "markdown",
      "metadata": {
        "id": "KbNYI-aFj2lD"
      },
      "source": [
        "While having a look at commentaries associated with each ratings, we observed that the commentaries on the rating 0 where very often positive, or just simple questions. That way, we think the automatic rating of the website gives 0 and these persons just did not wanted to rate the recipe. As a consequence, we will delete those commentaries. \n",
        "\n",
        "The fact that a rating of 1 and 2 is a bad commentary is inspired by an overview of the first hundreds of commentaries linked to every recipe. We did the same for every rating."
      ]
    },
    {
      "cell_type": "code",
      "metadata": {
        "colab": {
          "base_uri": "https://localhost:8080/",
          "height": 295
        },
        "id": "_DuC_zzyTubh",
        "outputId": "28fea40e-bd73-4217-965b-7dd1a765187b"
      },
      "source": [
        "def rating_to_sentiment(RatingOfRecipe):\n",
        "    if RatingOfRecipe <= 2:\n",
        "        return -1\n",
        "    elif RatingOfRecipe == 3:\n",
        "        return 0\n",
        "    else:\n",
        "        return 1\n",
        "\n",
        "#Eraise the commentaries associated to a 0 rating from the dataset\n",
        "base = base[base.rating !=0]\n",
        "#Create the column of sentiment\n",
        "base['sentiment'] = [rating_to_sentiment(x) for x in base['rating']]\n",
        "\n",
        "plt.figure()\n",
        "pd.value_counts(base['sentiment']).plot.bar(title=\"Sentiment distribution in df\")\n",
        "plt.xlabel(\"Sentiment\")\n",
        "plt.ylabel(\"No. of rows in df\")\n",
        "plt.show()"
      ],
      "execution_count": null,
      "outputs": [
        {
          "output_type": "display_data",
          "data": {
            "image/png": "[encoded data removed]",
            "text/plain": [
              "<Figure size 432x288 with 1 Axes>"
            ]
          },
          "metadata": {
            "tags": []
          }
        }
      ]
    },
    {
      "cell_type": "markdown",
      "metadata": {
        "id": "r7WBz3hQuNZD"
      },
      "source": [
        "## **First method : Word2vec and Logistic regression**"
      ]
    },
    {
      "cell_type": "markdown",
      "metadata": {
        "id": "Vx-EH-oW11lg"
      },
      "source": [
        "###**Pre-processing** \n",
        "The first step to pre-process our data could be to remove stop words like \"a\", \"not\" etc, because it can help in some cases to concentrate on relevant information. But for sentiment analysis we keep those words because removing stop words could remove negation in a sentence, which would be classified as positive instead of negative. So we skip this step and we directly go to the tokenization step."
      ]
    },
    {
      "cell_type": "markdown",
      "metadata": {
        "id": "2JBb2XGCxCRS"
      },
      "source": [
        "#### Tokenization :"
      ]
    },
    {
      "cell_type": "code",
      "metadata": {
        "colab": {
          "base_uri": "https://localhost:8080/"
        },
        "id": "taKWHXMzymWO",
        "outputId": "51cd3084-5d11-41a4-f116-82083a9b63bf"
      },
      "source": [
        "import nltk\n",
        "from nltk.tokenize import TreebankWordTokenizer\n",
        "nltk.download('punkt')\n",
        "sent_detector = nltk.data.load('tokenizers/punkt/english.pickle')\n"
      ],
      "execution_count": null,
      "outputs": [
        {
          "output_type": "stream",
          "text": [
            "[nltk_data] Downloading package punkt to /root/nltk_data...\n",
            "[nltk_data]   Package punkt is already up-to-date!\n"
          ],
          "name": "stdout"
        }
      ]
    },
    {
      "cell_type": "code",
      "metadata": {
        "id": "15VeuKEPxIrq"
      },
      "source": [
        "from tqdm import tqdm\n",
        "\n",
        "def remove_html(tokens):\n",
        "  tokens = filter(lambda x: x[0]+x[-1] != '<>', tokens)\n",
        "  return list(tokens)\n",
        "\n",
        "def remove_hashtags(tokens):\n",
        "  tokens = map(lambda x: x.replace('#', ''), tokens)\n",
        "  return list(tokens)\n",
        "\n",
        "\n",
        "def tokenize(corpus):\n",
        "    tokenizer = TreebankWordTokenizer()  \n",
        "    # Life hack : treebank word tokenizer won't keep html code in one token.\n",
        "    # To preprocess economics news corpus, use tweettokenizer. \n",
        "    tokenized_sentences = []\n",
        "    for sample in tqdm(corpus):\n",
        "    # separating sentences\n",
        "        tok_sample = []\n",
        "        for sentence in sent_detector.tokenize(sample):\n",
        "            tokens = tokenizer.tokenize(sentence)\n",
        "            tokens = remove_html(tokens)\n",
        "            tokens = remove_hashtags(tokens)\n",
        "            tokens = list(map(lambda x: x.lower(), tokens))\n",
        "            tok_sample = tok_sample + tokens\n",
        "        tokenized_sentences.append(tok_sample)\n",
        "    return tokenized_sentences"
      ],
      "execution_count": null,
      "outputs": []
    },
    {
      "cell_type": "markdown",
      "metadata": {
        "id": "9lRZrSGGBHsN"
      },
      "source": [
        "Here we do not use any Phraser and just focus on the use of words because positive commentaries should have positive ideas in every sentences (this is the case while overviewing the dataset). It is the same for negative comments. Eventually, neutral comments should express negative and positive ideas in a sentence or in two, but this leads to the same idea. \n",
        "\n",
        "Reasoning that way, we do not use Phrasers"
      ]
    },
    {
      "cell_type": "code",
      "metadata": {
        "id": "P9XNDRnaLikw"
      },
      "source": [
        "def g(x) :\n",
        "    t = x.replace(\".\",\" \")\n",
        "    t = t.replace(\",\",\" \")\n",
        "    t = t.replace(\";\",\" \") \n",
        "    #t = t.replace(\":\",\" \") /// Because smileys use it\n",
        "    return t"
      ],
      "execution_count": null,
      "outputs": []
    },
    {
      "cell_type": "code",
      "metadata": {
        "colab": {
          "base_uri": "https://localhost:8080/"
        },
        "id": "UZw1KrYZzTY7",
        "outputId": "0cb32733-131d-4baa-a3bc-9d02a78c2559"
      },
      "source": [
        "comment_tokens_bis = tokenize(base['review'].astype(str).apply(g).array)"
      ],
      "execution_count": null,
      "outputs": [
        {
          "output_type": "stream",
          "text": [
            "100%|██████████| 1071520/1071520 [08:05<00:00, 2209.31it/s]\n"
          ],
          "name": "stderr"
        }
      ]
    },
    {
      "cell_type": "code",
      "metadata": {
        "colab": {
          "base_uri": "https://localhost:8080/"
        },
        "id": "12RFYHNuNLxC",
        "outputId": "35fa791a-6108-4fe9-e331-8f2a8d4412a8"
      },
      "source": [
        "comment_tokens_bis[0]"
      ],
      "execution_count": null,
      "outputs": [
        {
          "output_type": "execute_result",
          "data": {
            "text/plain": [
              "['great',\n",
              " 'with',\n",
              " 'a',\n",
              " 'salad',\n",
              " 'cooked',\n",
              " 'on',\n",
              " 'top',\n",
              " 'of',\n",
              " 'stove',\n",
              " 'for',\n",
              " '15',\n",
              " 'minutes',\n",
              " 'added',\n",
              " 'a',\n",
              " 'shake',\n",
              " 'of',\n",
              " 'cayenne',\n",
              " 'and',\n",
              " 'a',\n",
              " 'pinch',\n",
              " 'of',\n",
              " 'salt',\n",
              " 'used',\n",
              " 'low',\n",
              " 'fat',\n",
              " 'sour',\n",
              " 'cream',\n",
              " 'thanks']"
            ]
          },
          "metadata": {
            "tags": []
          },
          "execution_count": 13
        }
      ]
    },
    {
      "cell_type": "code",
      "metadata": {
        "colab": {
          "base_uri": "https://localhost:8080/",
          "height": 52
        },
        "id": "R27neNM3NRi-",
        "outputId": "b7ab4c3a-747c-42e1-d6b3-06ede49046c5"
      },
      "source": [
        "base['review'][0]\n",
        "# it seems to work well !"
      ],
      "execution_count": null,
      "outputs": [
        {
          "output_type": "execute_result",
          "data": {
            "application/vnd.google.colaboratory.intrinsic+json": {
              "type": "string"
            },
            "text/plain": [
              "'Great with a salad. Cooked on top of stove for 15 minutes.Added a shake of cayenne and a pinch of salt.  Used low fat sour cream.  Thanks.'"
            ]
          },
          "metadata": {
            "tags": []
          },
          "execution_count": 14
        }
      ]
    },
    {
      "cell_type": "code",
      "metadata": {
        "id": "rMwH3z2PU8sf"
      },
      "source": [
        "df_with_tokens = base.assign(review_tokens = comment_tokens_bis)"
      ],
      "execution_count": null,
      "outputs": []
    },
    {
      "cell_type": "code",
      "metadata": {
        "colab": {
          "base_uri": "https://localhost:8080/",
          "height": 734
        },
        "id": "8d7I-79MVbpX",
        "outputId": "49785ed6-0bf6-4a3d-ee78-8625555c4c98"
      },
      "source": [
        "df_with_tokens.head()"
      ],
      "execution_count": null,
      "outputs": [
        {
          "output_type": "execute_result",
          "data": {
            "text/html": [
              "<div>\n",
              "<style scoped>\n",
              "    .dataframe tbody tr th:only-of-type {\n",
              "        vertical-align: middle;\n",
              "    }\n",
              "\n",
              "    .dataframe tbody tr th {\n",
              "        vertical-align: top;\n",
              "    }\n",
              "\n",
              "    .dataframe thead th {\n",
              "        text-align: right;\n",
              "    }\n",
              "</style>\n",
              "<table border=\"1\" class=\"dataframe\">\n",
              "  <thead>\n",
              "    <tr style=\"text-align: right;\">\n",
              "      <th></th>\n",
              "      <th>user_id</th>\n",
              "      <th>recipe_id</th>\n",
              "      <th>date</th>\n",
              "      <th>rating</th>\n",
              "      <th>review</th>\n",
              "      <th>name</th>\n",
              "      <th>minutes</th>\n",
              "      <th>contributor_id</th>\n",
              "      <th>submitted</th>\n",
              "      <th>tags</th>\n",
              "      <th>nutrition</th>\n",
              "      <th>n_steps</th>\n",
              "      <th>steps</th>\n",
              "      <th>description</th>\n",
              "      <th>ingredients</th>\n",
              "      <th>n_ingredients</th>\n",
              "      <th>vegetarian</th>\n",
              "      <th>vegan</th>\n",
              "      <th>sentiment</th>\n",
              "      <th>review_tokens</th>\n",
              "    </tr>\n",
              "  </thead>\n",
              "  <tbody>\n",
              "    <tr>\n",
              "      <th>0</th>\n",
              "      <td>38094</td>\n",
              "      <td>40893</td>\n",
              "      <td>2003-02-17</td>\n",
              "      <td>4</td>\n",
              "      <td>Great with a salad. Cooked on top of stove for...</td>\n",
              "      <td>white bean   green chile pepper soup</td>\n",
              "      <td>495</td>\n",
              "      <td>1533</td>\n",
              "      <td>2002-09-21</td>\n",
              "      <td>['weeknight', 'time-to-make', 'course', 'main-...</td>\n",
              "      <td>[204.8, 5.0, 9.0, 26.0, 24.0, 2.0, 10.0]</td>\n",
              "      <td>4</td>\n",
              "      <td>['combine beans , onion , chilies , 1 / 2 teas...</td>\n",
              "      <td>easy soup for the crockpot.</td>\n",
              "      <td>['great northern beans', 'yellow onion', 'dice...</td>\n",
              "      <td>9</td>\n",
              "      <td>False</td>\n",
              "      <td>False</td>\n",
              "      <td>1</td>\n",
              "      <td>[great, with, a, salad, cooked, on, top, of, s...</td>\n",
              "    </tr>\n",
              "    <tr>\n",
              "      <th>1</th>\n",
              "      <td>1293707</td>\n",
              "      <td>40893</td>\n",
              "      <td>2011-12-21</td>\n",
              "      <td>5</td>\n",
              "      <td>So simple, so delicious! Great for chilly fall...</td>\n",
              "      <td>white bean   green chile pepper soup</td>\n",
              "      <td>495</td>\n",
              "      <td>1533</td>\n",
              "      <td>2002-09-21</td>\n",
              "      <td>['weeknight', 'time-to-make', 'course', 'main-...</td>\n",
              "      <td>[204.8, 5.0, 9.0, 26.0, 24.0, 2.0, 10.0]</td>\n",
              "      <td>4</td>\n",
              "      <td>['combine beans , onion , chilies , 1 / 2 teas...</td>\n",
              "      <td>easy soup for the crockpot.</td>\n",
              "      <td>['great northern beans', 'yellow onion', 'dice...</td>\n",
              "      <td>9</td>\n",
              "      <td>False</td>\n",
              "      <td>False</td>\n",
              "      <td>1</td>\n",
              "      <td>[so, simple, so, delicious, !, great, for, chi...</td>\n",
              "    </tr>\n",
              "    <tr>\n",
              "      <th>2</th>\n",
              "      <td>8937</td>\n",
              "      <td>44394</td>\n",
              "      <td>2002-12-01</td>\n",
              "      <td>4</td>\n",
              "      <td>This worked very well and is EASY.  I used not...</td>\n",
              "      <td>devilicious cookie cake delights</td>\n",
              "      <td>20</td>\n",
              "      <td>56824</td>\n",
              "      <td>2002-10-27</td>\n",
              "      <td>['30-minutes-or-less', 'time-to-make', 'course...</td>\n",
              "      <td>[132.3, 11.0, 39.0, 5.0, 4.0, 11.0, 5.0]</td>\n",
              "      <td>5</td>\n",
              "      <td>['blend together cake mix , oil and eggs', 'ad...</td>\n",
              "      <td>NaN</td>\n",
              "      <td>[\"devil's food cake mix\", 'vegetable oil', 'eg...</td>\n",
              "      <td>4</td>\n",
              "      <td>False</td>\n",
              "      <td>False</td>\n",
              "      <td>1</td>\n",
              "      <td>[this, worked, very, well, and, is, easy, i, u...</td>\n",
              "    </tr>\n",
              "    <tr>\n",
              "      <th>3</th>\n",
              "      <td>126440</td>\n",
              "      <td>85009</td>\n",
              "      <td>2010-02-27</td>\n",
              "      <td>5</td>\n",
              "      <td>I made the Mexican topping and took it to bunk...</td>\n",
              "      <td>baked potato toppings</td>\n",
              "      <td>10</td>\n",
              "      <td>64342</td>\n",
              "      <td>2004-02-25</td>\n",
              "      <td>['15-minutes-or-less', 'time-to-make', 'course...</td>\n",
              "      <td>[2786.2, 342.0, 134.0, 290.0, 161.0, 301.0, 42.0]</td>\n",
              "      <td>3</td>\n",
              "      <td>['pick whichever topping you want to use and c...</td>\n",
              "      <td>these toppings sure makes a nice change from p...</td>\n",
              "      <td>['mayonnaise', 'salsa', 'cheddar cheese', 'ref...</td>\n",
              "      <td>13</td>\n",
              "      <td>False</td>\n",
              "      <td>False</td>\n",
              "      <td>1</td>\n",
              "      <td>[i, made, the, mexican, topping, and, took, it...</td>\n",
              "    </tr>\n",
              "    <tr>\n",
              "      <th>4</th>\n",
              "      <td>57222</td>\n",
              "      <td>85009</td>\n",
              "      <td>2011-10-01</td>\n",
              "      <td>5</td>\n",
              "      <td>Made the cheddar bacon topping, adding a sprin...</td>\n",
              "      <td>baked potato toppings</td>\n",
              "      <td>10</td>\n",
              "      <td>64342</td>\n",
              "      <td>2004-02-25</td>\n",
              "      <td>['15-minutes-or-less', 'time-to-make', 'course...</td>\n",
              "      <td>[2786.2, 342.0, 134.0, 290.0, 161.0, 301.0, 42.0]</td>\n",
              "      <td>3</td>\n",
              "      <td>['pick whichever topping you want to use and c...</td>\n",
              "      <td>these toppings sure makes a nice change from p...</td>\n",
              "      <td>['mayonnaise', 'salsa', 'cheddar cheese', 'ref...</td>\n",
              "      <td>13</td>\n",
              "      <td>False</td>\n",
              "      <td>False</td>\n",
              "      <td>1</td>\n",
              "      <td>[made, the, cheddar, bacon, topping, adding, a...</td>\n",
              "    </tr>\n",
              "  </tbody>\n",
              "</table>\n",
              "</div>"
            ],
            "text/plain": [
              "   user_id  ...                                      review_tokens\n",
              "0    38094  ...  [great, with, a, salad, cooked, on, top, of, s...\n",
              "1  1293707  ...  [so, simple, so, delicious, !, great, for, chi...\n",
              "2     8937  ...  [this, worked, very, well, and, is, easy, i, u...\n",
              "3   126440  ...  [i, made, the, mexican, topping, and, took, it...\n",
              "4    57222  ...  [made, the, cheddar, bacon, topping, adding, a...\n",
              "\n",
              "[5 rows x 20 columns]"
            ]
          },
          "metadata": {
            "tags": []
          },
          "execution_count": 13
        }
      ]
    },
    {
      "cell_type": "markdown",
      "metadata": {
        "id": "GUwn8z1HIh00"
      },
      "source": [
        "#### Lemmatization\n",
        "We now lemmatize our tokens to transform conjugated verbs into their base verbale (and not root because we do not stem) and switch plural words into their singular counterpart."
      ]
    },
    {
      "cell_type": "code",
      "metadata": {
        "colab": {
          "base_uri": "https://localhost:8080/"
        },
        "id": "jToFXZ1JLmJ7",
        "outputId": "c3c4ac5d-ba75-4a80-857f-fcebafbe820f"
      },
      "source": [
        "import nltk\n",
        "nltk.download('wordnet')\n",
        "from nltk.stem import WordNetLemmatizer\n",
        "from nltk.corpus import wordnet\n",
        "nltk.download('averaged_perceptron_tagger')\n",
        "\n",
        "\n",
        "#  Init Lemmatizer\n",
        "lemmatizer = WordNetLemmatizer()\n",
        "\n",
        "comment_lemma = []\n",
        "for comment in comment_tokens_bis :\n",
        "    com_lem = []\n",
        "    for word in comment :\n",
        "        com_lem.append(lemmatizer.lemmatize(word, pos=\"v\")) #Need the option pos to tell him to lemmatize knowing the context.\n",
        "    comment_lemma.append(com_lem)"
      ],
      "execution_count": null,
      "outputs": [
        {
          "output_type": "stream",
          "text": [
            "[nltk_data] Downloading package wordnet to /root/nltk_data...\n",
            "[nltk_data]   Package wordnet is already up-to-date!\n",
            "[nltk_data] Downloading package averaged_perceptron_tagger to\n",
            "[nltk_data]     /root/nltk_data...\n",
            "[nltk_data]   Package averaged_perceptron_tagger is already up-to-\n",
            "[nltk_data]       date!\n"
          ],
          "name": "stdout"
        }
      ]
    },
    {
      "cell_type": "code",
      "metadata": {
        "id": "Ug3FvmuUDk00"
      },
      "source": [
        "df_with_tokens = df_with_tokens.reset_index()"
      ],
      "execution_count": null,
      "outputs": []
    },
    {
      "cell_type": "code",
      "metadata": {
        "colab": {
          "base_uri": "https://localhost:8080/"
        },
        "id": "qGn7vg59J--g",
        "outputId": "37640483-d63c-4131-e9e9-18d515e3bef6"
      },
      "source": [
        "comment_lemma[0]"
      ],
      "execution_count": null,
      "outputs": [
        {
          "output_type": "execute_result",
          "data": {
            "text/plain": [
              "['great',\n",
              " 'with',\n",
              " 'a',\n",
              " 'salad',\n",
              " 'cook',\n",
              " 'on',\n",
              " 'top',\n",
              " 'of',\n",
              " 'stave',\n",
              " 'for',\n",
              " '15',\n",
              " 'minutes',\n",
              " 'add',\n",
              " 'a',\n",
              " 'shake',\n",
              " 'of',\n",
              " 'cayenne',\n",
              " 'and',\n",
              " 'a',\n",
              " 'pinch',\n",
              " 'of',\n",
              " 'salt',\n",
              " 'use',\n",
              " 'low',\n",
              " 'fat',\n",
              " 'sour',\n",
              " 'cream',\n",
              " 'thank']"
            ]
          },
          "metadata": {
            "tags": []
          },
          "execution_count": 16
        }
      ]
    },
    {
      "cell_type": "code",
      "metadata": {
        "id": "xW_s0U1MdufW"
      },
      "source": [
        "df_with_tokens['lemmas'] = comment_lemma"
      ],
      "execution_count": null,
      "outputs": []
    },
    {
      "cell_type": "markdown",
      "metadata": {
        "id": "LdspHF_dIzxY"
      },
      "source": [
        "#### Word2Vec\n",
        "now that the data is ready, we can train and apply Word2Vec to transform the words in the comments into vectors."
      ]
    },
    {
      "cell_type": "code",
      "metadata": {
        "colab": {
          "base_uri": "https://localhost:8080/"
        },
        "id": "GGWdITU1VqUA",
        "outputId": "7d045644-e621-43b6-a4da-e3c20717315e"
      },
      "source": [
        "from gensim.models import Word2Vec\n",
        "from multiprocessing import cpu_count\n",
        "\n",
        "cpu = cpu_count()\n",
        "print('The virtual instance has {} cpus, that will be used to train the word2vec model'.format(cpu))\n",
        "\n",
        "# We will just get the \"WordVectors\" parameter from the trained Word2Vec model.\n",
        "# Otherwise, we could continue training with some more exemples that could be\n",
        "# fed on the fly to the model.\n",
        "print(\"Training the W2V ...\")\n",
        "com = Word2Vec(comment_lemma, size=300, window=5, min_count=3, workers=cpu)\n",
        "com.train(comment_lemma, total_examples=len(comment_lemma), epochs=10)\n",
        "com_wv = com.wv"
      ],
      "execution_count": null,
      "outputs": [
        {
          "output_type": "stream",
          "text": [
            "The virtual instance has 2 cpus, that will be used to train the word2vec model\n",
            "Training the W2V ...\n"
          ],
          "name": "stdout"
        }
      ]
    },
    {
      "cell_type": "markdown",
      "metadata": {
        "id": "Ts4DVqWDWUGp"
      },
      "source": [
        "We wheck if it worked by looking at the words who have similar coordinates :"
      ]
    },
    {
      "cell_type": "code",
      "metadata": {
        "colab": {
          "base_uri": "https://localhost:8080/"
        },
        "id": "8ll55hpU_NuU",
        "outputId": "1a4a4b7b-d63d-430b-9510-8e7a8006805d"
      },
      "source": [
        "com_wv.most_similar(\"spoon\",topn=10)"
      ],
      "execution_count": null,
      "outputs": [
        {
          "output_type": "execute_result",
          "data": {
            "text/plain": [
              "[('fork', 0.5644612908363342),\n",
              " ('ladle', 0.5643641948699951),\n",
              " ('pour', 0.5552539825439453),\n",
              " ('scoop', 0.5335309505462646),\n",
              " ('spatula', 0.5307658910751343),\n",
              " ('bowl', 0.5007617473602295),\n",
              " ('spoonfuls', 0.4875357151031494),\n",
              " ('chopsticks', 0.46717891097068787),\n",
              " ('tongs', 0.4593963921070099),\n",
              " ('drizzle', 0.4490821361541748)]"
            ]
          },
          "metadata": {
            "tags": []
          },
          "execution_count": 20
        }
      ]
    },
    {
      "cell_type": "code",
      "metadata": {
        "colab": {
          "base_uri": "https://localhost:8080/"
        },
        "id": "h5Jb3YIvWduo",
        "outputId": "14357a27-39b2-4e4f-a208-c2e5e9f2a755"
      },
      "source": [
        "com_wv.most_similar(\"milk\",topn=10)"
      ],
      "execution_count": null,
      "outputs": [
        {
          "output_type": "execute_result",
          "data": {
            "text/plain": [
              "[('soymilk', 0.6285532712936401),\n",
              " ('buttermilk', 0.5831387042999268),\n",
              " ('half-and-half', 0.5487099885940552),\n",
              " ('milk-', 0.5472085475921631),\n",
              " ('flour', 0.53973388671875),\n",
              " ('water', 0.5243562459945679),\n",
              " ('creamer', 0.5197303295135498),\n",
              " ('half-n-half', 0.49407196044921875),\n",
              " ('margarine', 0.4906047582626343),\n",
              " ('cornstarch', 0.48718714714050293)]"
            ]
          },
          "metadata": {
            "tags": []
          },
          "execution_count": 21
        }
      ]
    },
    {
      "cell_type": "code",
      "metadata": {
        "colab": {
          "base_uri": "https://localhost:8080/"
        },
        "id": "LxmLP5_nWgEL",
        "outputId": "877f2015-834e-4249-84d9-4038281ad8a8"
      },
      "source": [
        "com_wv.most_similar(\"apple\",topn=10)"
      ],
      "execution_count": null,
      "outputs": [
        {
          "output_type": "execute_result",
          "data": {
            "text/plain": [
              "[('pear', 0.676551342010498),\n",
              " ('apples', 0.6024196147918701),\n",
              " ('cranberry', 0.5587449073791504),\n",
              " ('apple-cranberry', 0.51365727186203),\n",
              " ('orange', 0.5060592889785767),\n",
              " ('apple/pear', 0.5026308298110962),\n",
              " ('peach', 0.48651784658432007),\n",
              " ('pom', 0.48149317502975464),\n",
              " ('orange/pineapple', 0.47083160281181335),\n",
              " ('pecan', 0.4697345495223999)]"
            ]
          },
          "metadata": {
            "tags": []
          },
          "execution_count": 22
        }
      ]
    },
    {
      "cell_type": "markdown",
      "metadata": {
        "id": "MyC8mXtFbeIW"
      },
      "source": [
        "### Now we can prepare the datasets for the logistic regression"
      ]
    },
    {
      "cell_type": "code",
      "metadata": {
        "id": "ivuntlt0c3B_"
      },
      "source": [
        "import numpy as np\n",
        "import pandas as pd"
      ],
      "execution_count": null,
      "outputs": []
    },
    {
      "cell_type": "code",
      "metadata": {
        "id": "HhxaRzcPbjan"
      },
      "source": [
        "def document_vector(doc):\n",
        "    \"\"\"Create document vectors by averaging word vectors. Remove out-of-vocabulary words.\"\"\"\n",
        "    if doc == [] :\n",
        "        return [0.] * 300 #COMMENT TU DETERMINES LE 300 ? \n",
        "    doc = [word for word in doc if word in com.wv.vocab]\n",
        "    if doc == [] :\n",
        "        return [0.] * 300\n",
        "    return np.mean(com[doc], axis=0)"
      ],
      "execution_count": null,
      "outputs": []
    },
    {
      "cell_type": "code",
      "metadata": {
        "colab": {
          "base_uri": "https://localhost:8080/"
        },
        "id": "wWTd8uQTAa2N",
        "outputId": "8e5271ad-99ba-48e8-cbb8-0ad4cb7392bd"
      },
      "source": [
        "df_with_tokens['mean_word2vec_2'] = df_with_tokens['lemmas'].apply(document_vector)\n",
        "#df_with_tokens = df_with_tokens.assign(mean_word2vec = [[0.]*300]*len(df_with_tokens))"
      ],
      "execution_count": null,
      "outputs": [
        {
          "output_type": "stream",
          "text": [
            "/usr/local/lib/python3.7/dist-packages/ipykernel_launcher.py:8: DeprecationWarning: Call to deprecated `__getitem__` (Method will be removed in 4.0.0, use self.wv.__getitem__() instead).\n",
            "  \n"
          ],
          "name": "stderr"
        }
      ]
    },
    {
      "cell_type": "markdown",
      "metadata": {
        "id": "FpoPz2wnb_U3"
      },
      "source": [
        "#### We split in set of train, test and validation to do the regression and we save the datasets to be able to use the same datasets for bert"
      ]
    },
    {
      "cell_type": "code",
      "metadata": {
        "id": "qTHhY8frb_CE"
      },
      "source": [
        "from sklearn.model_selection import train_test_split\n",
        "\n",
        "\n",
        "X_train, X_test, y_train, y_test = train_test_split(df_with_tokens.drop(\"sentiment\", axis=1), df_with_tokens[\"sentiment\"], stratify=df_with_tokens[\"sentiment\"], test_size=0,3, train_size=0,7) \n",
        "X_train, X_val, y_train, y_val = train_test_split(X_train, y_train, stratify=y_train) "
      ],
      "execution_count": null,
      "outputs": []
    },
    {
      "cell_type": "code",
      "metadata": {
        "colab": {
          "base_uri": "https://localhost:8080/",
          "height": 295
        },
        "id": "PDmS7zXPOE3r",
        "outputId": "df1f1b98-1e88-40ea-821e-227ed74a3317"
      },
      "source": [
        "plt.figure()\n",
        "pd.value_counts(y_train).plot.bar(title=\"Sentiment distribution in df\")\n",
        "plt.xlabel(\"Sentiment\")\n",
        "plt.ylabel(\"No. of rows in df\")\n",
        "plt.show()"
      ],
      "execution_count": null,
      "outputs": [
        {
          "output_type": "display_data",
          "data": {
            "image/png": "[encoded data removed]",
            "text/plain": [
              "<Figure size 432x288 with 1 Axes>"
            ]
          },
          "metadata": {
            "tags": []
          }
        }
      ]
    },
    {
      "cell_type": "code",
      "metadata": {
        "colab": {
          "base_uri": "https://localhost:8080/"
        },
        "id": "dpVrCMWCOU_h",
        "outputId": "c5a553bb-b7b4-49ff-d1bf-522f1bc13a00"
      },
      "source": [
        "type(y_train)"
      ],
      "execution_count": null,
      "outputs": [
        {
          "output_type": "execute_result",
          "data": {
            "text/plain": [
              "pandas.core.series.Series"
            ]
          },
          "metadata": {
            "tags": []
          },
          "execution_count": 43
        }
      ]
    },
    {
      "cell_type": "code",
      "metadata": {
        "colab": {
          "base_uri": "https://localhost:8080/"
        },
        "id": "Hi_hoX7tIMz4",
        "outputId": "811de4d9-cc68-4cc1-ec2d-eb86e0932652"
      },
      "source": [
        "from google.colab import drive\n",
        "drive.mount(\"/content/drive\")"
      ],
      "execution_count": null,
      "outputs": [
        {
          "output_type": "stream",
          "text": [
            "Mounted at /content/drive\n"
          ],
          "name": "stdout"
        }
      ]
    },
    {
      "cell_type": "code",
      "metadata": {
        "colab": {
          "base_uri": "https://localhost:8080/"
        },
        "id": "Sg-09hnzOb4B",
        "outputId": "4f8ec2d7-6f41-4345-8078-4173ff2bd392"
      },
      "source": [
        "%cd \"/content/drive/MyDrive/ML for NLP/projet\"\n",
        "y_train.to_csv(\"y_train.csv\")\n",
        "y_test.to_csv(\"y_test.csv\")\n",
        "y_val.to_csv(\"y_val.csv\")"
      ],
      "execution_count": null,
      "outputs": [
        {
          "output_type": "stream",
          "text": [
            "/content/drive/MyDrive/ML for NLP/projet\n"
          ],
          "name": "stdout"
        }
      ]
    },
    {
      "cell_type": "code",
      "metadata": {
        "colab": {
          "base_uri": "https://localhost:8080/"
        },
        "id": "TUo_omX1djME",
        "outputId": "6885c983-b5b7-4fe1-a2b6-8a58b5af69e7"
      },
      "source": [
        "print(len(df_with_tokens),len(X_train),len(X_test),len(X_val))"
      ],
      "execution_count": null,
      "outputs": [
        {
          "output_type": "stream",
          "text": [
            "1071520 602730 267880 200910\n"
          ],
          "name": "stdout"
        }
      ]
    },
    {
      "cell_type": "code",
      "metadata": {
        "colab": {
          "base_uri": "https://localhost:8080/"
        },
        "id": "QN24SwTNV6Ag",
        "outputId": "d4d4a332-891b-484d-e7c7-c31423544fc3"
      },
      "source": [
        "%cd \"/content/drive/MyDrive/ML for NLP/projet\"\n",
        "X_train.to_csv(\"X_train.csv\")\n",
        "X_test.to_csv(\"X_test.csv\")\n",
        "X_val.to_csv(\"X_val.csv\")"
      ],
      "execution_count": null,
      "outputs": [
        {
          "output_type": "stream",
          "text": [
            "/content/drive/MyDrive/ML for NLP/projet\n"
          ],
          "name": "stdout"
        }
      ]
    },
    {
      "cell_type": "markdown",
      "metadata": {
        "id": "rzUh5Z4uGVHX"
      },
      "source": [
        "Split the dataset"
      ]
    },
    {
      "cell_type": "code",
      "metadata": {
        "colab": {
          "base_uri": "https://localhost:8080/",
          "height": 333
        },
        "id": "nRhqXwoNGRCc",
        "outputId": "e0be07a4-0feb-4e0d-bf64-29f0b3ad3522"
      },
      "source": [
        "plt.hist(df_with_tokens['rating'])"
      ],
      "execution_count": null,
      "outputs": [
        {
          "output_type": "execute_result",
          "data": {
            "text/plain": [
              "(array([  9241.,      0.,   2334.,      0.,   2572.,      0.,   9500.,\n",
              "             0.,  48038., 159952.]),\n",
              " array([0. , 0.5, 1. , 1.5, 2. , 2.5, 3. , 3.5, 4. , 4.5, 5. ]),\n",
              " <a list of 10 Patch objects>)"
            ]
          },
          "metadata": {
            "tags": []
          },
          "execution_count": 131
        },
        {
          "output_type": "display_data",
          "data": {
            "image/png": "[encoded data removed]",
            "text/plain": [
              "<Figure size 432x288 with 1 Axes>"
            ]
          },
          "metadata": {
            "tags": []
          }
        }
      ]
    },
    {
      "cell_type": "markdown",
      "metadata": {
        "id": "3WXdQ64MYyBN"
      },
      "source": [
        "#Embedded dataset saved on our Drive and reimported in order to go faster\n"
      ]
    },
    {
      "cell_type": "markdown",
      "metadata": {
        "id": "S6i6pMu8bFMy"
      },
      "source": [
        "#**Logistic regression**"
      ]
    },
    {
      "cell_type": "markdown",
      "metadata": {
        "id": "V3wQycNnQMQT"
      },
      "source": [
        "##Preparation of the dataset\n"
      ]
    },
    {
      "cell_type": "markdown",
      "metadata": {
        "id": "qkIlxw4QQm55"
      },
      "source": [
        "Import of packages that will serve all that part long"
      ]
    },
    {
      "cell_type": "code",
      "metadata": {
        "id": "fNvdUrGsQjhq"
      },
      "source": [
        "import pandas as pd\n",
        "import numpy as np\n",
        "import matplotlib.pyplot as plt\n",
        "import copy as c\n",
        "import seaborn as sn\n",
        "\n",
        "from itertools import count, filterfalse\n",
        "\n",
        "from sklearn import preprocessing\n",
        "from sklearn import metrics\n",
        "from sklearn.linear_model import LogisticRegression\n",
        "from sklearn.model_selection import GridSearchCV\n",
        "from sklearn.metrics import confusion_matrix\n",
        "from sklearn.metrics import classification_report\n",
        "from sklearn.metrics import roc_auc_score\n",
        "from sklearn.metrics import roc_curve\n",
        "\n",
        "#from mlxtend.plotting import plot_confusion_matrix\n",
        "#from mlxtend.evaluate import confusion_matrix"
      ],
      "execution_count": null,
      "outputs": []
    },
    {
      "cell_type": "markdown",
      "metadata": {
        "id": "21dn0VUWQT1c"
      },
      "source": [
        "We decided to create a whole dataset with the word2vec fitted and applied, save it online (Drive) and reupload it, in order to save time during the fit of our models"
      ]
    },
    {
      "cell_type": "code",
      "metadata": {
        "id": "lsUCgajpQK__",
        "colab": {
          "base_uri": "https://localhost:8080/"
        },
        "outputId": "b2575cd5-45e7-45fb-ef49-833a5515e6f7"
      },
      "source": [
        "from google.colab import drive\n",
        "drive.mount(\"/content/drive\")"
      ],
      "execution_count": null,
      "outputs": [
        {
          "output_type": "stream",
          "text": [
            "Drive already mounted at /content/drive; to attempt to forcibly remount, call drive.mount(\"/content/drive\", force_remount=True).\n"
          ],
          "name": "stdout"
        }
      ]
    },
    {
      "cell_type": "code",
      "metadata": {
        "id": "IqgftBWmQDO6"
      },
      "source": [
        "X_train = pd.read_csv(\"/content/drive/MyDrive/ML for NLP/projet/X_train.csv\")\n",
        "X_test = pd.read_csv(\"/content/drive/MyDrive/ML for NLP/projet/X_test.csv\")\n",
        "X_val = pd.read_csv(\"/content/drive/MyDrive/ML for NLP/projet/X_val.csv\")\n",
        "y_train = pd.read_csv(\"/content/drive/MyDrive/ML for NLP/projet/y_train.csv\")\n",
        "y_test = pd.read_csv(\"/content/drive/MyDrive/ML for NLP/projet/y_test.csv\")\n",
        "y_val = pd.read_csv(\"/content/drive/MyDrive/ML for NLP/projet/y_val.csv\")"
      ],
      "execution_count": null,
      "outputs": []
    },
    {
      "cell_type": "code",
      "metadata": {
        "id": "MtNu9BslQDiC"
      },
      "source": [
        "frac = .8\n",
        "X_train=X_train.drop(X_train.query('rating in [4,5]').sample(frac=frac, random_state = 42).index)\n",
        "X_test=X_test.drop(X_test.query('rating in [4,5]').sample(frac=frac, random_state = 42).index)\n",
        "X_val=X_val.drop(X_val.query('rating in [4,5]').sample(frac=frac, random_state = 42).index)\n",
        "y_train=y_train.drop(y_train.query('sentiment ==1 ').sample(frac=frac, random_state = 42).index)\n",
        "y_test=y_test.drop(y_test.query('sentiment ==1 ').sample(frac=frac, random_state = 42).index)\n",
        "y_val=y_val.drop(y_val.query('sentiment ==1 ').sample(frac=frac, random_state = 42).index)"
      ],
      "execution_count": null,
      "outputs": []
    },
    {
      "cell_type": "code",
      "metadata": {
        "id": "PTMsP5h8QAJv"
      },
      "source": [
        "def CleanBase(base):\n",
        "  \"\"\"Return the dataset without all the columns added while saving or treating the data\"\"\"\n",
        "  base = base[base.columns[~base.columns.str.contains('Unnamed:')]]\n",
        "  base = base[base.columns[~base.columns.str.contains('index')]]\n",
        "  return(base)\n",
        "\n",
        "X_train = CleanBase(X_train)\n",
        "X_test = CleanBase(X_test)\n",
        "X_val = CleanBase(X_val)\n",
        "y_train = CleanBase(y_train)\n",
        "y_test = CleanBase(y_test)\n",
        "y_val = CleanBase(y_val)"
      ],
      "execution_count": null,
      "outputs": []
    },
    {
      "cell_type": "markdown",
      "metadata": {
        "id": "2NM2VbMeholA"
      },
      "source": [
        "Now every dataset is clean\n",
        "\n",
        "---\n",
        "For that part, we do not need the validation set. It was done so that we can apply it on BERT. Here we merge them and will use cross-validation while fitting the logistic regression."
      ]
    },
    {
      "cell_type": "code",
      "metadata": {
        "id": "7t4ETEnWhCgR"
      },
      "source": [
        "X_train1 = pd.concat((X_train,X_val),axis=0,ignore_index=True)\n",
        "y_train1 = pd.concat((y_train,y_val),axis=0,ignore_index=True)"
      ],
      "execution_count": null,
      "outputs": []
    },
    {
      "cell_type": "markdown",
      "metadata": {
        "id": "2dP24v6oR_OM"
      },
      "source": [
        "Just a little check in order to see if histograms still look the same way they did before the last block. It is fine !"
      ]
    },
    {
      "cell_type": "code",
      "metadata": {
        "colab": {
          "base_uri": "https://localhost:8080/",
          "height": 339
        },
        "id": "YVL8NwrYKtDE",
        "outputId": "faee6397-9153-471c-b270-c13e467ef1e5"
      },
      "source": [
        "plt.hist(y_test['sentiment'])"
      ],
      "execution_count": null,
      "outputs": [
        {
          "output_type": "execute_result",
          "data": {
            "text/plain": [
              "(array([ 6735.,     0.,     0.,     0.,     0., 10214.,     0.,     0.,\n",
              "            0., 50186.]),\n",
              " array([-1. , -0.8, -0.6, -0.4, -0.2,  0. ,  0.2,  0.4,  0.6,  0.8,  1. ]),\n",
              " <a list of 10 Patch objects>)"
            ]
          },
          "metadata": {
            "tags": []
          },
          "execution_count": 39
        },
        {
          "output_type": "display_data",
          "data": {
            "image/png": "[encoded data removed]",
            "text/plain": [
              "<Figure size 432x288 with 1 Axes>"
            ]
          },
          "metadata": {
            "tags": []
          }
        }
      ]
    },
    {
      "cell_type": "markdown",
      "metadata": {
        "id": "UahwQoWgSJuv"
      },
      "source": [
        "While saving on the drive, our column of vectors of embedded word saved in a strange way. Instead of being a list, it was a string written that way \"[1 2 3]\". Therefore, we had to create that function which take the column and create (in the little example above), 3 columns containing respectively 1 2 and 3. This will serve as the input for our logistic regression"
      ]
    },
    {
      "cell_type": "code",
      "metadata": {
        "id": "F3WfwDZm_x6o"
      },
      "source": [
        "## Only keep the column with embbeded words\n",
        "Real_train = X_train1[\"mean_word2vec_2\"]\n",
        "Real_test = X_test[\"mean_word2vec_2\"]\n",
        "\n",
        "def CorrectImportedColumn(stringList):\n",
        "  \"\"\"goes from \"[1   2  3]\" to [1,2,3] \"\"\"\n",
        "  L=[]\n",
        "  for x in stringList.split(\" \"):\n",
        "    if \"]\" in x :\n",
        "      x = x.replace(\"]\", \" \")\n",
        "    elif \"[\" in x : \n",
        "      x = x.replace(\"[\", \" \")\n",
        "    try:\n",
        "      L.append(float(x))\n",
        "    except:\n",
        "      pass\n",
        "  return L"
      ],
      "execution_count": null,
      "outputs": []
    },
    {
      "cell_type": "code",
      "metadata": {
        "id": "1qEvSTvqBLqz"
      },
      "source": [
        "def CorrectAndReshape(Real_train):\n",
        "  df_train = pd.DataFrame(Real_train) #Create a serie\n",
        "  corrected_train = df_train[\"mean_word2vec_2\"].apply(CorrectImportedColumn) #Correct the problem when we imported\n",
        "  #Takes every list in every index and pivot the table\n",
        "  L = [i for i in corrected_train.values]\n",
        "  df = pd.DataFrame.from_records(L)\n",
        "  return df"
      ],
      "execution_count": null,
      "outputs": []
    },
    {
      "cell_type": "code",
      "metadata": {
        "id": "lLzRVSc4Hd1L"
      },
      "source": [
        "X_trainf = CorrectAndReshape(Real_train)\n",
        "X_testf = CorrectAndReshape(Real_test)"
      ],
      "execution_count": null,
      "outputs": []
    },
    {
      "cell_type": "code",
      "metadata": {
        "id": "ro5zCDQNTb_6"
      },
      "source": [
        "y_testf = c.deepcopy(y_test) #Just to homogeneize notations."
      ],
      "execution_count": null,
      "outputs": []
    },
    {
      "cell_type": "markdown",
      "metadata": {
        "id": "C6vgOybuSqt_"
      },
      "source": [
        "Now the embedded vectors look that way :"
      ]
    },
    {
      "cell_type": "code",
      "metadata": {
        "id": "D4upA0TzSocx",
        "colab": {
          "base_uri": "https://localhost:8080/",
          "height": 253
        },
        "outputId": "0c2b6f11-cd33-479e-f5b9-0448d024173d"
      },
      "source": [
        "X_trainf.head()"
      ],
      "execution_count": null,
      "outputs": [
        {
          "output_type": "execute_result",
          "data": {
            "text/html": [
              "<div>\n",
              "<style scoped>\n",
              "    .dataframe tbody tr th:only-of-type {\n",
              "        vertical-align: middle;\n",
              "    }\n",
              "\n",
              "    .dataframe tbody tr th {\n",
              "        vertical-align: top;\n",
              "    }\n",
              "\n",
              "    .dataframe thead th {\n",
              "        text-align: right;\n",
              "    }\n",
              "</style>\n",
              "<table border=\"1\" class=\"dataframe\">\n",
              "  <thead>\n",
              "    <tr style=\"text-align: right;\">\n",
              "      <th></th>\n",
              "      <th>0</th>\n",
              "      <th>1</th>\n",
              "      <th>2</th>\n",
              "      <th>3</th>\n",
              "      <th>4</th>\n",
              "      <th>5</th>\n",
              "      <th>6</th>\n",
              "      <th>7</th>\n",
              "      <th>8</th>\n",
              "      <th>9</th>\n",
              "      <th>10</th>\n",
              "      <th>11</th>\n",
              "      <th>12</th>\n",
              "      <th>13</th>\n",
              "      <th>14</th>\n",
              "      <th>15</th>\n",
              "      <th>16</th>\n",
              "      <th>17</th>\n",
              "      <th>18</th>\n",
              "      <th>19</th>\n",
              "      <th>20</th>\n",
              "      <th>21</th>\n",
              "      <th>22</th>\n",
              "      <th>23</th>\n",
              "      <th>24</th>\n",
              "      <th>25</th>\n",
              "      <th>26</th>\n",
              "      <th>27</th>\n",
              "      <th>28</th>\n",
              "      <th>29</th>\n",
              "      <th>30</th>\n",
              "      <th>31</th>\n",
              "      <th>32</th>\n",
              "      <th>33</th>\n",
              "      <th>34</th>\n",
              "      <th>35</th>\n",
              "      <th>36</th>\n",
              "      <th>37</th>\n",
              "      <th>38</th>\n",
              "      <th>39</th>\n",
              "      <th>...</th>\n",
              "      <th>260</th>\n",
              "      <th>261</th>\n",
              "      <th>262</th>\n",
              "      <th>263</th>\n",
              "      <th>264</th>\n",
              "      <th>265</th>\n",
              "      <th>266</th>\n",
              "      <th>267</th>\n",
              "      <th>268</th>\n",
              "      <th>269</th>\n",
              "      <th>270</th>\n",
              "      <th>271</th>\n",
              "      <th>272</th>\n",
              "      <th>273</th>\n",
              "      <th>274</th>\n",
              "      <th>275</th>\n",
              "      <th>276</th>\n",
              "      <th>277</th>\n",
              "      <th>278</th>\n",
              "      <th>279</th>\n",
              "      <th>280</th>\n",
              "      <th>281</th>\n",
              "      <th>282</th>\n",
              "      <th>283</th>\n",
              "      <th>284</th>\n",
              "      <th>285</th>\n",
              "      <th>286</th>\n",
              "      <th>287</th>\n",
              "      <th>288</th>\n",
              "      <th>289</th>\n",
              "      <th>290</th>\n",
              "      <th>291</th>\n",
              "      <th>292</th>\n",
              "      <th>293</th>\n",
              "      <th>294</th>\n",
              "      <th>295</th>\n",
              "      <th>296</th>\n",
              "      <th>297</th>\n",
              "      <th>298</th>\n",
              "      <th>299</th>\n",
              "    </tr>\n",
              "  </thead>\n",
              "  <tbody>\n",
              "    <tr>\n",
              "      <th>0</th>\n",
              "      <td>0.361139</td>\n",
              "      <td>0.700397</td>\n",
              "      <td>0.025962</td>\n",
              "      <td>0.126612</td>\n",
              "      <td>-0.348062</td>\n",
              "      <td>-0.160705</td>\n",
              "      <td>-0.035120</td>\n",
              "      <td>-0.021784</td>\n",
              "      <td>-0.120864</td>\n",
              "      <td>-0.415992</td>\n",
              "      <td>-0.240749</td>\n",
              "      <td>0.000077</td>\n",
              "      <td>0.168575</td>\n",
              "      <td>-0.131155</td>\n",
              "      <td>-0.154086</td>\n",
              "      <td>0.207328</td>\n",
              "      <td>0.117407</td>\n",
              "      <td>-0.028540</td>\n",
              "      <td>-0.018167</td>\n",
              "      <td>0.044024</td>\n",
              "      <td>0.005366</td>\n",
              "      <td>0.065840</td>\n",
              "      <td>0.315978</td>\n",
              "      <td>-0.336763</td>\n",
              "      <td>-0.507644</td>\n",
              "      <td>-0.348578</td>\n",
              "      <td>0.656264</td>\n",
              "      <td>-0.236954</td>\n",
              "      <td>-0.098317</td>\n",
              "      <td>0.190024</td>\n",
              "      <td>0.147771</td>\n",
              "      <td>-0.424870</td>\n",
              "      <td>0.360192</td>\n",
              "      <td>0.316189</td>\n",
              "      <td>-0.093414</td>\n",
              "      <td>0.225286</td>\n",
              "      <td>0.102143</td>\n",
              "      <td>0.275029</td>\n",
              "      <td>-0.341894</td>\n",
              "      <td>-0.093871</td>\n",
              "      <td>...</td>\n",
              "      <td>0.499369</td>\n",
              "      <td>0.019366</td>\n",
              "      <td>-0.234570</td>\n",
              "      <td>-0.039964</td>\n",
              "      <td>-0.131086</td>\n",
              "      <td>-0.247897</td>\n",
              "      <td>0.227595</td>\n",
              "      <td>0.076450</td>\n",
              "      <td>0.207003</td>\n",
              "      <td>0.031316</td>\n",
              "      <td>0.355199</td>\n",
              "      <td>0.072011</td>\n",
              "      <td>0.073910</td>\n",
              "      <td>0.349563</td>\n",
              "      <td>0.359636</td>\n",
              "      <td>0.357523</td>\n",
              "      <td>-0.176718</td>\n",
              "      <td>0.103576</td>\n",
              "      <td>0.226480</td>\n",
              "      <td>-0.506192</td>\n",
              "      <td>0.146630</td>\n",
              "      <td>-0.058243</td>\n",
              "      <td>-0.202095</td>\n",
              "      <td>0.313830</td>\n",
              "      <td>0.578622</td>\n",
              "      <td>-0.375166</td>\n",
              "      <td>0.255873</td>\n",
              "      <td>-0.259755</td>\n",
              "      <td>-0.250018</td>\n",
              "      <td>0.431011</td>\n",
              "      <td>0.474111</td>\n",
              "      <td>-0.048458</td>\n",
              "      <td>0.405175</td>\n",
              "      <td>-0.071813</td>\n",
              "      <td>0.222128</td>\n",
              "      <td>0.098108</td>\n",
              "      <td>0.316684</td>\n",
              "      <td>-0.629430</td>\n",
              "      <td>-0.052846</td>\n",
              "      <td>-0.098649</td>\n",
              "    </tr>\n",
              "    <tr>\n",
              "      <th>1</th>\n",
              "      <td>0.440607</td>\n",
              "      <td>-0.296901</td>\n",
              "      <td>-1.060356</td>\n",
              "      <td>-0.779760</td>\n",
              "      <td>0.852364</td>\n",
              "      <td>0.026873</td>\n",
              "      <td>0.682631</td>\n",
              "      <td>-0.384882</td>\n",
              "      <td>-0.657682</td>\n",
              "      <td>0.105824</td>\n",
              "      <td>-0.145497</td>\n",
              "      <td>0.113917</td>\n",
              "      <td>0.121703</td>\n",
              "      <td>0.196869</td>\n",
              "      <td>-0.064902</td>\n",
              "      <td>0.484823</td>\n",
              "      <td>-0.463973</td>\n",
              "      <td>-0.079697</td>\n",
              "      <td>0.094471</td>\n",
              "      <td>-0.298897</td>\n",
              "      <td>-0.183754</td>\n",
              "      <td>0.840173</td>\n",
              "      <td>0.687940</td>\n",
              "      <td>0.223870</td>\n",
              "      <td>-0.346832</td>\n",
              "      <td>0.343095</td>\n",
              "      <td>1.430743</td>\n",
              "      <td>-0.448194</td>\n",
              "      <td>-0.257844</td>\n",
              "      <td>0.666278</td>\n",
              "      <td>0.108648</td>\n",
              "      <td>-0.151323</td>\n",
              "      <td>-0.827161</td>\n",
              "      <td>-0.363806</td>\n",
              "      <td>0.031650</td>\n",
              "      <td>-0.240986</td>\n",
              "      <td>0.684409</td>\n",
              "      <td>0.195957</td>\n",
              "      <td>-0.223706</td>\n",
              "      <td>-0.429467</td>\n",
              "      <td>...</td>\n",
              "      <td>-0.176903</td>\n",
              "      <td>-0.460993</td>\n",
              "      <td>0.066438</td>\n",
              "      <td>-0.524102</td>\n",
              "      <td>-0.458269</td>\n",
              "      <td>-0.067526</td>\n",
              "      <td>0.196434</td>\n",
              "      <td>0.506181</td>\n",
              "      <td>0.127738</td>\n",
              "      <td>-0.088853</td>\n",
              "      <td>-0.436991</td>\n",
              "      <td>0.314649</td>\n",
              "      <td>-0.103415</td>\n",
              "      <td>-0.026264</td>\n",
              "      <td>0.597745</td>\n",
              "      <td>0.080465</td>\n",
              "      <td>0.064837</td>\n",
              "      <td>-0.478440</td>\n",
              "      <td>0.081926</td>\n",
              "      <td>-0.102634</td>\n",
              "      <td>0.318243</td>\n",
              "      <td>-0.581657</td>\n",
              "      <td>0.238947</td>\n",
              "      <td>0.449897</td>\n",
              "      <td>0.160387</td>\n",
              "      <td>-0.099716</td>\n",
              "      <td>0.351317</td>\n",
              "      <td>-0.074427</td>\n",
              "      <td>-0.545365</td>\n",
              "      <td>-0.005380</td>\n",
              "      <td>-0.771128</td>\n",
              "      <td>0.166236</td>\n",
              "      <td>0.077359</td>\n",
              "      <td>0.456944</td>\n",
              "      <td>0.479853</td>\n",
              "      <td>-0.548067</td>\n",
              "      <td>-0.434592</td>\n",
              "      <td>-0.426942</td>\n",
              "      <td>-0.183136</td>\n",
              "      <td>0.441591</td>\n",
              "    </tr>\n",
              "    <tr>\n",
              "      <th>2</th>\n",
              "      <td>0.328963</td>\n",
              "      <td>0.268318</td>\n",
              "      <td>-0.307342</td>\n",
              "      <td>-0.016611</td>\n",
              "      <td>0.257796</td>\n",
              "      <td>0.221703</td>\n",
              "      <td>-0.171041</td>\n",
              "      <td>0.140330</td>\n",
              "      <td>-0.145939</td>\n",
              "      <td>-0.492998</td>\n",
              "      <td>-0.251020</td>\n",
              "      <td>0.009930</td>\n",
              "      <td>-0.269722</td>\n",
              "      <td>0.250951</td>\n",
              "      <td>-0.131152</td>\n",
              "      <td>0.185431</td>\n",
              "      <td>0.126072</td>\n",
              "      <td>0.272908</td>\n",
              "      <td>0.085616</td>\n",
              "      <td>-0.267367</td>\n",
              "      <td>0.104637</td>\n",
              "      <td>0.353382</td>\n",
              "      <td>-0.224578</td>\n",
              "      <td>-0.345669</td>\n",
              "      <td>-0.295504</td>\n",
              "      <td>-0.138965</td>\n",
              "      <td>0.065586</td>\n",
              "      <td>-0.158323</td>\n",
              "      <td>0.196914</td>\n",
              "      <td>0.085711</td>\n",
              "      <td>-0.317797</td>\n",
              "      <td>-0.092707</td>\n",
              "      <td>0.025260</td>\n",
              "      <td>-0.113107</td>\n",
              "      <td>0.210677</td>\n",
              "      <td>0.061159</td>\n",
              "      <td>-0.037792</td>\n",
              "      <td>-0.191913</td>\n",
              "      <td>0.181281</td>\n",
              "      <td>-0.093402</td>\n",
              "      <td>...</td>\n",
              "      <td>0.169289</td>\n",
              "      <td>0.039638</td>\n",
              "      <td>0.060173</td>\n",
              "      <td>-0.472228</td>\n",
              "      <td>0.188720</td>\n",
              "      <td>-0.048676</td>\n",
              "      <td>0.155994</td>\n",
              "      <td>-0.353672</td>\n",
              "      <td>-0.129455</td>\n",
              "      <td>-0.054153</td>\n",
              "      <td>0.213628</td>\n",
              "      <td>-0.601760</td>\n",
              "      <td>0.090020</td>\n",
              "      <td>-0.154495</td>\n",
              "      <td>-0.166961</td>\n",
              "      <td>0.544947</td>\n",
              "      <td>0.076556</td>\n",
              "      <td>-0.203587</td>\n",
              "      <td>0.233329</td>\n",
              "      <td>-0.359639</td>\n",
              "      <td>-0.134408</td>\n",
              "      <td>-0.273960</td>\n",
              "      <td>0.139598</td>\n",
              "      <td>0.489805</td>\n",
              "      <td>0.225018</td>\n",
              "      <td>-0.505013</td>\n",
              "      <td>0.009918</td>\n",
              "      <td>0.010474</td>\n",
              "      <td>-0.780508</td>\n",
              "      <td>-0.201879</td>\n",
              "      <td>-0.013283</td>\n",
              "      <td>-0.504800</td>\n",
              "      <td>0.203724</td>\n",
              "      <td>-0.064106</td>\n",
              "      <td>0.057440</td>\n",
              "      <td>0.045624</td>\n",
              "      <td>0.270130</td>\n",
              "      <td>-0.597596</td>\n",
              "      <td>0.185421</td>\n",
              "      <td>0.013442</td>\n",
              "    </tr>\n",
              "    <tr>\n",
              "      <th>3</th>\n",
              "      <td>-0.041573</td>\n",
              "      <td>0.285495</td>\n",
              "      <td>-0.098942</td>\n",
              "      <td>0.196908</td>\n",
              "      <td>0.221720</td>\n",
              "      <td>-0.193145</td>\n",
              "      <td>0.405995</td>\n",
              "      <td>-0.024368</td>\n",
              "      <td>0.386893</td>\n",
              "      <td>0.016824</td>\n",
              "      <td>-0.053072</td>\n",
              "      <td>0.119964</td>\n",
              "      <td>0.086895</td>\n",
              "      <td>-0.399730</td>\n",
              "      <td>0.238230</td>\n",
              "      <td>0.538310</td>\n",
              "      <td>0.120167</td>\n",
              "      <td>0.057379</td>\n",
              "      <td>0.352130</td>\n",
              "      <td>0.221182</td>\n",
              "      <td>0.425698</td>\n",
              "      <td>0.172329</td>\n",
              "      <td>0.572386</td>\n",
              "      <td>0.384836</td>\n",
              "      <td>-0.356928</td>\n",
              "      <td>0.418121</td>\n",
              "      <td>0.185250</td>\n",
              "      <td>-0.589648</td>\n",
              "      <td>-0.094370</td>\n",
              "      <td>-0.248645</td>\n",
              "      <td>-0.112954</td>\n",
              "      <td>0.016706</td>\n",
              "      <td>-0.287036</td>\n",
              "      <td>-0.368544</td>\n",
              "      <td>0.523358</td>\n",
              "      <td>0.522307</td>\n",
              "      <td>0.280166</td>\n",
              "      <td>-0.320449</td>\n",
              "      <td>-0.421449</td>\n",
              "      <td>0.132786</td>\n",
              "      <td>...</td>\n",
              "      <td>0.061639</td>\n",
              "      <td>-0.102538</td>\n",
              "      <td>-0.340503</td>\n",
              "      <td>-0.251292</td>\n",
              "      <td>-0.516269</td>\n",
              "      <td>-0.188813</td>\n",
              "      <td>0.093970</td>\n",
              "      <td>0.306285</td>\n",
              "      <td>-0.494952</td>\n",
              "      <td>0.511804</td>\n",
              "      <td>0.078733</td>\n",
              "      <td>0.159824</td>\n",
              "      <td>0.203469</td>\n",
              "      <td>-0.744727</td>\n",
              "      <td>-0.128600</td>\n",
              "      <td>0.239356</td>\n",
              "      <td>0.183465</td>\n",
              "      <td>0.510769</td>\n",
              "      <td>-0.046354</td>\n",
              "      <td>-0.373008</td>\n",
              "      <td>-0.049812</td>\n",
              "      <td>-0.208010</td>\n",
              "      <td>0.387676</td>\n",
              "      <td>0.061034</td>\n",
              "      <td>0.142609</td>\n",
              "      <td>-0.572830</td>\n",
              "      <td>0.199082</td>\n",
              "      <td>0.217006</td>\n",
              "      <td>-0.646565</td>\n",
              "      <td>-0.081270</td>\n",
              "      <td>-0.147564</td>\n",
              "      <td>-0.113105</td>\n",
              "      <td>0.302922</td>\n",
              "      <td>0.582214</td>\n",
              "      <td>0.356327</td>\n",
              "      <td>-0.033211</td>\n",
              "      <td>0.618588</td>\n",
              "      <td>-0.130024</td>\n",
              "      <td>0.146713</td>\n",
              "      <td>0.488564</td>\n",
              "    </tr>\n",
              "    <tr>\n",
              "      <th>4</th>\n",
              "      <td>0.188624</td>\n",
              "      <td>0.359383</td>\n",
              "      <td>-0.143978</td>\n",
              "      <td>0.092245</td>\n",
              "      <td>-0.013974</td>\n",
              "      <td>-0.254321</td>\n",
              "      <td>0.257897</td>\n",
              "      <td>-0.229316</td>\n",
              "      <td>0.431234</td>\n",
              "      <td>-0.007688</td>\n",
              "      <td>-0.373190</td>\n",
              "      <td>0.328222</td>\n",
              "      <td>0.093600</td>\n",
              "      <td>-0.357468</td>\n",
              "      <td>-0.286912</td>\n",
              "      <td>0.301872</td>\n",
              "      <td>-0.113753</td>\n",
              "      <td>0.264179</td>\n",
              "      <td>-0.043600</td>\n",
              "      <td>-0.156588</td>\n",
              "      <td>-0.980786</td>\n",
              "      <td>0.172408</td>\n",
              "      <td>0.341719</td>\n",
              "      <td>-0.572470</td>\n",
              "      <td>-0.667422</td>\n",
              "      <td>0.149661</td>\n",
              "      <td>0.163976</td>\n",
              "      <td>-0.446878</td>\n",
              "      <td>-0.441208</td>\n",
              "      <td>0.175522</td>\n",
              "      <td>-0.592755</td>\n",
              "      <td>-0.116359</td>\n",
              "      <td>-0.195653</td>\n",
              "      <td>0.185623</td>\n",
              "      <td>-0.094891</td>\n",
              "      <td>0.060259</td>\n",
              "      <td>0.803994</td>\n",
              "      <td>0.138027</td>\n",
              "      <td>-0.187425</td>\n",
              "      <td>-0.010991</td>\n",
              "      <td>...</td>\n",
              "      <td>0.575011</td>\n",
              "      <td>-0.315175</td>\n",
              "      <td>-0.050563</td>\n",
              "      <td>0.327880</td>\n",
              "      <td>-0.793584</td>\n",
              "      <td>-1.023055</td>\n",
              "      <td>-0.631278</td>\n",
              "      <td>0.405471</td>\n",
              "      <td>-0.072927</td>\n",
              "      <td>0.630646</td>\n",
              "      <td>0.240928</td>\n",
              "      <td>0.208834</td>\n",
              "      <td>-0.284597</td>\n",
              "      <td>-0.139411</td>\n",
              "      <td>-0.038369</td>\n",
              "      <td>0.174887</td>\n",
              "      <td>0.320388</td>\n",
              "      <td>0.889113</td>\n",
              "      <td>-0.008509</td>\n",
              "      <td>-0.407064</td>\n",
              "      <td>0.314691</td>\n",
              "      <td>-0.120373</td>\n",
              "      <td>0.099296</td>\n",
              "      <td>0.466771</td>\n",
              "      <td>-0.359011</td>\n",
              "      <td>-0.221555</td>\n",
              "      <td>-0.035926</td>\n",
              "      <td>-0.061991</td>\n",
              "      <td>-0.606654</td>\n",
              "      <td>-0.395437</td>\n",
              "      <td>-0.130936</td>\n",
              "      <td>0.433510</td>\n",
              "      <td>-0.083199</td>\n",
              "      <td>-0.353138</td>\n",
              "      <td>-0.217520</td>\n",
              "      <td>0.086826</td>\n",
              "      <td>0.464018</td>\n",
              "      <td>0.053479</td>\n",
              "      <td>-0.273338</td>\n",
              "      <td>0.227373</td>\n",
              "    </tr>\n",
              "  </tbody>\n",
              "</table>\n",
              "<p>5 rows × 300 columns</p>\n",
              "</div>"
            ],
            "text/plain": [
              "        0         1         2    ...       297       298       299\n",
              "0  0.361139  0.700397  0.025962  ... -0.629430 -0.052846 -0.098649\n",
              "1  0.440607 -0.296901 -1.060356  ... -0.426942 -0.183136  0.441591\n",
              "2  0.328963  0.268318 -0.307342  ... -0.597596  0.185421  0.013442\n",
              "3 -0.041573  0.285495 -0.098942  ... -0.130024  0.146713  0.488564\n",
              "4  0.188624  0.359383 -0.143978  ...  0.053479 -0.273338  0.227373\n",
              "\n",
              "[5 rows x 300 columns]"
            ]
          },
          "metadata": {
            "tags": []
          },
          "execution_count": 44
        }
      ]
    },
    {
      "cell_type": "markdown",
      "metadata": {
        "id": "NdUQiYZXTeb0"
      },
      "source": [
        "Another problem we had is that the function above may failed on several atypic exampls. Therefore, they would be a NaN in the middle of the dataset. This would be a problem to fit our model. We decided to drop the observation (in fact there is just one) that has a NaN in its row. We take the index of that row and delete the corresponding row in y_train."
      ]
    },
    {
      "cell_type": "code",
      "metadata": {
        "id": "hRjsxvq1UCbL",
        "colab": {
          "base_uri": "https://localhost:8080/"
        },
        "outputId": "2537a878-95af-41dd-98f1-4228e3b2c12f"
      },
      "source": [
        "print(\"Is there any NaN in X_trainf?\", np.any(np.isnan(X_trainf)))\n",
        "print(\"Is there any NaN in X_testf?\", np.any(np.isnan(X_testf)))"
      ],
      "execution_count": null,
      "outputs": [
        {
          "output_type": "stream",
          "text": [
            "Is there any NaN in X_trainf? True\n",
            "Is there any NaN in X_testf? True\n"
          ],
          "name": "stdout"
        }
      ]
    },
    {
      "cell_type": "code",
      "metadata": {
        "id": "_A4sL8CNjhka"
      },
      "source": [
        "def clean_dataset(df1,y1):\n",
        "    df = c.deepcopy(df1) #Avoid changing the input of the function\n",
        "    y2 = pd.DataFrame(y1)\n",
        "    y = c.deepcopy(y2)\n",
        "    y = y.reset_index()\n",
        "    y = CleanBase(y)\n",
        "    assert isinstance(df, pd.DataFrame), \"df needs to be a pd.DataFrame\"\n",
        "    indices_to_keep = ~df.isin([np.nan, np.inf, -np.inf]).any(1)\n",
        "    indices_suppr = np.where(indices_to_keep.values == False)\n",
        "    ListeOfKeptIndex = list(df[indices_to_keep].astype(np.float64).index)\n",
        "    #We delete the corresponding row in the y vector\n",
        "    y.drop(index=indices_suppr[0], inplace=True)\n",
        "    return (df[indices_to_keep].astype(np.float64),y)"
      ],
      "execution_count": null,
      "outputs": []
    },
    {
      "cell_type": "code",
      "metadata": {
        "id": "NMmBIBU3JwKH"
      },
      "source": [
        "X_train, y_train = clean_dataset(X_trainf,y_train1)\n",
        "X_test, y_test = clean_dataset(X_testf,y_testf)"
      ],
      "execution_count": null,
      "outputs": []
    },
    {
      "cell_type": "markdown",
      "metadata": {
        "id": "n_hdGwXzURNb"
      },
      "source": [
        "Now, just a little check in order to be sure X and y have same length."
      ]
    },
    {
      "cell_type": "code",
      "metadata": {
        "colab": {
          "base_uri": "https://localhost:8080/"
        },
        "id": "_SwYGGcaM-qy",
        "outputId": "a4130df0-8d28-4633-874d-5579896aa00e"
      },
      "source": [
        "print(len(X_train),len(y_train))\n",
        "print(len(X_test),len(y_test))"
      ],
      "execution_count": null,
      "outputs": [
        {
          "output_type": "stream",
          "text": [
            "201392 201392\n",
            "67127 67127\n"
          ],
          "name": "stdout"
        }
      ]
    },
    {
      "cell_type": "markdown",
      "metadata": {
        "id": "CJfrp5M8WLTL"
      },
      "source": [
        "## Optimization of hyperparameters for the logistic regression"
      ]
    },
    {
      "cell_type": "markdown",
      "metadata": {
        "id": "zaExDGdTWRt6"
      },
      "source": [
        "The logistic regression has the advantage to deal with unbalanced dataset. We compute the proportion of every class in order to put it in our logistic regression"
      ]
    },
    {
      "cell_type": "code",
      "metadata": {
        "id": "CgVxit_I-sH0",
        "colab": {
          "base_uri": "https://localhost:8080/"
        },
        "outputId": "8ae46541-c01a-4d4a-e7d4-6a9c03262187"
      },
      "source": [
        "nbOne = len(y_train[y_train.sentiment ==1])\n",
        "nbZero = len(y_train[y_train.sentiment ==0])\n",
        "nbMOne = len(y_train[y_train.sentiment ==-1])\n",
        "PropOne = nbOne/(nbOne+nbZero+nbMOne)\n",
        "PropZero = nbZero/(nbOne+nbZero+nbMOne)\n",
        "PropMOne = nbMOne/(nbOne+nbZero+nbMOne)\n",
        "poid_classe = {-1:PropMOne, 0:PropZero, 1:PropOne}\n",
        "poid_classe"
      ],
      "execution_count": null,
      "outputs": [
        {
          "output_type": "execute_result",
          "data": {
            "text/plain": [
              "{-1: 0.10030189878446016, 0: 0.15213613251767696, 1: 0.7475619686978628}"
            ]
          },
          "metadata": {
            "tags": []
          },
          "execution_count": 49
        }
      ]
    },
    {
      "cell_type": "code",
      "metadata": {
        "id": "DbVY5SVHjDgd",
        "colab": {
          "base_uri": "https://localhost:8080/"
        },
        "outputId": "27f08263-293a-4719-ffd5-b6726b5bf177"
      },
      "source": [
        "logreg = LogisticRegression(C= 4, penalty= 'l2', verbose= 0, class_weight=poid_classe, solver='sag', multi_class='multinomial')# {'C': 4, 'penalty': 'l1', 'verbose': 0}\n",
        "#The solver lbfgs only supports L2 penalisation norm. Hence we do not use L1 or Elasticnet penalization\n",
        "logreg.fit(X_train, y_train.sentiment)\n",
        "logreg.score(X_test, y_test.sentiment)\n",
        "y_pred=logreg.predict(X_test)"
      ],
      "execution_count": null,
      "outputs": [
        {
          "output_type": "stream",
          "text": [
            "/usr/local/lib/python3.7/dist-packages/sklearn/linear_model/_sag.py:330: ConvergenceWarning: The max_iter was reached which means the coef_ did not converge\n",
            "  \"the coef_ did not converge\", ConvergenceWarning)\n"
          ],
          "name": "stderr"
        }
      ]
    },
    {
      "cell_type": "code",
      "metadata": {
        "colab": {
          "base_uri": "https://localhost:8080/"
        },
        "id": "p1swT98io0UI",
        "outputId": "3c1d1565-8803-441e-ff26-214a025d1a55"
      },
      "source": [
        "logreg1 = LogisticRegression(C= 10, penalty= 'l2', verbose= 1, class_weight=poid_classe, multi_class='multinomial')# {'C': 4, 'penalty': 'l1', 'verbose': 0}\n",
        "#The solver lbfgs only supports L2 penalisation norm. Hence we do not use L1 or Elasticnet penalization\n",
        "logreg1.fit(X_train, y_train.sentiment)\n",
        "logreg1.score(X_test, y_test.sentiment)\n",
        "y_pred1=logreg1.predict(X_test)"
      ],
      "execution_count": null,
      "outputs": [
        {
          "output_type": "stream",
          "text": [
            "[Parallel(n_jobs=1)]: Using backend SequentialBackend with 1 concurrent workers.\n",
            "/usr/local/lib/python3.7/dist-packages/sklearn/linear_model/_logistic.py:940: ConvergenceWarning: lbfgs failed to converge (status=1):\n",
            "STOP: TOTAL NO. of ITERATIONS REACHED LIMIT.\n",
            "\n",
            "Increase the number of iterations (max_iter) or scale the data as shown in:\n",
            "    https://scikit-learn.org/stable/modules/preprocessing.html\n",
            "Please also refer to the documentation for alternative solver options:\n",
            "    https://scikit-learn.org/stable/modules/linear_model.html#logistic-regression\n",
            "  extra_warning_msg=_LOGISTIC_SOLVER_CONVERGENCE_MSG)\n",
            "[Parallel(n_jobs=1)]: Done   1 out of   1 | elapsed:   38.0s finished\n"
          ],
          "name": "stderr"
        }
      ]
    },
    {
      "cell_type": "code",
      "metadata": {
        "colab": {
          "base_uri": "https://localhost:8080/"
        },
        "id": "7e_KlUjSpN-5",
        "outputId": "788ec330-98e5-462a-aa28-0f1c976a4321"
      },
      "source": [
        "logreg2 = LogisticRegression(C= 5, penalty= 'l2', verbose= 1, class_weight=poid_classe, multi_class='multinomial')# {'C': 4, 'penalty': 'l1', 'verbose': 0}\n",
        "#The solver lbfgs only supports L2 penalisation norm. Hence we do not use L1 or Elasticnet penalization\n",
        "logreg2.fit(X_train, y_train.sentiment)\n",
        "logreg2.score(X_test, y_test.sentiment)\n",
        "y_pred2=logreg2.predict(X_test)"
      ],
      "execution_count": null,
      "outputs": [
        {
          "output_type": "stream",
          "text": [
            "[Parallel(n_jobs=1)]: Using backend SequentialBackend with 1 concurrent workers.\n",
            "/usr/local/lib/python3.7/dist-packages/sklearn/linear_model/_logistic.py:940: ConvergenceWarning: lbfgs failed to converge (status=1):\n",
            "STOP: TOTAL NO. of ITERATIONS REACHED LIMIT.\n",
            "\n",
            "Increase the number of iterations (max_iter) or scale the data as shown in:\n",
            "    https://scikit-learn.org/stable/modules/preprocessing.html\n",
            "Please also refer to the documentation for alternative solver options:\n",
            "    https://scikit-learn.org/stable/modules/linear_model.html#logistic-regression\n",
            "  extra_warning_msg=_LOGISTIC_SOLVER_CONVERGENCE_MSG)\n",
            "[Parallel(n_jobs=1)]: Done   1 out of   1 | elapsed:   36.9s finished\n"
          ],
          "name": "stderr"
        }
      ]
    },
    {
      "cell_type": "code",
      "metadata": {
        "colab": {
          "base_uri": "https://localhost:8080/"
        },
        "id": "5smotfTnsRi2",
        "outputId": "f6614560-fe50-4bb4-91a8-8ff66d0c3f48"
      },
      "source": [
        "logreg3 = LogisticRegression(C= 0.5, penalty= 'l2', verbose= 0, class_weight=poid_classe, multi_class='multinomial')# {'C': 4, 'penalty': 'l1', 'verbose': 0}\n",
        "#The solver lbfgs only supports L2 penalisation norm. Hence we do not use L1 or Elasticnet penalization\n",
        "logreg3.fit(X_train, y_train.sentiment)\n",
        "logreg3.score(X_test, y_test.sentiment)\n",
        "y_pred3=logreg3.predict(X_test)"
      ],
      "execution_count": null,
      "outputs": [
        {
          "output_type": "stream",
          "text": [
            "/usr/local/lib/python3.7/dist-packages/sklearn/linear_model/_logistic.py:940: ConvergenceWarning: lbfgs failed to converge (status=1):\n",
            "STOP: TOTAL NO. of ITERATIONS REACHED LIMIT.\n",
            "\n",
            "Increase the number of iterations (max_iter) or scale the data as shown in:\n",
            "    https://scikit-learn.org/stable/modules/preprocessing.html\n",
            "Please also refer to the documentation for alternative solver options:\n",
            "    https://scikit-learn.org/stable/modules/linear_model.html#logistic-regression\n",
            "  extra_warning_msg=_LOGISTIC_SOLVER_CONVERGENCE_MSG)\n"
          ],
          "name": "stderr"
        }
      ]
    },
    {
      "cell_type": "code",
      "metadata": {
        "colab": {
          "base_uri": "https://localhost:8080/"
        },
        "id": "mPuMw2aRMSzH",
        "outputId": "a47dc063-19c3-4622-c4bd-d3d5fe3fb34a"
      },
      "source": [
        "print(logreg1.score(X_test, y_test.sentiment),logreg.score(X_test, y_test.sentiment), logreg2.score(X_test, y_test.sentiment), logreg3.score(X_test, y_test.sentiment))\n"
      ],
      "execution_count": null,
      "outputs": [
        {
          "output_type": "stream",
          "text": [
            "0.8114767530203941 0.8113426788028663 0.8111788103147765 0.8107467933916308\n"
          ],
          "name": "stdout"
        }
      ]
    },
    {
      "cell_type": "markdown",
      "metadata": {
        "id": "u94v6gvgWjmB"
      },
      "source": [
        "We do a GridSearchCV (which is basically a brute force algorithm)\n",
        "\n",
        "---\n",
        "\n",
        "We will optimize over 3 hyperparameters : verbose, the constant of penalization (lambda in the standard notation of the regression in lectures), and the norm of penalization.\n",
        "\n",
        "We change the solver of minimization because the one by default only handle L2 penalization. We add the weight of every classes in order to avoid the scenario where the algorithm only predicts 1.\n",
        "\n",
        "Note that we cross_validate in the GridSearchCV in order to avoid overfitting (which is clearly the challenge of our very unbalanced dataset).\n",
        "\n",
        "Solvers taking into account the L1 norm are saga and liblinear. But liblinear does not deal with multiclass regressions. Therefore we choose saga.\n"
      ]
    },
    {
      "cell_type": "code",
      "metadata": {
        "id": "H0qr-zTj_9-j"
      },
      "source": [
        "verbose = [0] #Inspired from the tests above\n",
        "C = [0.1,1.5,3]\n",
        "poid_classe = {-1:PropMOne, 0:PropZero, 1:PropOne}\n",
        "penalite = ['l2']\n",
        "multiclass = ['multinomial']\n",
        "\n",
        "def opti_para(verbose, penalite, C, poid_classe, multiclass):\n",
        "    \"\"\"Attention peut etre long si l'on rentre beaucoup d'hyperparametre possible\"\"\"\n",
        "    \n",
        "    param_grid_log = {\n",
        "    'verbose':verbose,\n",
        "    'penalty': penalite,\n",
        "    'verbose': verbosite,\n",
        "    'C': C,\n",
        "    'class_weight':poid_classe, \n",
        "    'solver': ListSolver,\n",
        "    'multi_class': multiclass\n",
        "    }   \n",
        "    # GrisSearch comme pour le random forest\n",
        "    grid_search_log = GridSearchCV(estimator = LogisticRegression(), param_grid = param_grid_log, \n",
        "                          cv = 3, n_jobs = -1)\n",
        "\n",
        "    # Fitter aux donnees\n",
        "    grid_search_log.fit(X_train, y_train.sentiment)\n",
        "    grid_search_log.best_params_ # récupérer les hyperparamètres pour les rentrer à la main, puis fitter pour les prochains jours\n",
        "    best_grid_log = grid_search_log.best_estimator_\n",
        "    score = best_grid_log.score(X_testf, y_testf.sentiment)\n",
        "    \n",
        "    return(best_grid_log, grid_search_log.best_params_, score)"
      ],
      "execution_count": null,
      "outputs": []
    },
    {
      "cell_type": "code",
      "metadata": {
        "id": "DYvE3LsbJgCd"
      },
      "source": [
        "logreg,param,score = opti_para(verbose, penalite, C, [poid_classe], multiclass)"
      ],
      "execution_count": null,
      "outputs": []
    },
    {
      "cell_type": "markdown",
      "metadata": {
        "id": "ylQZGtKdl_mz"
      },
      "source": [
        "##Analysis of the selected model"
      ]
    },
    {
      "cell_type": "code",
      "metadata": {
        "id": "2qTmHHghKaaO"
      },
      "source": [
        "y_true = y_test.sentiment.tolist()\n",
        "y_pred_proba = logreg.predict_proba(X_test)\n",
        "y_pred = logreg.predict(X_test)"
      ],
      "execution_count": null,
      "outputs": []
    },
    {
      "cell_type": "markdown",
      "metadata": {
        "id": "FGtYMXgMmEVI"
      },
      "source": [
        "###Confusion matrix"
      ]
    },
    {
      "cell_type": "code",
      "metadata": {
        "colab": {
          "base_uri": "https://localhost:8080/",
          "height": 271
        },
        "id": "m0bkg-QYxQ9i",
        "outputId": "306e5908-5853-435b-efcb-947cf4502823"
      },
      "source": [
        "  cm = confusion_matrix(y_true, y_pred) \n",
        "  labels = ['negative', 'neutral', 'positive']\n",
        "  df_cm = pd.DataFrame(cm, index=labels, columns=labels)\n",
        "  # config plot sizes\n",
        "  sn.set(font_scale=1.2)\n",
        "  sn.heatmap(df_cm, annot=True, annot_kws={\"size\": 18}, cmap='YlGnBu', linewidth=0.5, fmt=\"\")\n",
        "  plt.show()"
      ],
      "execution_count": null,
      "outputs": [
        {
          "output_type": "display_data",
          "data": {
            "image/png": "[encoded data removed]",
            "text/plain": [
              "<Figure size 432x288 with 2 Axes>"
            ]
          },
          "metadata": {
            "tags": []
          }
        }
      ]
    },
    {
      "cell_type": "markdown",
      "metadata": {
        "id": "NewGaloHYQDH"
      },
      "source": [
        "We need to obtain the labels of the x-axis and y-axis"
      ]
    },
    {
      "cell_type": "code",
      "metadata": {
        "id": "BIAdLxujyo78"
      },
      "source": [
        "conf=confusion_matrix(y_true,y_pred)\n",
        "plot_confusion_matrix(conf)"
      ],
      "execution_count": null,
      "outputs": []
    },
    {
      "cell_type": "markdown",
      "metadata": {
        "id": "5FUDbQq0X7xl"
      },
      "source": [
        "Obtain statistics about true positive rate and false positive rates"
      ]
    },
    {
      "cell_type": "code",
      "metadata": {
        "colab": {
          "base_uri": "https://localhost:8080/"
        },
        "id": "qZXsTJI8X62x",
        "outputId": "9573a7a9-7031-405a-abd8-835f84b71dc4"
      },
      "source": [
        "print(classification_report(y_test, y_pred))"
      ],
      "execution_count": null,
      "outputs": [
        {
          "output_type": "stream",
          "text": [
            "              precision    recall  f1-score   support\n",
            "\n",
            "          -1       0.78      0.34      0.48      6733\n",
            "           0       0.61      0.22      0.33     10212\n",
            "           1       0.82      0.99      0.90     50182\n",
            "\n",
            "    accuracy                           0.81     67127\n",
            "   macro avg       0.74      0.52      0.57     67127\n",
            "weighted avg       0.79      0.81      0.77     67127\n",
            "\n"
          ],
          "name": "stdout"
        }
      ]
    },
    {
      "cell_type": "code",
      "metadata": {
        "id": "pSh-3wZDKJnM"
      },
      "source": [
        "lb = preprocessing.LabelBinarizer()\n",
        "lb_trained = lb.fit(y_test)\n",
        "y_test_lb = lb_trained.transform(y_test)\n",
        "y_test_lb\n",
        "\n",
        "fpr = dict()\n",
        "tpr = dict()\n",
        "roc_auc = dict()\n",
        "for i, label in enumerate(labels):\n",
        "  fpr[i], tpr[i], _ = roc_curve(y_train_lb[:, i], y_pred_proba[:, i])\n",
        "  roc_auc[i] = auc(fpr[i], tpr[i])"
      ],
      "execution_count": null,
      "outputs": []
    },
    {
      "cell_type": "code",
      "metadata": {
        "colab": {
          "base_uri": "https://localhost:8080/",
          "height": 884
        },
        "id": "NnVPmw7YM2R1",
        "outputId": "643f1773-4b26-4876-8700-e94d47e2298a"
      },
      "source": [
        "for i, label in enumerate(labels):\n",
        "  plt.figure()\n",
        "  plt.plot(fpr[i], tpr[i], label='ROC curve (area = %0.2f)' % roc_auc[i])\n",
        "  plt.plot([0, 1], [0, 1], 'k--')\n",
        "  plt.xlim([0.0, 1.0])\n",
        "  plt.ylim([0.0, 1.05])\n",
        "  plt.xlabel('False Positive Rate')\n",
        "  plt.ylabel('True Positive Rate')\n",
        "  plt.title('Receiver operating characteristic for '+label)\n",
        "  plt.legend(loc=\"lower right\")\n",
        "  plt.show()"
      ],
      "execution_count": null,
      "outputs": [
        {
          "output_type": "display_data",
          "data": {
            "image/png": "[encoded data removed]",
            "text/plain": [
              "<Figure size 432x288 with 1 Axes>"
            ]
          },
          "metadata": {
            "tags": []
          }
        },
        {
          "output_type": "display_data",
          "data": {
            "image/png": "[encoded data removed]",
            "text/plain": [
              "<Figure size 432x288 with 1 Axes>"
            ]
          },
          "metadata": {
            "tags": []
          }
        },
        {
          "output_type": "display_data",
          "data": {
            "image/png": "[encoded data removed]",
            "text/plain": [
              "<Figure size 432x288 with 1 Axes>"
            ]
          },
          "metadata": {
            "tags": []
          }
        }
      ]
    },
    {
      "cell_type": "markdown",
      "metadata": {
        "id": "22P5a7Gi3hb1"
      },
      "source": [
        "# **Second method : Bert for sentiment analysis**"
      ]
    },
    {
      "cell_type": "markdown",
      "metadata": {
        "id": "8yDFgpGjNfcR"
      },
      "source": [
        "BERT (Bidirectional Encoder Representations from Transformers) is a bidirectional transformer architecture. A transformer is an attention mechanism that learns contextual relations between words (or sub-words) in a text. Bert is trained as a Masked-Language model. In other words, if you mask a word in a sentence, Bert should be able to predict it seeing the context (left and right context because it is bidirectional). \\\n",
        "In this part we want to use Bert to do classification because we want to do sentiment analysis. \\\n",
        "First we will prepare the data, Then we will tokenize the comments. After that we will train our model on the train dataset, using validation dataset to keep the better weights, and finally we will analyze the scores."
      ]
    },
    {
      "cell_type": "markdown",
      "metadata": {
        "id": "BVy4QvKCK2tI"
      },
      "source": [
        "### **Preparation of the environment and datasets**"
      ]
    },
    {
      "cell_type": "code",
      "metadata": {
        "colab": {
          "base_uri": "https://localhost:8080/"
        },
        "id": "zvPO28Ms_K2p",
        "outputId": "6937277b-127c-4a7e-fe89-8e280370e9c2"
      },
      "source": [
        "!pip install transformers"
      ],
      "execution_count": null,
      "outputs": [
        {
          "output_type": "stream",
          "text": [
            "Collecting transformers\n",
            "\u001b[?25l  Downloading https://files.pythonhosted.org/packages/d8/b2/57495b5309f09fa501866e225c84532d1fd89536ea62406b2181933fb418/transformers-4.5.1-py3-none-any.whl (2.1MB)\n",
            "\u001b[K     |████████████████████████████████| 2.1MB 10.4MB/s \n",
            "\u001b[?25hRequirement already satisfied: tqdm>=4.27 in /usr/local/lib/python3.7/dist-packages (from transformers) (4.41.1)\n",
            "Requirement already satisfied: packaging in /usr/local/lib/python3.7/dist-packages (from transformers) (20.9)\n",
            "Requirement already satisfied: filelock in /usr/local/lib/python3.7/dist-packages (from transformers) (3.0.12)\n",
            "Collecting sacremoses\n",
            "\u001b[?25l  Downloading https://files.pythonhosted.org/packages/75/ee/67241dc87f266093c533a2d4d3d69438e57d7a90abb216fa076e7d475d4a/sacremoses-0.0.45-py3-none-any.whl (895kB)\n",
            "\u001b[K     |████████████████████████████████| 901kB 51.7MB/s \n",
            "\u001b[?25hRequirement already satisfied: requests in /usr/local/lib/python3.7/dist-packages (from transformers) (2.23.0)\n",
            "Requirement already satisfied: numpy>=1.17 in /usr/local/lib/python3.7/dist-packages (from transformers) (1.19.5)\n",
            "Requirement already satisfied: regex!=2019.12.17 in /usr/local/lib/python3.7/dist-packages (from transformers) (2019.12.20)\n",
            "Requirement already satisfied: importlib-metadata; python_version < \"3.8\" in /usr/local/lib/python3.7/dist-packages (from transformers) (3.10.1)\n",
            "Collecting tokenizers<0.11,>=0.10.1\n",
            "\u001b[?25l  Downloading https://files.pythonhosted.org/packages/ae/04/5b870f26a858552025a62f1649c20d29d2672c02ff3c3fb4c688ca46467a/tokenizers-0.10.2-cp37-cp37m-manylinux2010_x86_64.whl (3.3MB)\n",
            "\u001b[K     |████████████████████████████████| 3.3MB 54.6MB/s \n",
            "\u001b[?25hRequirement already satisfied: pyparsing>=2.0.2 in /usr/local/lib/python3.7/dist-packages (from packaging->transformers) (2.4.7)\n",
            "Requirement already satisfied: six in /usr/local/lib/python3.7/dist-packages (from sacremoses->transformers) (1.15.0)\n",
            "Requirement already satisfied: joblib in /usr/local/lib/python3.7/dist-packages (from sacremoses->transformers) (1.0.1)\n",
            "Requirement already satisfied: click in /usr/local/lib/python3.7/dist-packages (from sacremoses->transformers) (7.1.2)\n",
            "Requirement already satisfied: idna<3,>=2.5 in /usr/local/lib/python3.7/dist-packages (from requests->transformers) (2.10)\n",
            "Requirement already satisfied: urllib3!=1.25.0,!=1.25.1,<1.26,>=1.21.1 in /usr/local/lib/python3.7/dist-packages (from requests->transformers) (1.24.3)\n",
            "Requirement already satisfied: chardet<4,>=3.0.2 in /usr/local/lib/python3.7/dist-packages (from requests->transformers) (3.0.4)\n",
            "Requirement already satisfied: certifi>=2017.4.17 in /usr/local/lib/python3.7/dist-packages (from requests->transformers) (2020.12.5)\n",
            "Requirement already satisfied: typing-extensions>=3.6.4; python_version < \"3.8\" in /usr/local/lib/python3.7/dist-packages (from importlib-metadata; python_version < \"3.8\"->transformers) (3.7.4.3)\n",
            "Requirement already satisfied: zipp>=0.5 in /usr/local/lib/python3.7/dist-packages (from importlib-metadata; python_version < \"3.8\"->transformers) (3.4.1)\n",
            "Installing collected packages: sacremoses, tokenizers, transformers\n",
            "Successfully installed sacremoses-0.0.45 tokenizers-0.10.2 transformers-4.5.1\n"
          ],
          "name": "stdout"
        }
      ]
    },
    {
      "cell_type": "markdown",
      "metadata": {
        "id": "4wKRRiVgKqiI"
      },
      "source": [
        "We install the libraries we will need :"
      ]
    },
    {
      "cell_type": "code",
      "metadata": {
        "id": "Ter5TR4_-0pc"
      },
      "source": [
        "import torch \n",
        "import numpy as np \n",
        "import os \n",
        "import random \n",
        "import pandas as pd \n",
        "import math\n",
        "from tqdm.notebook import tqdm \n",
        "from sklearn.model_selection import train_test_split \n",
        "from transformers import BertTokenizer \n",
        "from transformers import AdamW\n",
        "from transformers import get_linear_schedule_with_warmup\n",
        "from torch.utils.data import TensorDataset \n",
        "from transformers import BertForSequenceClassification \n",
        "from torch.utils.data import DataLoader, RandomSampler, SequentialSampler \n",
        "from sklearn.metrics import f1_score \n",
        "import matplotlib.pyplot as plt\n"
      ],
      "execution_count": null,
      "outputs": []
    },
    {
      "cell_type": "markdown",
      "metadata": {
        "id": "9ENIBXOmmKKX"
      },
      "source": [
        "We import our drive to get our datasets :"
      ]
    },
    {
      "cell_type": "code",
      "metadata": {
        "colab": {
          "base_uri": "https://localhost:8080/"
        },
        "id": "NAdMbbla3Vu0",
        "outputId": "277a8ff6-86c2-4133-df25-cbb2e1e49a85"
      },
      "source": [
        "from google.colab import drive\n",
        "drive.mount(\"/content/drive\")"
      ],
      "execution_count": null,
      "outputs": [
        {
          "output_type": "stream",
          "text": [
            "Mounted at /content/drive\n"
          ],
          "name": "stdout"
        }
      ]
    },
    {
      "cell_type": "markdown",
      "metadata": {
        "id": "XZ2K1UNMKxN1"
      },
      "source": [
        "We load the datasets :"
      ]
    },
    {
      "cell_type": "code",
      "metadata": {
        "colab": {
          "base_uri": "https://localhost:8080/"
        },
        "id": "e796JxII3gzB",
        "outputId": "c7bd588a-02d5-4853-b667-b59e43455cdc"
      },
      "source": [
        "%cd \"/content/drive/MyDrive/ML for NLP/projet/\"\n",
        "X_train = pd.read_csv(\"X_train.csv\")\n",
        "X_train = X_train.drop(columns = ['lemmas','mean_word2vec_2'])\n",
        "X_test = pd.read_csv(\"X_test.csv\")\n",
        "X_test = X_test.drop(columns = ['lemmas','mean_word2vec_2'])\n",
        "X_val = pd.read_csv(\"X_val.csv\")\n",
        "X_val = X_val.drop(columns = ['lemmas','mean_word2vec_2'])\n",
        "y_train = pd.read_csv(\"y_train.csv\")\n",
        "y_test = pd.read_csv(\"y_test.csv\")\n",
        "y_val = pd.read_csv(\"y_val.csv\")"
      ],
      "execution_count": null,
      "outputs": [
        {
          "output_type": "stream",
          "text": [
            "/content/drive/.shortcut-targets-by-id/1W4QW2QIjyvZ7QcdssmqEu9-ZrKPWRkWD/ML for NLP/projet\n"
          ],
          "name": "stdout"
        }
      ]
    },
    {
      "cell_type": "markdown",
      "metadata": {
        "id": "nYdg3a5zmrVZ"
      },
      "source": [
        "We need to drop part of the dataset because it is too big to train Bert, it would take too much time. We only drop raws where sentiment = 1 to reduce the imbalance."
      ]
    },
    {
      "cell_type": "code",
      "metadata": {
        "id": "fYfwh7zvAxnS"
      },
      "source": [
        "# PREPARATION OF THE DATASET\n",
        "\n",
        "# 1. We drop part of the dataset where sentiment = 1, first to train faster, and to have a datset a little less unbalanced\n",
        "frac = .8\n",
        "X_train=X_train.drop(X_train.query('rating in [4,5]').sample(frac=frac, random_state = 42).index)\n",
        "X_test=X_test.drop(X_test.query('rating in [4,5]').sample(frac=frac, random_state = 42).index)\n",
        "X_val=X_val.drop(X_val.query('rating in [4,5]').sample(frac=frac, random_state = 42).index)\n",
        "y_train=y_train.drop(y_train.query('sentiment ==1 ').sample(frac=frac, random_state = 42).index)\n",
        "y_test=y_test.drop(y_test.query('sentiment ==1 ').sample(frac=frac, random_state = 42).index)\n",
        "y_val=y_val.drop(y_val.query('sentiment ==1 ').sample(frac=frac, random_state = 42).index)\n",
        "\n",
        "# 2. We reindex the dataframes because we dropped some rows\n",
        "X_train = X_train.reset_index()\n",
        "y_train = y_train.reset_index()\n",
        "X_test = X_test.reset_index()\n",
        "y_test = y_test.reset_index()\n",
        "X_val = X_val.reset_index()\n",
        "y_val = y_val.reset_index()"
      ],
      "execution_count": null,
      "outputs": []
    },
    {
      "cell_type": "code",
      "metadata": {
        "id": "5zIh5GZubGel"
      },
      "source": [
        "# To train bert classification, we need label values that are 0, 1, 2 instead of -1, 0, 1.\n",
        "y_train[\"sentiment\"] = y_train['sentiment'].apply(lambda x : x + 1)\n",
        "y_test[\"sentiment\"] = y_test['sentiment'].apply(lambda x : x + 1)\n",
        "y_val[\"sentiment\"] = y_val['sentiment'].apply(lambda x : x + 1)"
      ],
      "execution_count": null,
      "outputs": []
    },
    {
      "cell_type": "markdown",
      "metadata": {
        "id": "2PVbCkX4NY2l"
      },
      "source": [
        "We now want to see the repartition of negative, neutral and positive reviews in the three datasets :"
      ]
    },
    {
      "cell_type": "code",
      "metadata": {
        "colab": {
          "base_uri": "https://localhost:8080/",
          "height": 842
        },
        "id": "oc5A4WEuDurq",
        "outputId": "504f4658-a010-41fc-a07f-79f7f9b2e48e"
      },
      "source": [
        "plt.figure()\n",
        "pd.value_counts(y_train[\"sentiment\"]).plot.bar(title=\"Sentiment distribution in train set\")\n",
        "plt.xlabel(\"Sentiment\")\n",
        "plt.ylabel(\"No. of rows in train set\")\n",
        "plt.show()\n",
        "plt.figure()\n",
        "pd.value_counts(y_test[\"sentiment\"]).plot.bar(title=\"Sentiment distribution in test set\")\n",
        "plt.xlabel(\"Sentiment\")\n",
        "plt.ylabel(\"No. of rows in test set\")\n",
        "plt.show()\n",
        "plt.figure()\n",
        "pd.value_counts(y_val[\"sentiment\"]).plot.bar(title=\"Sentiment distribution in val set\")\n",
        "plt.xlabel(\"Sentiment\")\n",
        "plt.ylabel(\"No. of rows in val set\")\n",
        "plt.show()"
      ],
      "execution_count": null,
      "outputs": [
        {
          "output_type": "display_data",
          "data": {
            "image/png": "[encoded data removed]",
            "text/plain": [
              "<Figure size 432x288 with 1 Axes>"
            ]
          },
          "metadata": {
            "tags": [],
            "needs_background": "light"
          }
        },
        {
          "output_type": "display_data",
          "data": {
            "image/png": "[encoded data removed]",
            "text/plain": [
              "<Figure size 432x288 with 1 Axes>"
            ]
          },
          "metadata": {
            "tags": [],
            "needs_background": "light"
          }
        },
        {
          "output_type": "display_data",
          "data": {
            "image/png": "[encoded data removed]",
            "text/plain": [
              "<Figure size 432x288 with 1 Axes>"
            ]
          },
          "metadata": {
            "tags": [],
            "needs_background": "light"
          }
        }
      ]
    },
    {
      "cell_type": "markdown",
      "metadata": {
        "id": "4LimG7y--Ifo"
      },
      "source": [
        "The datasets are still unbalanced, but less than before.\n",
        "\n",
        "\n",
        "---\n",
        "\n",
        "\n",
        " Now let's change the rows with review = nan into review = \"\" to avoid errors."
      ]
    },
    {
      "cell_type": "code",
      "metadata": {
        "colab": {
          "base_uri": "https://localhost:8080/"
        },
        "id": "afFonEF65Gfn",
        "outputId": "31b4fd66-ef76-4190-c7f5-fc5ac9285c7b"
      },
      "source": [
        "for i in range(len(X_train)) :\n",
        "    try :\n",
        "        if math.isnan(X_train[\"review\"][i]) :\n",
        "            X_train[\"review\"][i] = \"\"\n",
        "    except :\n",
        "        a=1\n",
        "\n",
        "\n",
        "for i in range(len(X_test)) :\n",
        "    try :\n",
        "        if math.isnan(X_test[\"review\"][i]) :\n",
        "            X_test[\"review\"][i] = \"\"\n",
        "    except :\n",
        "        a=1\n",
        "\n",
        "for i in range(len(X_val)) :\n",
        "    try :\n",
        "        if math.isnan(X_val[\"review\"][i]) :\n",
        "            X_val[\"review\"][i] = \"\"\n",
        "    except :\n",
        "        a=1"
      ],
      "execution_count": null,
      "outputs": [
        {
          "output_type": "stream",
          "text": [
            "/usr/local/lib/python3.7/dist-packages/ipykernel_launcher.py:4: SettingWithCopyWarning: \n",
            "A value is trying to be set on a copy of a slice from a DataFrame\n",
            "\n",
            "See the caveats in the documentation: https://pandas.pydata.org/pandas-docs/stable/user_guide/indexing.html#returning-a-view-versus-a-copy\n",
            "  after removing the cwd from sys.path.\n",
            "/usr/local/lib/python3.7/dist-packages/ipykernel_launcher.py:12: SettingWithCopyWarning: \n",
            "A value is trying to be set on a copy of a slice from a DataFrame\n",
            "\n",
            "See the caveats in the documentation: https://pandas.pydata.org/pandas-docs/stable/user_guide/indexing.html#returning-a-view-versus-a-copy\n",
            "  if sys.path[0] == '':\n",
            "/usr/local/lib/python3.7/dist-packages/ipykernel_launcher.py:19: SettingWithCopyWarning: \n",
            "A value is trying to be set on a copy of a slice from a DataFrame\n",
            "\n",
            "See the caveats in the documentation: https://pandas.pydata.org/pandas-docs/stable/user_guide/indexing.html#returning-a-view-versus-a-copy\n"
          ],
          "name": "stderr"
        }
      ]
    },
    {
      "cell_type": "markdown",
      "metadata": {
        "id": "kOAVt0_oqbXz"
      },
      "source": [
        "Our datasets are ready. Let's do the preprocessing for Bert training."
      ]
    },
    {
      "cell_type": "markdown",
      "metadata": {
        "id": "o2TFKqvzNmTd"
      },
      "source": [
        "### **Bert pre-processing**"
      ]
    },
    {
      "cell_type": "markdown",
      "metadata": {
        "id": "IGlf73f0rGTz"
      },
      "source": [
        "To be able to train Bert, we need to tokenize the reviews. The function batch_encode_plus returns\n",
        "\n",
        "\n",
        "*   **input_ids** : They are token indices, numerical \n",
        "representations of tokens building the sequences that will be used as input by our classification model.\n",
        "*   **token_type_ids**  \n",
        "\n",
        "*   **attention_mask** :  indicates to the model which tokens should be attended to, and which should not.\n",
        "\n",
        "\n",
        "\n",
        "\n",
        "\n",
        " "
      ]
    },
    {
      "cell_type": "code",
      "metadata": {
        "colab": {
          "base_uri": "https://localhost:8080/",
          "height": 235,
          "referenced_widgets": [
            "28dd59f556c3498ea18f172b6c20acc2",
            "530d224431dd4222bcb137b6d47bcd0b",
            "977c4faa5aef4d4bb91c9c7f8774f1aa",
            "3fd257829b6e4900aea06dbda3030dd3",
            "250124950bf24e698c0e34145511c575",
            "20cb15ab2e2b4bb7abfc4e38ea299902",
            "6141bcfd512b49e58878a114e805a879",
            "3056242dc4d14699ad3f3eb01ce25f2c",
            "2796b1ded2a6434ab70fa02c0ca1c995",
            "08bdcaaf1c054731a3457f68f2151ab2",
            "4bdaa8d6125344559b7997c95f4a28a9",
            "13e1b64dff354343ab635f698f14d66f",
            "97177bbfd6e847048369f0d12107941e",
            "ef5bcccd9fb8464b96cc5dd0f9ce1a6f",
            "7cf3d93889364b6d918d749050057fda",
            "0ba76198c5cb428ab9ce274a44f57f4a",
            "f1a4a4d8598f4757ac8c9c1bbc42085f",
            "e01353680fee4fe3a653a901fbbd06d5",
            "2831fb5a28014969b373538ed770210e",
            "c145ef596a66453e9735803760be4c9d",
            "2f6f2a8e5e0a42279ded30a54c24f646",
            "d85a5530a0a1434ca9a3814f0dcb0105",
            "6d540c9e226e4ed69651827c668edd12",
            "80b54b3cfa1f40f69e0566584b757198"
          ]
        },
        "id": "tTLGay18OTNb",
        "outputId": "cc7437fc-2984-43a3-a757-a26ffd057857"
      },
      "source": [
        "tokenizer = BertTokenizer.from_pretrained('bert-base-cased', do_lower_case=True)\n",
        "#ENCODING DATA\n",
        "encoded_data_train = tokenizer.batch_encode_plus(X_train.review.values.tolist(),\n",
        "                                                add_special_tokens=True,\n",
        "                                                return_attention_mask=True,\n",
        "                                                pad_to_max_length=True,\n",
        "                                                max_length=64,\n",
        "                                                return_tensors='pt',\n",
        "                                                )\n",
        "encoded_data_val = tokenizer.batch_encode_plus(X_val.review.values.tolist(),\n",
        "                                                add_special_tokens=True,\n",
        "                                                return_attention_mask=True,\n",
        "                                                pad_to_max_length=True,\n",
        "                                                max_length=64,\n",
        "                                                 return_tensors='pt'\n",
        "                                                )\n",
        "encoded_data_test = tokenizer.batch_encode_plus(X_test.review.values.tolist(),\n",
        "                                                add_special_tokens=True,\n",
        "                                                return_attention_mask=True,\n",
        "                                                pad_to_max_length=True,\n",
        "                                                max_length=64,\n",
        "                                                 return_tensors='pt'\n",
        "                                                )\n",
        "input_ids_train = encoded_data_train['input_ids']\n",
        "attention_masks_train = encoded_data_train['attention_mask']\n",
        "labels_train = torch.tensor(y_train.sentiment.values)\n",
        "input_ids_val = encoded_data_val['input_ids']\n",
        "attention_masks_val = encoded_data_val['attention_mask']\n",
        "labels_val = torch.tensor(y_val.sentiment.values)\n",
        "input_ids_test = encoded_data_test['input_ids']\n",
        "attention_masks_test = encoded_data_test['attention_mask']\n",
        "labels_test = torch.tensor(y_test.sentiment.values)\n",
        "dataset_train = TensorDataset(input_ids_train, attention_masks_train, labels_train)\n",
        "dataset_val = TensorDataset(input_ids_val, attention_masks_val, labels_val)\n",
        "dataset_test = TensorDataset(input_ids_test, attention_masks_test, labels_test)"
      ],
      "execution_count": null,
      "outputs": [
        {
          "output_type": "display_data",
          "data": {
            "application/vnd.jupyter.widget-view+json": {
              "model_id": "28dd59f556c3498ea18f172b6c20acc2",
              "version_minor": 0,
              "version_major": 2
            },
            "text/plain": [
              "HBox(children=(FloatProgress(value=0.0, description='Downloading', max=213450.0, style=ProgressStyle(descripti…"
            ]
          },
          "metadata": {
            "tags": []
          }
        },
        {
          "output_type": "stream",
          "text": [
            "\n"
          ],
          "name": "stdout"
        },
        {
          "output_type": "display_data",
          "data": {
            "application/vnd.jupyter.widget-view+json": {
              "model_id": "2796b1ded2a6434ab70fa02c0ca1c995",
              "version_minor": 0,
              "version_major": 2
            },
            "text/plain": [
              "HBox(children=(FloatProgress(value=0.0, description='Downloading', max=29.0, style=ProgressStyle(description_w…"
            ]
          },
          "metadata": {
            "tags": []
          }
        },
        {
          "output_type": "stream",
          "text": [
            "\n"
          ],
          "name": "stdout"
        },
        {
          "output_type": "display_data",
          "data": {
            "application/vnd.jupyter.widget-view+json": {
              "model_id": "f1a4a4d8598f4757ac8c9c1bbc42085f",
              "version_minor": 0,
              "version_major": 2
            },
            "text/plain": [
              "HBox(children=(FloatProgress(value=0.0, description='Downloading', max=435797.0, style=ProgressStyle(descripti…"
            ]
          },
          "metadata": {
            "tags": []
          }
        },
        {
          "output_type": "stream",
          "text": [
            "Truncation was not explicitly activated but `max_length` is provided a specific value, please use `truncation=True` to explicitly truncate examples to max length. Defaulting to 'longest_first' truncation strategy. If you encode pairs of sequences (GLUE-style) with the tokenizer you can select this strategy more precisely by providing a specific strategy to `truncation`.\n"
          ],
          "name": "stderr"
        },
        {
          "output_type": "stream",
          "text": [
            "\n"
          ],
          "name": "stdout"
        },
        {
          "output_type": "stream",
          "text": [
            "/usr/local/lib/python3.7/dist-packages/transformers/tokenization_utils_base.py:2079: FutureWarning: The `pad_to_max_length` argument is deprecated and will be removed in a future version, use `padding=True` or `padding='longest'` to pad to the longest sequence in the batch, or use `padding='max_length'` to pad to a max length. In this case, you can give a specific length with `max_length` (e.g. `max_length=45`) or leave max_length to None to pad to the maximal input size of the model (e.g. 512 for Bert).\n",
            "  FutureWarning,\n"
          ],
          "name": "stderr"
        }
      ]
    },
    {
      "cell_type": "markdown",
      "metadata": {
        "id": "QPsO4T0KwPqC"
      },
      "source": [
        "Now we can load the Bert pre-trained model for sequence classification :\n",
        "We choose the AdamW optimizer because it seems to get good results in Bert model."
      ]
    },
    {
      "cell_type": "code",
      "metadata": {
        "colab": {
          "base_uri": "https://localhost:8080/",
          "height": 220,
          "referenced_widgets": [
            "be8c17bdc2ca49adbecafe6708ab8a1a",
            "965c0feb8a8345df9cc1b0ce4228688c",
            "38c84e10a9514e5cabf29eb0d24332c7",
            "48a4dc5e156d42acb2bf8dbf3d7ab9d5",
            "2dd957207dec4b11b24cc90be439662d",
            "f1523b7bb18d40519762dd53c564642c",
            "05a60092aac949e79f0069ebfe350029",
            "f9213134ca704da19ab91b2d76aae03d",
            "901da5b007fb47a68a2b7b909df836ea",
            "593567fd13824fa3ac12e028e31b6ab4",
            "731c72d31a704b4bbfa037aeeca711a9",
            "eec70390005f4e8c9226c64dca5f5ebc",
            "2cc6348512c04212bd579435ddb33e24",
            "bcada9abacce44e4b12b52bf50b822e2",
            "aceea2bfd0e243bf87fd6ff1a7898edb",
            "9c826e5f2ffb41339b824f612d8cd4d1"
          ]
        },
        "id": "AKKGVa2wNSiU",
        "outputId": "b836a703-7ba0-482f-c2ee-f5b0d15e7264"
      },
      "source": [
        "#SETTING MODEL\n",
        "model = BertForSequenceClassification.from_pretrained('bert-base-uncased', num_labels=3, output_attentions=False, output_hidden_states=False )\n",
        "#CREATING DATA LOADERS\n",
        "dataloader_train = DataLoader(dataset_train,shuffle = False, batch_size= 64)\n",
        "                             \n",
        "dataloader_val = DataLoader(dataset_val, shuffle = False , batch_size= 64) \n",
        "      \n",
        "#SETTING OPTIMIZERS\n",
        "optimizer = AdamW(model.parameters(),lr=1e-4,eps=1e-6)\n",
        "epochs = 5\n",
        "scheduler = get_linear_schedule_with_warmup(optimizer, num_warmup_steps=0, num_training_steps=len(dataloader_train)*epochs)\n"
      ],
      "execution_count": null,
      "outputs": [
        {
          "output_type": "display_data",
          "data": {
            "application/vnd.jupyter.widget-view+json": {
              "model_id": "be8c17bdc2ca49adbecafe6708ab8a1a",
              "version_minor": 0,
              "version_major": 2
            },
            "text/plain": [
              "HBox(children=(FloatProgress(value=0.0, description='Downloading', max=570.0, style=ProgressStyle(description_…"
            ]
          },
          "metadata": {
            "tags": []
          }
        },
        {
          "output_type": "stream",
          "text": [
            "\n"
          ],
          "name": "stdout"
        },
        {
          "output_type": "display_data",
          "data": {
            "application/vnd.jupyter.widget-view+json": {
              "model_id": "901da5b007fb47a68a2b7b909df836ea",
              "version_minor": 0,
              "version_major": 2
            },
            "text/plain": [
              "HBox(children=(FloatProgress(value=0.0, description='Downloading', max=440473133.0, style=ProgressStyle(descri…"
            ]
          },
          "metadata": {
            "tags": []
          }
        },
        {
          "output_type": "stream",
          "text": [
            "\n"
          ],
          "name": "stdout"
        },
        {
          "output_type": "stream",
          "text": [
            "Some weights of the model checkpoint at bert-base-uncased were not used when initializing BertForSequenceClassification: ['cls.predictions.bias', 'cls.predictions.transform.dense.weight', 'cls.predictions.transform.dense.bias', 'cls.predictions.decoder.weight', 'cls.seq_relationship.weight', 'cls.seq_relationship.bias', 'cls.predictions.transform.LayerNorm.weight', 'cls.predictions.transform.LayerNorm.bias']\n",
            "- This IS expected if you are initializing BertForSequenceClassification from the checkpoint of a model trained on another task or with another architecture (e.g. initializing a BertForSequenceClassification model from a BertForPreTraining model).\n",
            "- This IS NOT expected if you are initializing BertForSequenceClassification from the checkpoint of a model that you expect to be exactly identical (initializing a BertForSequenceClassification model from a BertForSequenceClassification model).\n",
            "Some weights of BertForSequenceClassification were not initialized from the model checkpoint at bert-base-uncased and are newly initialized: ['classifier.weight', 'classifier.bias']\n",
            "You should probably TRAIN this model on a down-stream task to be able to use it for predictions and inference.\n"
          ],
          "name": "stderr"
        }
      ]
    },
    {
      "cell_type": "markdown",
      "metadata": {
        "id": "zB-A_9H0xC-t"
      },
      "source": [
        "Now, we want to indicate that we will use a GPU to train Bert, to be able to convert the model so that it can works on GPU and not CPU only."
      ]
    },
    {
      "cell_type": "code",
      "metadata": {
        "colab": {
          "base_uri": "https://localhost:8080/"
        },
        "id": "c2jV704ImIAP",
        "outputId": "e82f76d1-e160-4f23-a4eb-e32b8e0c6626"
      },
      "source": [
        "import random\n",
        "\n",
        "device = torch.device(\"cuda:0\" if torch.cuda.is_available() else \"cpu\")\n",
        "model.to(device)"
      ],
      "execution_count": null,
      "outputs": [
        {
          "output_type": "execute_result",
          "data": {
            "text/plain": [
              "BertForSequenceClassification(\n",
              "  (bert): BertModel(\n",
              "    (embeddings): BertEmbeddings(\n",
              "      (word_embeddings): Embedding(30522, 768, padding_idx=0)\n",
              "      (position_embeddings): Embedding(512, 768)\n",
              "      (token_type_embeddings): Embedding(2, 768)\n",
              "      (LayerNorm): LayerNorm((768,), eps=1e-12, elementwise_affine=True)\n",
              "      (dropout): Dropout(p=0.1, inplace=False)\n",
              "    )\n",
              "    (encoder): BertEncoder(\n",
              "      (layer): ModuleList(\n",
              "        (0): BertLayer(\n",
              "          (attention): BertAttention(\n",
              "            (self): BertSelfAttention(\n",
              "              (query): Linear(in_features=768, out_features=768, bias=True)\n",
              "              (key): Linear(in_features=768, out_features=768, bias=True)\n",
              "              (value): Linear(in_features=768, out_features=768, bias=True)\n",
              "              (dropout): Dropout(p=0.1, inplace=False)\n",
              "            )\n",
              "            (output): BertSelfOutput(\n",
              "              (dense): Linear(in_features=768, out_features=768, bias=True)\n",
              "              (LayerNorm): LayerNorm((768,), eps=1e-12, elementwise_affine=True)\n",
              "              (dropout): Dropout(p=0.1, inplace=False)\n",
              "            )\n",
              "          )\n",
              "          (intermediate): BertIntermediate(\n",
              "            (dense): Linear(in_features=768, out_features=3072, bias=True)\n",
              "          )\n",
              "          (output): BertOutput(\n",
              "            (dense): Linear(in_features=3072, out_features=768, bias=True)\n",
              "            (LayerNorm): LayerNorm((768,), eps=1e-12, elementwise_affine=True)\n",
              "            (dropout): Dropout(p=0.1, inplace=False)\n",
              "          )\n",
              "        )\n",
              "        (1): BertLayer(\n",
              "          (attention): BertAttention(\n",
              "            (self): BertSelfAttention(\n",
              "              (query): Linear(in_features=768, out_features=768, bias=True)\n",
              "              (key): Linear(in_features=768, out_features=768, bias=True)\n",
              "              (value): Linear(in_features=768, out_features=768, bias=True)\n",
              "              (dropout): Dropout(p=0.1, inplace=False)\n",
              "            )\n",
              "            (output): BertSelfOutput(\n",
              "              (dense): Linear(in_features=768, out_features=768, bias=True)\n",
              "              (LayerNorm): LayerNorm((768,), eps=1e-12, elementwise_affine=True)\n",
              "              (dropout): Dropout(p=0.1, inplace=False)\n",
              "            )\n",
              "          )\n",
              "          (intermediate): BertIntermediate(\n",
              "            (dense): Linear(in_features=768, out_features=3072, bias=True)\n",
              "          )\n",
              "          (output): BertOutput(\n",
              "            (dense): Linear(in_features=3072, out_features=768, bias=True)\n",
              "            (LayerNorm): LayerNorm((768,), eps=1e-12, elementwise_affine=True)\n",
              "            (dropout): Dropout(p=0.1, inplace=False)\n",
              "          )\n",
              "        )\n",
              "        (2): BertLayer(\n",
              "          (attention): BertAttention(\n",
              "            (self): BertSelfAttention(\n",
              "              (query): Linear(in_features=768, out_features=768, bias=True)\n",
              "              (key): Linear(in_features=768, out_features=768, bias=True)\n",
              "              (value): Linear(in_features=768, out_features=768, bias=True)\n",
              "              (dropout): Dropout(p=0.1, inplace=False)\n",
              "            )\n",
              "            (output): BertSelfOutput(\n",
              "              (dense): Linear(in_features=768, out_features=768, bias=True)\n",
              "              (LayerNorm): LayerNorm((768,), eps=1e-12, elementwise_affine=True)\n",
              "              (dropout): Dropout(p=0.1, inplace=False)\n",
              "            )\n",
              "          )\n",
              "          (intermediate): BertIntermediate(\n",
              "            (dense): Linear(in_features=768, out_features=3072, bias=True)\n",
              "          )\n",
              "          (output): BertOutput(\n",
              "            (dense): Linear(in_features=3072, out_features=768, bias=True)\n",
              "            (LayerNorm): LayerNorm((768,), eps=1e-12, elementwise_affine=True)\n",
              "            (dropout): Dropout(p=0.1, inplace=False)\n",
              "          )\n",
              "        )\n",
              "        (3): BertLayer(\n",
              "          (attention): BertAttention(\n",
              "            (self): BertSelfAttention(\n",
              "              (query): Linear(in_features=768, out_features=768, bias=True)\n",
              "              (key): Linear(in_features=768, out_features=768, bias=True)\n",
              "              (value): Linear(in_features=768, out_features=768, bias=True)\n",
              "              (dropout): Dropout(p=0.1, inplace=False)\n",
              "            )\n",
              "            (output): BertSelfOutput(\n",
              "              (dense): Linear(in_features=768, out_features=768, bias=True)\n",
              "              (LayerNorm): LayerNorm((768,), eps=1e-12, elementwise_affine=True)\n",
              "              (dropout): Dropout(p=0.1, inplace=False)\n",
              "            )\n",
              "          )\n",
              "          (intermediate): BertIntermediate(\n",
              "            (dense): Linear(in_features=768, out_features=3072, bias=True)\n",
              "          )\n",
              "          (output): BertOutput(\n",
              "            (dense): Linear(in_features=3072, out_features=768, bias=True)\n",
              "            (LayerNorm): LayerNorm((768,), eps=1e-12, elementwise_affine=True)\n",
              "            (dropout): Dropout(p=0.1, inplace=False)\n",
              "          )\n",
              "        )\n",
              "        (4): BertLayer(\n",
              "          (attention): BertAttention(\n",
              "            (self): BertSelfAttention(\n",
              "              (query): Linear(in_features=768, out_features=768, bias=True)\n",
              "              (key): Linear(in_features=768, out_features=768, bias=True)\n",
              "              (value): Linear(in_features=768, out_features=768, bias=True)\n",
              "              (dropout): Dropout(p=0.1, inplace=False)\n",
              "            )\n",
              "            (output): BertSelfOutput(\n",
              "              (dense): Linear(in_features=768, out_features=768, bias=True)\n",
              "              (LayerNorm): LayerNorm((768,), eps=1e-12, elementwise_affine=True)\n",
              "              (dropout): Dropout(p=0.1, inplace=False)\n",
              "            )\n",
              "          )\n",
              "          (intermediate): BertIntermediate(\n",
              "            (dense): Linear(in_features=768, out_features=3072, bias=True)\n",
              "          )\n",
              "          (output): BertOutput(\n",
              "            (dense): Linear(in_features=3072, out_features=768, bias=True)\n",
              "            (LayerNorm): LayerNorm((768,), eps=1e-12, elementwise_affine=True)\n",
              "            (dropout): Dropout(p=0.1, inplace=False)\n",
              "          )\n",
              "        )\n",
              "        (5): BertLayer(\n",
              "          (attention): BertAttention(\n",
              "            (self): BertSelfAttention(\n",
              "              (query): Linear(in_features=768, out_features=768, bias=True)\n",
              "              (key): Linear(in_features=768, out_features=768, bias=True)\n",
              "              (value): Linear(in_features=768, out_features=768, bias=True)\n",
              "              (dropout): Dropout(p=0.1, inplace=False)\n",
              "            )\n",
              "            (output): BertSelfOutput(\n",
              "              (dense): Linear(in_features=768, out_features=768, bias=True)\n",
              "              (LayerNorm): LayerNorm((768,), eps=1e-12, elementwise_affine=True)\n",
              "              (dropout): Dropout(p=0.1, inplace=False)\n",
              "            )\n",
              "          )\n",
              "          (intermediate): BertIntermediate(\n",
              "            (dense): Linear(in_features=768, out_features=3072, bias=True)\n",
              "          )\n",
              "          (output): BertOutput(\n",
              "            (dense): Linear(in_features=3072, out_features=768, bias=True)\n",
              "            (LayerNorm): LayerNorm((768,), eps=1e-12, elementwise_affine=True)\n",
              "            (dropout): Dropout(p=0.1, inplace=False)\n",
              "          )\n",
              "        )\n",
              "        (6): BertLayer(\n",
              "          (attention): BertAttention(\n",
              "            (self): BertSelfAttention(\n",
              "              (query): Linear(in_features=768, out_features=768, bias=True)\n",
              "              (key): Linear(in_features=768, out_features=768, bias=True)\n",
              "              (value): Linear(in_features=768, out_features=768, bias=True)\n",
              "              (dropout): Dropout(p=0.1, inplace=False)\n",
              "            )\n",
              "            (output): BertSelfOutput(\n",
              "              (dense): Linear(in_features=768, out_features=768, bias=True)\n",
              "              (LayerNorm): LayerNorm((768,), eps=1e-12, elementwise_affine=True)\n",
              "              (dropout): Dropout(p=0.1, inplace=False)\n",
              "            )\n",
              "          )\n",
              "          (intermediate): BertIntermediate(\n",
              "            (dense): Linear(in_features=768, out_features=3072, bias=True)\n",
              "          )\n",
              "          (output): BertOutput(\n",
              "            (dense): Linear(in_features=3072, out_features=768, bias=True)\n",
              "            (LayerNorm): LayerNorm((768,), eps=1e-12, elementwise_affine=True)\n",
              "            (dropout): Dropout(p=0.1, inplace=False)\n",
              "          )\n",
              "        )\n",
              "        (7): BertLayer(\n",
              "          (attention): BertAttention(\n",
              "            (self): BertSelfAttention(\n",
              "              (query): Linear(in_features=768, out_features=768, bias=True)\n",
              "              (key): Linear(in_features=768, out_features=768, bias=True)\n",
              "              (value): Linear(in_features=768, out_features=768, bias=True)\n",
              "              (dropout): Dropout(p=0.1, inplace=False)\n",
              "            )\n",
              "            (output): BertSelfOutput(\n",
              "              (dense): Linear(in_features=768, out_features=768, bias=True)\n",
              "              (LayerNorm): LayerNorm((768,), eps=1e-12, elementwise_affine=True)\n",
              "              (dropout): Dropout(p=0.1, inplace=False)\n",
              "            )\n",
              "          )\n",
              "          (intermediate): BertIntermediate(\n",
              "            (dense): Linear(in_features=768, out_features=3072, bias=True)\n",
              "          )\n",
              "          (output): BertOutput(\n",
              "            (dense): Linear(in_features=3072, out_features=768, bias=True)\n",
              "            (LayerNorm): LayerNorm((768,), eps=1e-12, elementwise_affine=True)\n",
              "            (dropout): Dropout(p=0.1, inplace=False)\n",
              "          )\n",
              "        )\n",
              "        (8): BertLayer(\n",
              "          (attention): BertAttention(\n",
              "            (self): BertSelfAttention(\n",
              "              (query): Linear(in_features=768, out_features=768, bias=True)\n",
              "              (key): Linear(in_features=768, out_features=768, bias=True)\n",
              "              (value): Linear(in_features=768, out_features=768, bias=True)\n",
              "              (dropout): Dropout(p=0.1, inplace=False)\n",
              "            )\n",
              "            (output): BertSelfOutput(\n",
              "              (dense): Linear(in_features=768, out_features=768, bias=True)\n",
              "              (LayerNorm): LayerNorm((768,), eps=1e-12, elementwise_affine=True)\n",
              "              (dropout): Dropout(p=0.1, inplace=False)\n",
              "            )\n",
              "          )\n",
              "          (intermediate): BertIntermediate(\n",
              "            (dense): Linear(in_features=768, out_features=3072, bias=True)\n",
              "          )\n",
              "          (output): BertOutput(\n",
              "            (dense): Linear(in_features=3072, out_features=768, bias=True)\n",
              "            (LayerNorm): LayerNorm((768,), eps=1e-12, elementwise_affine=True)\n",
              "            (dropout): Dropout(p=0.1, inplace=False)\n",
              "          )\n",
              "        )\n",
              "        (9): BertLayer(\n",
              "          (attention): BertAttention(\n",
              "            (self): BertSelfAttention(\n",
              "              (query): Linear(in_features=768, out_features=768, bias=True)\n",
              "              (key): Linear(in_features=768, out_features=768, bias=True)\n",
              "              (value): Linear(in_features=768, out_features=768, bias=True)\n",
              "              (dropout): Dropout(p=0.1, inplace=False)\n",
              "            )\n",
              "            (output): BertSelfOutput(\n",
              "              (dense): Linear(in_features=768, out_features=768, bias=True)\n",
              "              (LayerNorm): LayerNorm((768,), eps=1e-12, elementwise_affine=True)\n",
              "              (dropout): Dropout(p=0.1, inplace=False)\n",
              "            )\n",
              "          )\n",
              "          (intermediate): BertIntermediate(\n",
              "            (dense): Linear(in_features=768, out_features=3072, bias=True)\n",
              "          )\n",
              "          (output): BertOutput(\n",
              "            (dense): Linear(in_features=3072, out_features=768, bias=True)\n",
              "            (LayerNorm): LayerNorm((768,), eps=1e-12, elementwise_affine=True)\n",
              "            (dropout): Dropout(p=0.1, inplace=False)\n",
              "          )\n",
              "        )\n",
              "        (10): BertLayer(\n",
              "          (attention): BertAttention(\n",
              "            (self): BertSelfAttention(\n",
              "              (query): Linear(in_features=768, out_features=768, bias=True)\n",
              "              (key): Linear(in_features=768, out_features=768, bias=True)\n",
              "              (value): Linear(in_features=768, out_features=768, bias=True)\n",
              "              (dropout): Dropout(p=0.1, inplace=False)\n",
              "            )\n",
              "            (output): BertSelfOutput(\n",
              "              (dense): Linear(in_features=768, out_features=768, bias=True)\n",
              "              (LayerNorm): LayerNorm((768,), eps=1e-12, elementwise_affine=True)\n",
              "              (dropout): Dropout(p=0.1, inplace=False)\n",
              "            )\n",
              "          )\n",
              "          (intermediate): BertIntermediate(\n",
              "            (dense): Linear(in_features=768, out_features=3072, bias=True)\n",
              "          )\n",
              "          (output): BertOutput(\n",
              "            (dense): Linear(in_features=3072, out_features=768, bias=True)\n",
              "            (LayerNorm): LayerNorm((768,), eps=1e-12, elementwise_affine=True)\n",
              "            (dropout): Dropout(p=0.1, inplace=False)\n",
              "          )\n",
              "        )\n",
              "        (11): BertLayer(\n",
              "          (attention): BertAttention(\n",
              "            (self): BertSelfAttention(\n",
              "              (query): Linear(in_features=768, out_features=768, bias=True)\n",
              "              (key): Linear(in_features=768, out_features=768, bias=True)\n",
              "              (value): Linear(in_features=768, out_features=768, bias=True)\n",
              "              (dropout): Dropout(p=0.1, inplace=False)\n",
              "            )\n",
              "            (output): BertSelfOutput(\n",
              "              (dense): Linear(in_features=768, out_features=768, bias=True)\n",
              "              (LayerNorm): LayerNorm((768,), eps=1e-12, elementwise_affine=True)\n",
              "              (dropout): Dropout(p=0.1, inplace=False)\n",
              "            )\n",
              "          )\n",
              "          (intermediate): BertIntermediate(\n",
              "            (dense): Linear(in_features=768, out_features=3072, bias=True)\n",
              "          )\n",
              "          (output): BertOutput(\n",
              "            (dense): Linear(in_features=3072, out_features=768, bias=True)\n",
              "            (LayerNorm): LayerNorm((768,), eps=1e-12, elementwise_affine=True)\n",
              "            (dropout): Dropout(p=0.1, inplace=False)\n",
              "          )\n",
              "        )\n",
              "      )\n",
              "    )\n",
              "    (pooler): BertPooler(\n",
              "      (dense): Linear(in_features=768, out_features=768, bias=True)\n",
              "      (activation): Tanh()\n",
              "    )\n",
              "  )\n",
              "  (dropout): Dropout(p=0.1, inplace=False)\n",
              "  (classifier): Linear(in_features=768, out_features=3, bias=True)\n",
              ")"
            ]
          },
          "metadata": {
            "tags": []
          },
          "execution_count": 14
        }
      ]
    },
    {
      "cell_type": "markdown",
      "metadata": {
        "id": "fwzVLhZTx-Bm"
      },
      "source": [
        "We create functions to calculate f1 scores, accuracy per class and another one to apply our model on our dataset. This will help us first during the training and then to evaluate our model performance."
      ]
    },
    {
      "cell_type": "code",
      "metadata": {
        "id": "ffpu2JlxZ0eX"
      },
      "source": [
        "#FUNCTION TO CALCULATE F1 SCORE\n",
        "def f1_score_func(preds, labels):\n",
        "    preds_flat = np.argmax(preds,axis=1).flatten()\n",
        "    labels_flat = labels.flatten()\n",
        "    return f1_score(labels_flat, preds_flat, average = 'weighted')\n",
        "#FUNCTION FOR CALCULATING ACCURACY PER CLASS\n",
        "def accuracy_per_class(preds, labels):\n",
        "    #label_dict_inverse = {v:k for k,v in label_dict.items()}\n",
        "    \n",
        "    preds_flat = np.argmax(preds,axis=1).flatten()\n",
        "    labels_flat = labels.flatten()\n",
        "    \n",
        "    for label in np.unique(labels_flat):\n",
        "        y_preds = preds_flat[labels_flat==label]\n",
        "        y_true = labels_flat[labels_flat==label]\n",
        "        #print(label_dict_inverse[label])\n",
        "        print(\"accuracy \", len(y_preds[y_preds==label])/len(y_true))\n",
        "#FUNCTION FOR MODEL EVALUATION\n",
        "def evaluate(dataloader_val):\n",
        "    model.eval()\n",
        "    \n",
        "    loss_val_total = 0\n",
        "    predictions, true_vals = [], []\n",
        "    \n",
        "    for batch in dataloader_val:\n",
        "        \n",
        "        batch = tuple(b.to(device) for b in batch)\n",
        "        \n",
        "        inputs = {'input_ids':      batch[0],\n",
        "                  'attention_mask': batch[1],\n",
        "                  'labels':         batch[2],\n",
        "                 }\n",
        "\n",
        "        with torch.no_grad():        \n",
        "            outputs = model(**inputs)\n",
        "            \n",
        "        loss = outputs[0]\n",
        "        logits = outputs[1]\n",
        "        loss_val_total += loss.item()\n",
        "        logits = logits.detach().cpu().numpy()\n",
        "        label_ids = inputs['labels'].cpu().numpy()\n",
        "        predictions.append(logits)\n",
        "        true_vals.append(label_ids)\n",
        "    \n",
        "    loss_val_avg = loss_val_total/len(dataloader_val) \n",
        "    \n",
        "    predictions = np.concatenate(predictions, axis=0)\n",
        "    true_vals = np.concatenate(true_vals, axis=0)\n",
        "            \n",
        "    return loss_val_avg, predictions, true_vals"
      ],
      "execution_count": null,
      "outputs": []
    },
    {
      "cell_type": "markdown",
      "metadata": {
        "id": "7u0k2BQwNsH6"
      },
      "source": [
        "### **Training model**"
      ]
    },
    {
      "cell_type": "markdown",
      "metadata": {
        "id": "ax-kY92TyW98"
      },
      "source": [
        "Now we can train our model during 5 epochs."
      ]
    },
    {
      "cell_type": "code",
      "metadata": {
        "id": "dyh_mN-9Z6Kw",
        "colab": {
          "base_uri": "https://localhost:8080/",
          "height": 555,
          "referenced_widgets": [
            "ba076a763eef4588ab2b8f6a4e76a881",
            "c5946b81c47248c49aa97e8afeaf90cb",
            "b6435eadc6454138966dc75c46153540",
            "a2185908e9d04e7686a8d1a21ece80f4",
            "8daa08ddc9d841aeb83f1204c67bc8fe",
            "3c57e3b508cd4dd48cc9e255a2fbda99",
            "f07f1b6e8d8644ba95b00d08a2333ff7",
            "9be5719b0b604610a468f49453870083",
            "080a3ee609d74bbaa90c6286db719b0c",
            "c65210e87f5a4a2c97e3c68e472a8c8b",
            "41a90428183742bda5b28e1d7e83b94f",
            "4a2b17337f8744eaa06fe2d27726a2af",
            "7cd97146ec5e441c82f32fa62cc26a1d",
            "51750f467da74733b2ff6c82f50898ea",
            "41c0628f79424de8b4829e28dbd60e26",
            "c29bc05f5a3b4e398a3e9927af63f52c",
            "f462f429fe7b468fbb82adaf6044c4ab",
            "3b900c430b0a42dea3cc915ce05986b5",
            "c48978d9f95046279a6357f8e04dfac3",
            "c3a64f68cccb47129eff8fc5e2e701aa",
            "5d716379546f4d178d510a71b6fd22bf",
            "e21ef41db26847fe86877f657e71b029",
            "b46261c4b74f46c0b677c3bc2b5b833a",
            "4c3fc878db544ddf9faf890f6ee1fcca",
            "a2d2d8f4c5a647058a8ca4f2f0e7e09d",
            "5e9d8b83b67b4a7c83756f8ca53e6965",
            "4dcf47b87dd340308c8853dfc3120cf6",
            "9d175928a09743bda190bcb686c0c8a2",
            "5416039c97ee463884054c34e71f88ca",
            "b4aad9bd28e240459f23a330cc066254",
            "05d7edb8031648eb940688e03ab766dc",
            "c0357f08e2224eaf9e2cde61985e024a",
            "b47f02dd662b4ec9bc148a2c2c81a0a0",
            "2760c72e8e0e428f8e65d4beaed11621",
            "8e697675217940c7b893a963d717b466",
            "48e1b5a3b8ad4e3bbdedbd9bc3925beb",
            "1a16abcd3368436bb1b6f635ecb71363",
            "e5a5a5fc34e44156b533e5ae7e754165",
            "587130261a5249e2a55537a0be80c21b",
            "f0224fdc918641eb8321e4f8a578405f",
            "0d20d253b83c4a988f119b38a8ebbf00",
            "794c74f3c70e47d1a5155c25d2e6c2ed",
            "2d8a9fba86db490db722388d1ece782d",
            "c3a8ff6a7d73474fb7628e9eb428ea7a",
            "5903156a487545008586fc9d4d8b8be2",
            "17a495ca26e049f28ca9b5410a62da3f",
            "e6a6587fc0d745c0a08a9b67c4e5343c",
            "80700b6ca03a4dd38642e479a21fd07b"
          ]
        },
        "outputId": "92dc1bb9-13ad-4973-e6a5-9270a267b3e1"
      },
      "source": [
        "\n",
        "for epoch in tqdm(range(1, epochs+1)):\n",
        "    model.train()\n",
        "    \n",
        "    loss_train_total = 0\n",
        "    \n",
        "    progress_bar = tqdm(dataloader_train, \n",
        "                        desc ='Epoch {:1d}'.format(epoch),\n",
        "                        leave=False,\n",
        "                       disable=False\n",
        "                       )\n",
        "    for batch in progress_bar:\n",
        "        model.zero_grad()\n",
        "        \n",
        "        batch = tuple(b.to(device) for b in batch)\n",
        "\n",
        "        \n",
        "        inputs = { 'input_ids' : batch[0],\n",
        "                 'attention_mask' : batch[1],\n",
        "                 'labels' : batch[2]\n",
        "                 }\n",
        "\n",
        "        outputs = model(input_ids = batch[0], attention_mask = batch[1], labels = batch[2])\n",
        "        \n",
        "        \n",
        "        loss = outputs[0]\n",
        "        loss_train_total += loss.item()\n",
        "        loss.backward()\n",
        "        torch.nn.utils.clip_grad_norm_(model.parameters(), 1.0)\n",
        "        \n",
        "        optimizer.step()\n",
        "        scheduler.step()\n",
        "        \n",
        "        progress_bar.set_postfix({'training_loss':'{:.3f}'.format(loss.item()/len(batch))})\n",
        "    \n",
        "    # We print the losses and save the weights at each epoch\n",
        "    torch.save(model.state_dict(), f'BERT_ft_epoch{epoch}.model')\n",
        "    tqdm.write(f'\\nEpoch {epoch}')\n",
        "    \n",
        "    loss_train_avg = loss_train_total/len(dataloader_train)\n",
        "    tqdm.write(f'Training loss: {loss_train_avg}')\n",
        "    \n",
        "    val_loss, predictions, true_vals = evaluate(dataloader_val)\n",
        "    val_f1 = f1_score_func(predictions, true_vals)\n",
        "    tqdm.write(f'Validation loss: {val_loss}')\n",
        "    tqdm.write(f'F1 score (weighted): {val_f1}')  "
      ],
      "execution_count": null,
      "outputs": [
        {
          "output_type": "display_data",
          "data": {
            "application/vnd.jupyter.widget-view+json": {
              "model_id": "ba076a763eef4588ab2b8f6a4e76a881",
              "version_major": 2,
              "version_minor": 0
            },
            "text/plain": [
              "HBox(children=(FloatProgress(value=0.0, max=5.0), HTML(value='')))"
            ]
          },
          "metadata": {
            "tags": []
          }
        },
        {
          "output_type": "display_data",
          "data": {
            "application/vnd.jupyter.widget-view+json": {
              "model_id": "080a3ee609d74bbaa90c6286db719b0c",
              "version_major": 2,
              "version_minor": 0
            },
            "text/plain": [
              "HBox(children=(FloatProgress(value=0.0, description='Epoch 1', max=2361.0, style=ProgressStyle(description_wid…"
            ]
          },
          "metadata": {
            "tags": []
          }
        },
        {
          "output_type": "stream",
          "text": [
            "\n",
            "Epoch 1\n",
            "Training loss: 0.7591445885286247\n",
            "Validation loss: 0.7347005541321586\n",
            "F1 score (weighted): 0.6395423531728757\n"
          ],
          "name": "stdout"
        },
        {
          "output_type": "display_data",
          "data": {
            "application/vnd.jupyter.widget-view+json": {
              "model_id": "f462f429fe7b468fbb82adaf6044c4ab",
              "version_major": 2,
              "version_minor": 0
            },
            "text/plain": [
              "HBox(children=(FloatProgress(value=0.0, description='Epoch 2', max=2361.0, style=ProgressStyle(description_wid…"
            ]
          },
          "metadata": {
            "tags": []
          }
        },
        {
          "output_type": "stream",
          "text": [
            "\n",
            "Epoch 2\n",
            "Training loss: 0.7497428584810739\n",
            "Validation loss: 0.7441492743004383\n",
            "F1 score (weighted): 0.6395423531728757\n"
          ],
          "name": "stdout"
        },
        {
          "output_type": "display_data",
          "data": {
            "application/vnd.jupyter.widget-view+json": {
              "model_id": "a2d2d8f4c5a647058a8ca4f2f0e7e09d",
              "version_major": 2,
              "version_minor": 0
            },
            "text/plain": [
              "HBox(children=(FloatProgress(value=0.0, description='Epoch 3', max=2361.0, style=ProgressStyle(description_wid…"
            ]
          },
          "metadata": {
            "tags": []
          }
        },
        {
          "output_type": "stream",
          "text": [
            "\r\n",
            "Epoch 3\n",
            "Training loss: 0.7382387311364674\n",
            "Validation loss: 0.73711432219309\n",
            "F1 score (weighted): 0.6395423531728757\n"
          ],
          "name": "stdout"
        },
        {
          "output_type": "display_data",
          "data": {
            "application/vnd.jupyter.widget-view+json": {
              "model_id": "b47f02dd662b4ec9bc148a2c2c81a0a0",
              "version_minor": 0,
              "version_major": 2
            },
            "text/plain": [
              "HBox(children=(FloatProgress(value=0.0, description='Epoch 4', max=2361.0, style=ProgressStyle(description_wid…"
            ]
          },
          "metadata": {
            "tags": []
          }
        },
        {
          "output_type": "stream",
          "text": [
            "\r\n",
            "Epoch 4\n",
            "Training loss: 0.7360546330762384\n",
            "Validation loss: 0.7359411749785253\n",
            "F1 score (weighted): 0.6395423531728757\n"
          ],
          "name": "stdout"
        },
        {
          "output_type": "display_data",
          "data": {
            "application/vnd.jupyter.widget-view+json": {
              "model_id": "0d20d253b83c4a988f119b38a8ebbf00",
              "version_minor": 0,
              "version_major": 2
            },
            "text/plain": [
              "HBox(children=(FloatProgress(value=0.0, description='Epoch 5', max=2361.0, style=ProgressStyle(description_wid…"
            ]
          },
          "metadata": {
            "tags": []
          }
        },
        {
          "output_type": "stream",
          "text": [
            "\r\n",
            "Epoch 5\n",
            "Training loss: 0.7354577820793848\n",
            "Validation loss: 0.7352299856488254\n",
            "F1 score (weighted): 0.6395423531728757\n",
            "\n"
          ],
          "name": "stdout"
        }
      ]
    },
    {
      "cell_type": "markdown",
      "metadata": {
        "id": "w4aBWedpyaYd"
      },
      "source": [
        "We can see here that the f1-score of the validation set is the same during all the epochs. So it seems that we have a problem. Let's see the scores to understand what went wrong."
      ]
    },
    {
      "cell_type": "markdown",
      "metadata": {
        "id": "LQptmBaxaDNK"
      },
      "source": [
        "### **Performance and scores**"
      ]
    },
    {
      "cell_type": "markdown",
      "metadata": {
        "id": "jqRbxGf5yu2A"
      },
      "source": [
        "Here we just load the weights that we had at the end of the training step from our google drive."
      ]
    },
    {
      "cell_type": "code",
      "metadata": {
        "colab": {
          "base_uri": "https://localhost:8080/"
        },
        "id": "ZzILAehJeIdu",
        "outputId": "b1145eb0-6521-4bcf-dfd0-4bce4a24f493"
      },
      "source": [
        "%cd \"/content/drive/MyDrive/ML for NLP/projet/\"\n",
        "model = BertForSequenceClassification.from_pretrained('bert-base-uncased', num_labels=3, output_attentions=False, output_hidden_states=False )\n",
        "model.load_state_dict(torch.load(\"BERT_ft_epoch5.model\",map_location=torch.device('cpu')))\n",
        "dataloader_train = DataLoader(dataset_train,shuffle = False, batch_size= 64)   #sampler = RandomSampler(dataset_train)\n",
        "                             \n",
        "dataloader_val = DataLoader(dataset_val, shuffle = False , batch_size= 64)  #sampler = RandomSampler(dataset_val)\n",
        "\n",
        "dataloader_test = DataLoader(dataset_test, shuffle = False , batch_size= 64)  #sampler = RandomSampler(dataset_val)\n",
        "#SETTING OPTIMIZERS\n",
        "optimizer = AdamW(model.parameters(),lr=1e-3,eps=1e-6)\n",
        "epochs = 3\n",
        "scheduler = get_linear_schedule_with_warmup(optimizer, num_warmup_steps=0, num_training_steps=len(dataloader_train)*epochs)"
      ],
      "execution_count": null,
      "outputs": [
        {
          "output_type": "stream",
          "text": [
            "/content/drive/.shortcut-targets-by-id/1W4QW2QIjyvZ7QcdssmqEu9-ZrKPWRkWD/ML for NLP/projet\n"
          ],
          "name": "stdout"
        },
        {
          "output_type": "stream",
          "text": [
            "Some weights of the model checkpoint at bert-base-uncased were not used when initializing BertForSequenceClassification: ['cls.predictions.bias', 'cls.predictions.transform.dense.weight', 'cls.predictions.transform.dense.bias', 'cls.predictions.decoder.weight', 'cls.seq_relationship.weight', 'cls.seq_relationship.bias', 'cls.predictions.transform.LayerNorm.weight', 'cls.predictions.transform.LayerNorm.bias']\n",
            "- This IS expected if you are initializing BertForSequenceClassification from the checkpoint of a model trained on another task or with another architecture (e.g. initializing a BertForSequenceClassification model from a BertForPreTraining model).\n",
            "- This IS NOT expected if you are initializing BertForSequenceClassification from the checkpoint of a model that you expect to be exactly identical (initializing a BertForSequenceClassification model from a BertForSequenceClassification model).\n",
            "Some weights of BertForSequenceClassification were not initialized from the model checkpoint at bert-base-uncased and are newly initialized: ['classifier.weight', 'classifier.bias']\n",
            "You should probably TRAIN this model on a down-stream task to be able to use it for predictions and inference.\n"
          ],
          "name": "stderr"
        }
      ]
    },
    {
      "cell_type": "markdown",
      "metadata": {
        "id": "06WGGhcPy3wU"
      },
      "source": [
        "**Scores on validation set**"
      ]
    },
    {
      "cell_type": "markdown",
      "metadata": {
        "id": "uLMyowigzNED"
      },
      "source": [
        "Here, true_vals are the sentiment labels of the dataset and predictions is an array with, for each observation, a score for each class (it could be compared to a probability that a comment belongs to each class, but the scores can be negative). The highest score designates the class associated with the comment."
      ]
    },
    {
      "cell_type": "code",
      "metadata": {
        "id": "apThTpHeC29q"
      },
      "source": [
        "device = torch.device(\"cuda:0\" if torch.cuda.is_available() else \"cpu\")\n",
        "model.to(device)\n",
        "val_loss, predictions, true_vals = evaluate(dataloader_val)"
      ],
      "execution_count": null,
      "outputs": []
    },
    {
      "cell_type": "code",
      "metadata": {
        "colab": {
          "base_uri": "https://localhost:8080/"
        },
        "id": "XX-vipo9L8sm",
        "outputId": "364db3a9-b704-4a8e-e09b-4424472fb827"
      },
      "source": [
        "val_f1 = f1_score_func(predictions, true_vals)\n",
        "val_f1"
      ],
      "execution_count": null,
      "outputs": [
        {
          "output_type": "execute_result",
          "data": {
            "text/plain": [
              "0.6395423531728757"
            ]
          },
          "metadata": {
            "tags": []
          },
          "execution_count": 16
        }
      ]
    },
    {
      "cell_type": "code",
      "metadata": {
        "colab": {
          "base_uri": "https://localhost:8080/"
        },
        "id": "cbV08Y7fVbXJ",
        "outputId": "54d01ef7-1203-42a7-f533-0fdc663c997f"
      },
      "source": [
        "accuracy_per_class(predictions, true_vals)"
      ],
      "execution_count": null,
      "outputs": [
        {
          "output_type": "stream",
          "text": [
            "accuracy  0.0\n",
            "accuracy  0.0\n",
            "accuracy  1.0\n"
          ],
          "name": "stdout"
        }
      ]
    },
    {
      "cell_type": "markdown",
      "metadata": {
        "id": "gdf3gbpMz9bf"
      },
      "source": [
        "Here we can see that the model is just like the naive model : it gives the positive sentiment to all the comments. This is completely useless. It can be explained by the fact that the dataset is very unbalanced.\n",
        "\n",
        "\n",
        "---\n",
        "\n",
        "To avoid this problem, we decided to drop more rows and re-train the model (we should have done smote but we did not have the time to retrain the model with that much observations).\n",
        "The following part is just the same as we did before but with a smaller dataset."
      ]
    },
    {
      "cell_type": "markdown",
      "metadata": {
        "id": "3D9aairTYpen"
      },
      "source": [
        "### **2nd try on a more balanced and smaller dataset**"
      ]
    },
    {
      "cell_type": "code",
      "metadata": {
        "colab": {
          "base_uri": "https://localhost:8080/"
        },
        "id": "Gjl50vWZYowA",
        "outputId": "79f0c221-1bec-4024-9945-e54e6b32937a"
      },
      "source": [
        "%cd \"/content/drive/MyDrive/ML for NLP/projet/\"\n",
        "X_train2 = pd.read_csv(\"X_train.csv\")\n",
        "X_train2 = X_train2.drop(columns = ['lemmas','mean_word2vec_2'])\n",
        "X_test2 = pd.read_csv(\"X_test.csv\")\n",
        "X_test2 = X_test2.drop(columns = ['lemmas','mean_word2vec_2'])\n",
        "X_val2 = pd.read_csv(\"X_val.csv\")\n",
        "X_val2 = X_val2.drop(columns = ['lemmas','mean_word2vec_2'])\n",
        "y_train2 = pd.read_csv(\"y_train.csv\")\n",
        "y_test2 = pd.read_csv(\"y_test.csv\")\n",
        "y_val2 = pd.read_csv(\"y_val.csv\")"
      ],
      "execution_count": null,
      "outputs": [
        {
          "output_type": "stream",
          "text": [
            "/content/drive/.shortcut-targets-by-id/1W4QW2QIjyvZ7QcdssmqEu9-ZrKPWRkWD/ML for NLP/projet\n"
          ],
          "name": "stdout"
        }
      ]
    },
    {
      "cell_type": "code",
      "metadata": {
        "id": "Fi1ON2UFY4mn"
      },
      "source": [
        "# PREPARATION OF THE DATASET\n",
        "\n",
        "# 1. We drop part of the dataset where sentiment = 1, first to train faster, and to have a datset a little less unbalanced\n",
        "frac = .95\n",
        "X_train2=X_train2.drop(X_train2.query('rating in [4,5]').sample(frac=frac, random_state = 42).index)\n",
        "X_test2=X_test2.drop(X_test2.query('rating in [4,5]').sample(frac=frac, random_state = 42).index)\n",
        "X_val2=X_val2.drop(X_val2.query('rating in [4,5]').sample(frac=frac, random_state = 42).index)\n",
        "y_train2=y_train2.drop(y_train2.query('sentiment ==1 ').sample(frac=frac, random_state = 42).index)\n",
        "y_test2=y_test2.drop(y_test2.query('sentiment ==1 ').sample(frac=frac, random_state = 42).index)\n",
        "y_val2=y_val2.drop(y_val2.query('sentiment ==1 ').sample(frac=frac, random_state = 42).index)\n",
        "\n",
        "# 2. We reindex the dataframes because we dropped some rows\n",
        "X_train2 = X_train2.reset_index()\n",
        "y_train2 = y_train2.reset_index()\n",
        "X_test2 = X_test2.reset_index()\n",
        "y_test2 = y_test2.reset_index()\n",
        "X_val2 = X_val2.reset_index()\n",
        "y_val2 = y_val2.reset_index()"
      ],
      "execution_count": null,
      "outputs": []
    },
    {
      "cell_type": "code",
      "metadata": {
        "id": "SiY0BkmlZNDi"
      },
      "source": [
        "# To train bert classification, we need label values that are 0, 1, 2 instead of -1, 0, 1.\n",
        "y_train2[\"sentiment\"] = y_train2['sentiment'].apply(lambda x : x + 1)\n",
        "y_test2[\"sentiment\"] = y_test2['sentiment'].apply(lambda x : x + 1)\n",
        "y_val2[\"sentiment\"] = y_val2['sentiment'].apply(lambda x : x + 1)"
      ],
      "execution_count": null,
      "outputs": []
    },
    {
      "cell_type": "code",
      "metadata": {
        "colab": {
          "base_uri": "https://localhost:8080/",
          "height": 842
        },
        "id": "YKc-owYzZYCL",
        "outputId": "7ca9e497-7283-4cdc-86c5-967d83769b36"
      },
      "source": [
        "plt.figure()\n",
        "pd.value_counts(y_train2[\"sentiment\"]).plot.bar(title=\"Sentiment distribution in train set\")\n",
        "plt.xlabel(\"Sentiment\")\n",
        "plt.ylabel(\"No. of rows in train set\")\n",
        "plt.show()\n",
        "plt.figure()\n",
        "pd.value_counts(y_test2[\"sentiment\"]).plot.bar(title=\"Sentiment distribution in test set\")\n",
        "plt.xlabel(\"Sentiment\")\n",
        "plt.ylabel(\"No. of rows in test set\")\n",
        "plt.show()\n",
        "plt.figure()\n",
        "pd.value_counts(y_val2[\"sentiment\"]).plot.bar(title=\"Sentiment distribution in val set\")\n",
        "plt.xlabel(\"Sentiment\")\n",
        "plt.ylabel(\"No. of rows in val set\")\n",
        "plt.show()"
      ],
      "execution_count": null,
      "outputs": [
        {
          "output_type": "display_data",
          "data": {
            "image/png": "[encoded data removed]",
            "text/plain": [
              "<Figure size 432x288 with 1 Axes>"
            ]
          },
          "metadata": {
            "tags": [],
            "needs_background": "light"
          }
        },
        {
          "output_type": "display_data",
          "data": {
            "image/png": "[encoded data removed]",
            "text/plain": [
              "<Figure size 432x288 with 1 Axes>"
            ]
          },
          "metadata": {
            "tags": [],
            "needs_background": "light"
          }
        },
        {
          "output_type": "display_data",
          "data": {
            "image/png": "[encoded data removed]",
            "text/plain": [
              "<Figure size 432x288 with 1 Axes>"
            ]
          },
          "metadata": {
            "tags": [],
            "needs_background": "light"
          }
        }
      ]
    },
    {
      "cell_type": "code",
      "metadata": {
        "colab": {
          "base_uri": "https://localhost:8080/"
        },
        "id": "OL36Bag2Zkdk",
        "outputId": "d0f69e49-15d9-4da8-efb9-0870bde6cfda"
      },
      "source": [
        "for i in range(len(X_train2)) :\n",
        "    try :\n",
        "        if math.isnan(X_train2[\"review\"][i]) :\n",
        "            X_train2[\"review\"][i] = \"\"\n",
        "    except :\n",
        "        a=1\n",
        "\n",
        "\n",
        "for i in range(len(X_test2)) :\n",
        "    try :\n",
        "        if math.isnan(X_test2[\"review\"][i]) :\n",
        "            X_test2[\"review\"][i] = \"\"\n",
        "    except :\n",
        "        a=1\n",
        "\n",
        "for i in range(len(X_val2)) :\n",
        "    try :\n",
        "        if math.isnan(X_val2[\"review\"][i]) :\n",
        "            X_val2[\"review\"][i] = \"\"\n",
        "    except :\n",
        "        a=1"
      ],
      "execution_count": null,
      "outputs": [
        {
          "output_type": "stream",
          "text": [
            "/usr/local/lib/python3.7/dist-packages/ipykernel_launcher.py:4: SettingWithCopyWarning: \n",
            "A value is trying to be set on a copy of a slice from a DataFrame\n",
            "\n",
            "See the caveats in the documentation: https://pandas.pydata.org/pandas-docs/stable/user_guide/indexing.html#returning-a-view-versus-a-copy\n",
            "  after removing the cwd from sys.path.\n",
            "/usr/local/lib/python3.7/dist-packages/ipykernel_launcher.py:12: SettingWithCopyWarning: \n",
            "A value is trying to be set on a copy of a slice from a DataFrame\n",
            "\n",
            "See the caveats in the documentation: https://pandas.pydata.org/pandas-docs/stable/user_guide/indexing.html#returning-a-view-versus-a-copy\n",
            "  if sys.path[0] == '':\n",
            "/usr/local/lib/python3.7/dist-packages/ipykernel_launcher.py:19: SettingWithCopyWarning: \n",
            "A value is trying to be set on a copy of a slice from a DataFrame\n",
            "\n",
            "See the caveats in the documentation: https://pandas.pydata.org/pandas-docs/stable/user_guide/indexing.html#returning-a-view-versus-a-copy\n"
          ],
          "name": "stderr"
        }
      ]
    },
    {
      "cell_type": "code",
      "metadata": {
        "colab": {
          "base_uri": "https://localhost:8080/"
        },
        "id": "ylZrjeoYZ74Z",
        "outputId": "2a19c002-83e5-42b3-9396-213a6ddb18f6"
      },
      "source": [
        "tokenizer = BertTokenizer.from_pretrained('bert-base-cased', do_lower_case=True)\n",
        "#ENCODING DATA\n",
        "encoded_data_train = tokenizer.batch_encode_plus(X_train2.review.values.tolist(),\n",
        "                                                add_special_tokens=True,\n",
        "                                                return_attention_mask=True,\n",
        "                                                pad_to_max_length=True,\n",
        "                                                max_length=64,\n",
        "                                                return_tensors='pt',\n",
        "                                                )\n",
        "encoded_data_val = tokenizer.batch_encode_plus(X_val2.review.values.tolist(),\n",
        "                                                add_special_tokens=True,\n",
        "                                                return_attention_mask=True,\n",
        "                                                pad_to_max_length=True,\n",
        "                                                max_length=64,\n",
        "                                                 return_tensors='pt'\n",
        "                                                )\n",
        "encoded_data_test = tokenizer.batch_encode_plus(X_test2.review.values.tolist(),\n",
        "                                                add_special_tokens=True,\n",
        "                                                return_attention_mask=True,\n",
        "                                                pad_to_max_length=True,\n",
        "                                                max_length=64,\n",
        "                                                 return_tensors='pt'\n",
        "                                                )\n",
        "input_ids_train = encoded_data_train['input_ids']\n",
        "attention_masks_train = encoded_data_train['attention_mask']\n",
        "labels_train = torch.tensor(y_train2.sentiment.values)\n",
        "input_ids_val = encoded_data_val['input_ids']\n",
        "attention_masks_val = encoded_data_val['attention_mask']\n",
        "labels_val = torch.tensor(y_val2.sentiment.values)\n",
        "input_ids_test = encoded_data_test['input_ids']\n",
        "attention_masks_test = encoded_data_test['attention_mask']\n",
        "labels_test = torch.tensor(y_test2.sentiment.values)\n",
        "dataset_train = TensorDataset(input_ids_train, attention_masks_train, labels_train)\n",
        "dataset_val = TensorDataset(input_ids_val, attention_masks_val, labels_val)\n",
        "dataset_test = TensorDataset(input_ids_test, attention_masks_test, labels_test)"
      ],
      "execution_count": null,
      "outputs": [
        {
          "output_type": "stream",
          "text": [
            "Truncation was not explicitly activated but `max_length` is provided a specific value, please use `truncation=True` to explicitly truncate examples to max length. Defaulting to 'longest_first' truncation strategy. If you encode pairs of sequences (GLUE-style) with the tokenizer you can select this strategy more precisely by providing a specific strategy to `truncation`.\n",
            "/usr/local/lib/python3.7/dist-packages/transformers/tokenization_utils_base.py:2079: FutureWarning: The `pad_to_max_length` argument is deprecated and will be removed in a future version, use `padding=True` or `padding='longest'` to pad to the longest sequence in the batch, or use `padding='max_length'` to pad to a max length. In this case, you can give a specific length with `max_length` (e.g. `max_length=45`) or leave max_length to None to pad to the maximal input size of the model (e.g. 512 for Bert).\n",
            "  FutureWarning,\n"
          ],
          "name": "stderr"
        }
      ]
    },
    {
      "cell_type": "code",
      "metadata": {
        "colab": {
          "base_uri": "https://localhost:8080/"
        },
        "id": "foLEDgHyaQB1",
        "outputId": "f81bb2d3-0526-48c0-fe57-c5f74dd0624d"
      },
      "source": [
        "#SETTING MODEL\n",
        "model = BertForSequenceClassification.from_pretrained('bert-base-uncased', num_labels=3, output_attentions=False, output_hidden_states=False )\n",
        "#CREATING DATA LOADERS\n",
        "dataloader_train = DataLoader(dataset_train,shuffle = False, batch_size= 64)   #sampler = RandomSampler(dataset_train)\n",
        "                             \n",
        "dataloader_val = DataLoader(dataset_val, shuffle = False , batch_size= 64)  #sampler = RandomSampler(dataset_val)\n",
        "      \n",
        "#SETTING OPTIMIZERS\n",
        "optimizer = AdamW(model.parameters(),lr=1e-4,eps=1e-6)\n",
        "epochs = 3\n",
        "scheduler = get_linear_schedule_with_warmup(optimizer, num_warmup_steps=0, num_training_steps=len(dataloader_train)*epochs)"
      ],
      "execution_count": null,
      "outputs": [
        {
          "output_type": "stream",
          "text": [
            "Some weights of the model checkpoint at bert-base-uncased were not used when initializing BertForSequenceClassification: ['cls.predictions.bias', 'cls.predictions.transform.dense.weight', 'cls.predictions.transform.dense.bias', 'cls.predictions.decoder.weight', 'cls.seq_relationship.weight', 'cls.seq_relationship.bias', 'cls.predictions.transform.LayerNorm.weight', 'cls.predictions.transform.LayerNorm.bias']\n",
            "- This IS expected if you are initializing BertForSequenceClassification from the checkpoint of a model trained on another task or with another architecture (e.g. initializing a BertForSequenceClassification model from a BertForPreTraining model).\n",
            "- This IS NOT expected if you are initializing BertForSequenceClassification from the checkpoint of a model that you expect to be exactly identical (initializing a BertForSequenceClassification model from a BertForSequenceClassification model).\n",
            "Some weights of BertForSequenceClassification were not initialized from the model checkpoint at bert-base-uncased and are newly initialized: ['classifier.weight', 'classifier.bias']\n",
            "You should probably TRAIN this model on a down-stream task to be able to use it for predictions and inference.\n"
          ],
          "name": "stderr"
        }
      ]
    },
    {
      "cell_type": "code",
      "metadata": {
        "id": "nHcEk_kEp6GA"
      },
      "source": [
        "dataloader_test = DataLoader(dataset_test, shuffle = False , batch_size= 64)  #sampler = RandomSampler(dataset_val)"
      ],
      "execution_count": null,
      "outputs": []
    },
    {
      "cell_type": "code",
      "metadata": {
        "colab": {
          "base_uri": "https://localhost:8080/"
        },
        "id": "4QwaL-NGddIq",
        "outputId": "d6524b41-7cb9-4026-bdab-e6066548bf92"
      },
      "source": [
        "import random\n",
        "\n",
        "seed_val = 17\n",
        "random.seed(seed_val)\n",
        "np.random.seed(seed_val)\n",
        "torch.manual_seed(seed_val)\n",
        "torch.cuda.manual_seed_all(seed_val)\n",
        "\n",
        "device = torch.device(\"cuda:0\" if torch.cuda.is_available() else \"cpu\")\n",
        "model.to(device)"
      ],
      "execution_count": null,
      "outputs": [
        {
          "output_type": "execute_result",
          "data": {
            "text/plain": [
              "BertForSequenceClassification(\n",
              "  (bert): BertModel(\n",
              "    (embeddings): BertEmbeddings(\n",
              "      (word_embeddings): Embedding(30522, 768, padding_idx=0)\n",
              "      (position_embeddings): Embedding(512, 768)\n",
              "      (token_type_embeddings): Embedding(2, 768)\n",
              "      (LayerNorm): LayerNorm((768,), eps=1e-12, elementwise_affine=True)\n",
              "      (dropout): Dropout(p=0.1, inplace=False)\n",
              "    )\n",
              "    (encoder): BertEncoder(\n",
              "      (layer): ModuleList(\n",
              "        (0): BertLayer(\n",
              "          (attention): BertAttention(\n",
              "            (self): BertSelfAttention(\n",
              "              (query): Linear(in_features=768, out_features=768, bias=True)\n",
              "              (key): Linear(in_features=768, out_features=768, bias=True)\n",
              "              (value): Linear(in_features=768, out_features=768, bias=True)\n",
              "              (dropout): Dropout(p=0.1, inplace=False)\n",
              "            )\n",
              "            (output): BertSelfOutput(\n",
              "              (dense): Linear(in_features=768, out_features=768, bias=True)\n",
              "              (LayerNorm): LayerNorm((768,), eps=1e-12, elementwise_affine=True)\n",
              "              (dropout): Dropout(p=0.1, inplace=False)\n",
              "            )\n",
              "          )\n",
              "          (intermediate): BertIntermediate(\n",
              "            (dense): Linear(in_features=768, out_features=3072, bias=True)\n",
              "          )\n",
              "          (output): BertOutput(\n",
              "            (dense): Linear(in_features=3072, out_features=768, bias=True)\n",
              "            (LayerNorm): LayerNorm((768,), eps=1e-12, elementwise_affine=True)\n",
              "            (dropout): Dropout(p=0.1, inplace=False)\n",
              "          )\n",
              "        )\n",
              "        (1): BertLayer(\n",
              "          (attention): BertAttention(\n",
              "            (self): BertSelfAttention(\n",
              "              (query): Linear(in_features=768, out_features=768, bias=True)\n",
              "              (key): Linear(in_features=768, out_features=768, bias=True)\n",
              "              (value): Linear(in_features=768, out_features=768, bias=True)\n",
              "              (dropout): Dropout(p=0.1, inplace=False)\n",
              "            )\n",
              "            (output): BertSelfOutput(\n",
              "              (dense): Linear(in_features=768, out_features=768, bias=True)\n",
              "              (LayerNorm): LayerNorm((768,), eps=1e-12, elementwise_affine=True)\n",
              "              (dropout): Dropout(p=0.1, inplace=False)\n",
              "            )\n",
              "          )\n",
              "          (intermediate): BertIntermediate(\n",
              "            (dense): Linear(in_features=768, out_features=3072, bias=True)\n",
              "          )\n",
              "          (output): BertOutput(\n",
              "            (dense): Linear(in_features=3072, out_features=768, bias=True)\n",
              "            (LayerNorm): LayerNorm((768,), eps=1e-12, elementwise_affine=True)\n",
              "            (dropout): Dropout(p=0.1, inplace=False)\n",
              "          )\n",
              "        )\n",
              "        (2): BertLayer(\n",
              "          (attention): BertAttention(\n",
              "            (self): BertSelfAttention(\n",
              "              (query): Linear(in_features=768, out_features=768, bias=True)\n",
              "              (key): Linear(in_features=768, out_features=768, bias=True)\n",
              "              (value): Linear(in_features=768, out_features=768, bias=True)\n",
              "              (dropout): Dropout(p=0.1, inplace=False)\n",
              "            )\n",
              "            (output): BertSelfOutput(\n",
              "              (dense): Linear(in_features=768, out_features=768, bias=True)\n",
              "              (LayerNorm): LayerNorm((768,), eps=1e-12, elementwise_affine=True)\n",
              "              (dropout): Dropout(p=0.1, inplace=False)\n",
              "            )\n",
              "          )\n",
              "          (intermediate): BertIntermediate(\n",
              "            (dense): Linear(in_features=768, out_features=3072, bias=True)\n",
              "          )\n",
              "          (output): BertOutput(\n",
              "            (dense): Linear(in_features=3072, out_features=768, bias=True)\n",
              "            (LayerNorm): LayerNorm((768,), eps=1e-12, elementwise_affine=True)\n",
              "            (dropout): Dropout(p=0.1, inplace=False)\n",
              "          )\n",
              "        )\n",
              "        (3): BertLayer(\n",
              "          (attention): BertAttention(\n",
              "            (self): BertSelfAttention(\n",
              "              (query): Linear(in_features=768, out_features=768, bias=True)\n",
              "              (key): Linear(in_features=768, out_features=768, bias=True)\n",
              "              (value): Linear(in_features=768, out_features=768, bias=True)\n",
              "              (dropout): Dropout(p=0.1, inplace=False)\n",
              "            )\n",
              "            (output): BertSelfOutput(\n",
              "              (dense): Linear(in_features=768, out_features=768, bias=True)\n",
              "              (LayerNorm): LayerNorm((768,), eps=1e-12, elementwise_affine=True)\n",
              "              (dropout): Dropout(p=0.1, inplace=False)\n",
              "            )\n",
              "          )\n",
              "          (intermediate): BertIntermediate(\n",
              "            (dense): Linear(in_features=768, out_features=3072, bias=True)\n",
              "          )\n",
              "          (output): BertOutput(\n",
              "            (dense): Linear(in_features=3072, out_features=768, bias=True)\n",
              "            (LayerNorm): LayerNorm((768,), eps=1e-12, elementwise_affine=True)\n",
              "            (dropout): Dropout(p=0.1, inplace=False)\n",
              "          )\n",
              "        )\n",
              "        (4): BertLayer(\n",
              "          (attention): BertAttention(\n",
              "            (self): BertSelfAttention(\n",
              "              (query): Linear(in_features=768, out_features=768, bias=True)\n",
              "              (key): Linear(in_features=768, out_features=768, bias=True)\n",
              "              (value): Linear(in_features=768, out_features=768, bias=True)\n",
              "              (dropout): Dropout(p=0.1, inplace=False)\n",
              "            )\n",
              "            (output): BertSelfOutput(\n",
              "              (dense): Linear(in_features=768, out_features=768, bias=True)\n",
              "              (LayerNorm): LayerNorm((768,), eps=1e-12, elementwise_affine=True)\n",
              "              (dropout): Dropout(p=0.1, inplace=False)\n",
              "            )\n",
              "          )\n",
              "          (intermediate): BertIntermediate(\n",
              "            (dense): Linear(in_features=768, out_features=3072, bias=True)\n",
              "          )\n",
              "          (output): BertOutput(\n",
              "            (dense): Linear(in_features=3072, out_features=768, bias=True)\n",
              "            (LayerNorm): LayerNorm((768,), eps=1e-12, elementwise_affine=True)\n",
              "            (dropout): Dropout(p=0.1, inplace=False)\n",
              "          )\n",
              "        )\n",
              "        (5): BertLayer(\n",
              "          (attention): BertAttention(\n",
              "            (self): BertSelfAttention(\n",
              "              (query): Linear(in_features=768, out_features=768, bias=True)\n",
              "              (key): Linear(in_features=768, out_features=768, bias=True)\n",
              "              (value): Linear(in_features=768, out_features=768, bias=True)\n",
              "              (dropout): Dropout(p=0.1, inplace=False)\n",
              "            )\n",
              "            (output): BertSelfOutput(\n",
              "              (dense): Linear(in_features=768, out_features=768, bias=True)\n",
              "              (LayerNorm): LayerNorm((768,), eps=1e-12, elementwise_affine=True)\n",
              "              (dropout): Dropout(p=0.1, inplace=False)\n",
              "            )\n",
              "          )\n",
              "          (intermediate): BertIntermediate(\n",
              "            (dense): Linear(in_features=768, out_features=3072, bias=True)\n",
              "          )\n",
              "          (output): BertOutput(\n",
              "            (dense): Linear(in_features=3072, out_features=768, bias=True)\n",
              "            (LayerNorm): LayerNorm((768,), eps=1e-12, elementwise_affine=True)\n",
              "            (dropout): Dropout(p=0.1, inplace=False)\n",
              "          )\n",
              "        )\n",
              "        (6): BertLayer(\n",
              "          (attention): BertAttention(\n",
              "            (self): BertSelfAttention(\n",
              "              (query): Linear(in_features=768, out_features=768, bias=True)\n",
              "              (key): Linear(in_features=768, out_features=768, bias=True)\n",
              "              (value): Linear(in_features=768, out_features=768, bias=True)\n",
              "              (dropout): Dropout(p=0.1, inplace=False)\n",
              "            )\n",
              "            (output): BertSelfOutput(\n",
              "              (dense): Linear(in_features=768, out_features=768, bias=True)\n",
              "              (LayerNorm): LayerNorm((768,), eps=1e-12, elementwise_affine=True)\n",
              "              (dropout): Dropout(p=0.1, inplace=False)\n",
              "            )\n",
              "          )\n",
              "          (intermediate): BertIntermediate(\n",
              "            (dense): Linear(in_features=768, out_features=3072, bias=True)\n",
              "          )\n",
              "          (output): BertOutput(\n",
              "            (dense): Linear(in_features=3072, out_features=768, bias=True)\n",
              "            (LayerNorm): LayerNorm((768,), eps=1e-12, elementwise_affine=True)\n",
              "            (dropout): Dropout(p=0.1, inplace=False)\n",
              "          )\n",
              "        )\n",
              "        (7): BertLayer(\n",
              "          (attention): BertAttention(\n",
              "            (self): BertSelfAttention(\n",
              "              (query): Linear(in_features=768, out_features=768, bias=True)\n",
              "              (key): Linear(in_features=768, out_features=768, bias=True)\n",
              "              (value): Linear(in_features=768, out_features=768, bias=True)\n",
              "              (dropout): Dropout(p=0.1, inplace=False)\n",
              "            )\n",
              "            (output): BertSelfOutput(\n",
              "              (dense): Linear(in_features=768, out_features=768, bias=True)\n",
              "              (LayerNorm): LayerNorm((768,), eps=1e-12, elementwise_affine=True)\n",
              "              (dropout): Dropout(p=0.1, inplace=False)\n",
              "            )\n",
              "          )\n",
              "          (intermediate): BertIntermediate(\n",
              "            (dense): Linear(in_features=768, out_features=3072, bias=True)\n",
              "          )\n",
              "          (output): BertOutput(\n",
              "            (dense): Linear(in_features=3072, out_features=768, bias=True)\n",
              "            (LayerNorm): LayerNorm((768,), eps=1e-12, elementwise_affine=True)\n",
              "            (dropout): Dropout(p=0.1, inplace=False)\n",
              "          )\n",
              "        )\n",
              "        (8): BertLayer(\n",
              "          (attention): BertAttention(\n",
              "            (self): BertSelfAttention(\n",
              "              (query): Linear(in_features=768, out_features=768, bias=True)\n",
              "              (key): Linear(in_features=768, out_features=768, bias=True)\n",
              "              (value): Linear(in_features=768, out_features=768, bias=True)\n",
              "              (dropout): Dropout(p=0.1, inplace=False)\n",
              "            )\n",
              "            (output): BertSelfOutput(\n",
              "              (dense): Linear(in_features=768, out_features=768, bias=True)\n",
              "              (LayerNorm): LayerNorm((768,), eps=1e-12, elementwise_affine=True)\n",
              "              (dropout): Dropout(p=0.1, inplace=False)\n",
              "            )\n",
              "          )\n",
              "          (intermediate): BertIntermediate(\n",
              "            (dense): Linear(in_features=768, out_features=3072, bias=True)\n",
              "          )\n",
              "          (output): BertOutput(\n",
              "            (dense): Linear(in_features=3072, out_features=768, bias=True)\n",
              "            (LayerNorm): LayerNorm((768,), eps=1e-12, elementwise_affine=True)\n",
              "            (dropout): Dropout(p=0.1, inplace=False)\n",
              "          )\n",
              "        )\n",
              "        (9): BertLayer(\n",
              "          (attention): BertAttention(\n",
              "            (self): BertSelfAttention(\n",
              "              (query): Linear(in_features=768, out_features=768, bias=True)\n",
              "              (key): Linear(in_features=768, out_features=768, bias=True)\n",
              "              (value): Linear(in_features=768, out_features=768, bias=True)\n",
              "              (dropout): Dropout(p=0.1, inplace=False)\n",
              "            )\n",
              "            (output): BertSelfOutput(\n",
              "              (dense): Linear(in_features=768, out_features=768, bias=True)\n",
              "              (LayerNorm): LayerNorm((768,), eps=1e-12, elementwise_affine=True)\n",
              "              (dropout): Dropout(p=0.1, inplace=False)\n",
              "            )\n",
              "          )\n",
              "          (intermediate): BertIntermediate(\n",
              "            (dense): Linear(in_features=768, out_features=3072, bias=True)\n",
              "          )\n",
              "          (output): BertOutput(\n",
              "            (dense): Linear(in_features=3072, out_features=768, bias=True)\n",
              "            (LayerNorm): LayerNorm((768,), eps=1e-12, elementwise_affine=True)\n",
              "            (dropout): Dropout(p=0.1, inplace=False)\n",
              "          )\n",
              "        )\n",
              "        (10): BertLayer(\n",
              "          (attention): BertAttention(\n",
              "            (self): BertSelfAttention(\n",
              "              (query): Linear(in_features=768, out_features=768, bias=True)\n",
              "              (key): Linear(in_features=768, out_features=768, bias=True)\n",
              "              (value): Linear(in_features=768, out_features=768, bias=True)\n",
              "              (dropout): Dropout(p=0.1, inplace=False)\n",
              "            )\n",
              "            (output): BertSelfOutput(\n",
              "              (dense): Linear(in_features=768, out_features=768, bias=True)\n",
              "              (LayerNorm): LayerNorm((768,), eps=1e-12, elementwise_affine=True)\n",
              "              (dropout): Dropout(p=0.1, inplace=False)\n",
              "            )\n",
              "          )\n",
              "          (intermediate): BertIntermediate(\n",
              "            (dense): Linear(in_features=768, out_features=3072, bias=True)\n",
              "          )\n",
              "          (output): BertOutput(\n",
              "            (dense): Linear(in_features=3072, out_features=768, bias=True)\n",
              "            (LayerNorm): LayerNorm((768,), eps=1e-12, elementwise_affine=True)\n",
              "            (dropout): Dropout(p=0.1, inplace=False)\n",
              "          )\n",
              "        )\n",
              "        (11): BertLayer(\n",
              "          (attention): BertAttention(\n",
              "            (self): BertSelfAttention(\n",
              "              (query): Linear(in_features=768, out_features=768, bias=True)\n",
              "              (key): Linear(in_features=768, out_features=768, bias=True)\n",
              "              (value): Linear(in_features=768, out_features=768, bias=True)\n",
              "              (dropout): Dropout(p=0.1, inplace=False)\n",
              "            )\n",
              "            (output): BertSelfOutput(\n",
              "              (dense): Linear(in_features=768, out_features=768, bias=True)\n",
              "              (LayerNorm): LayerNorm((768,), eps=1e-12, elementwise_affine=True)\n",
              "              (dropout): Dropout(p=0.1, inplace=False)\n",
              "            )\n",
              "          )\n",
              "          (intermediate): BertIntermediate(\n",
              "            (dense): Linear(in_features=768, out_features=3072, bias=True)\n",
              "          )\n",
              "          (output): BertOutput(\n",
              "            (dense): Linear(in_features=3072, out_features=768, bias=True)\n",
              "            (LayerNorm): LayerNorm((768,), eps=1e-12, elementwise_affine=True)\n",
              "            (dropout): Dropout(p=0.1, inplace=False)\n",
              "          )\n",
              "        )\n",
              "      )\n",
              "    )\n",
              "    (pooler): BertPooler(\n",
              "      (dense): Linear(in_features=768, out_features=768, bias=True)\n",
              "      (activation): Tanh()\n",
              "    )\n",
              "  )\n",
              "  (dropout): Dropout(p=0.1, inplace=False)\n",
              "  (classifier): Linear(in_features=768, out_features=3, bias=True)\n",
              ")"
            ]
          },
          "metadata": {
            "tags": []
          },
          "execution_count": 22
        }
      ]
    },
    {
      "cell_type": "code",
      "metadata": {
        "colab": {
          "base_uri": "https://localhost:8080/",
          "height": 321,
          "referenced_widgets": [
            "44234dcde1924d509860ea8b214cc78b",
            "7498a9f5a7f943038639d3b336585d0b",
            "53573251410040168b0ea29134747231",
            "641a2a918cc64708889e4fbfabf6dfcd",
            "e336b09773bd4d9fa9af72463066406f",
            "76d8fa661459497f98d8eae6f0785453",
            "72240e573d6944138aefb634c316e40e",
            "5d57895b9b52442fb348b35fba11db74",
            "5cf02d6079de42b3a53fce43ee6a3f58",
            "bad36bd1d2bb498e8e2eb18bb8f6393d",
            "9772601353ce441cab352534ef825ecd",
            "472646e7c09b48dfbc93a7b8b23e6c17",
            "bf2bbd698c204084805f8ce469b514f4",
            "29c4e85493104bc5b0505351dbb85d39",
            "096dd32c613444298f2d62a0cfaa3b43",
            "fb570dc4d0254d249a21d2aab4fbbd27",
            "a493c3cc6bc9400e9912ce0f9d8133c4",
            "1be5eb80cae944959f1a4409a8a78323",
            "c2daacc4995a49ac94c2d7570851f78a",
            "d8b7b7ca3f514c109ab8dc90737bd77f",
            "ab73c04bf3f2438b9e6532e3d2852bda",
            "6a6b28ae6e824af79f66870d59b6a6b1",
            "da17dfbb82f941a3a17d24a2637695b5",
            "97fa0a14ccaf410193e0ebaf361e3006",
            "d23def992cd944a78df5f76c5a2250d7",
            "b30c2766d95e48d6a0670cf005dfeef4",
            "e02a2ccce44d4c8cb61df40b2a489f44",
            "24c9d70636b0434e8c5cde2403975f39",
            "c039e37c99ec493b9da5feb5b692e207",
            "052dda1a7cac485a884e5accf8bb3bb3",
            "1d0532082aa143b483bbc517073e01e1",
            "a6224c34e30e4ac8bb94121c5bb86947"
          ]
        },
        "id": "XZBWZcRKaZgZ",
        "outputId": "08312ded-39e2-4be6-88ae-f63377068984"
      },
      "source": [
        "for epoch in tqdm(range(1, epochs+1)):\n",
        "    model.train()\n",
        "    \n",
        "    loss_train_total = 0\n",
        "    \n",
        "    progress_bar = tqdm(dataloader_train, \n",
        "                        desc ='Epoch {:1d}'.format(epoch),\n",
        "                        leave=False,\n",
        "                       disable=False\n",
        "                       )\n",
        "    for batch in progress_bar:\n",
        "        model.zero_grad()\n",
        "        \n",
        "        batch = tuple(b.to(device) for b in batch)\n",
        "\n",
        "        \n",
        "        inputs = { 'input_ids' : batch[0],\n",
        "                 'attention_mask' : batch[1],\n",
        "                 'labels' : batch[2]\n",
        "                 }\n",
        "\n",
        "        outputs = model(input_ids = batch[0], attention_mask = batch[1], labels = batch[2])\n",
        "        \n",
        "        \n",
        "        loss = outputs[0]\n",
        "        loss_train_total += loss.item()\n",
        "        loss.backward()\n",
        "        torch.nn.utils.clip_grad_norm_(model.parameters(), 1.0)\n",
        "        \n",
        "        optimizer.step()\n",
        "        scheduler.step()\n",
        "        \n",
        "        progress_bar.set_postfix({'training_loss':'{:.3f}'.format(loss.item()/len(batch))})\n",
        "    \n",
        "    # We print the losses and save the weights at each epoch\n",
        "    #torch.save(model.state_dict(), f'BERT_ft_epoch{epoch}.model')\n",
        "    tqdm.write(f'\\nEpoch {epoch}')\n",
        "    \n",
        "    loss_train_avg = loss_train_total/len(dataloader_train)\n",
        "    tqdm.write(f'Training loss: {loss_train_avg}')\n",
        "    \n",
        "    val_loss, predictions, true_vals = evaluate(dataloader_val)\n",
        "    val_f1 = f1_score_func(predictions, true_vals)\n",
        "    tqdm.write(f'Validation loss: {val_loss}')\n",
        "    tqdm.write(f'F1 score (weighted): {val_f1}')  "
      ],
      "execution_count": null,
      "outputs": [
        {
          "output_type": "display_data",
          "data": {
            "application/vnd.jupyter.widget-view+json": {
              "model_id": "44234dcde1924d509860ea8b214cc78b",
              "version_minor": 0,
              "version_major": 2
            },
            "text/plain": [
              "HBox(children=(FloatProgress(value=0.0, max=3.0), HTML(value='')))"
            ]
          },
          "metadata": {
            "tags": []
          }
        },
        {
          "output_type": "display_data",
          "data": {
            "application/vnd.jupyter.widget-view+json": {
              "model_id": "5cf02d6079de42b3a53fce43ee6a3f58",
              "version_minor": 0,
              "version_major": 2
            },
            "text/plain": [
              "HBox(children=(FloatProgress(value=0.0, description='Epoch 1', max=1037.0, style=ProgressStyle(description_wid…"
            ]
          },
          "metadata": {
            "tags": []
          }
        },
        {
          "output_type": "stream",
          "text": [
            "\r\r\r\n",
            "Epoch 1\n",
            "Training loss: 0.6571385984882899\n",
            "Validation loss: 0.56479708101019\n",
            "F1 score (weighted): 0.7574190962757332\n"
          ],
          "name": "stdout"
        },
        {
          "output_type": "display_data",
          "data": {
            "application/vnd.jupyter.widget-view+json": {
              "model_id": "a493c3cc6bc9400e9912ce0f9d8133c4",
              "version_minor": 0,
              "version_major": 2
            },
            "text/plain": [
              "HBox(children=(FloatProgress(value=0.0, description='Epoch 2', max=1037.0, style=ProgressStyle(description_wid…"
            ]
          },
          "metadata": {
            "tags": []
          }
        },
        {
          "output_type": "stream",
          "text": [
            "\r\r\r\n",
            "Epoch 2\n",
            "Training loss: 0.49725782599662977\n",
            "Validation loss: 0.5385971030575691\n",
            "F1 score (weighted): 0.7774815420781523\n"
          ],
          "name": "stdout"
        },
        {
          "output_type": "display_data",
          "data": {
            "application/vnd.jupyter.widget-view+json": {
              "model_id": "d23def992cd944a78df5f76c5a2250d7",
              "version_minor": 0,
              "version_major": 2
            },
            "text/plain": [
              "HBox(children=(FloatProgress(value=0.0, description='Epoch 3', max=1037.0, style=ProgressStyle(description_wid…"
            ]
          },
          "metadata": {
            "tags": []
          }
        },
        {
          "output_type": "stream",
          "text": [
            "\r\r\r\n",
            "Epoch 3\n",
            "Training loss: 0.4158532303347537\n",
            "Validation loss: 0.5502672626965308\n",
            "F1 score (weighted): 0.777736377575841\n",
            "\n"
          ],
          "name": "stdout"
        }
      ]
    },
    {
      "cell_type": "markdown",
      "metadata": {
        "id": "s8CWnXp01QsQ"
      },
      "source": [
        "The results seem better ! We can already see that it looks like we are overfitting the train set. We will se it in more details in the following section."
      ]
    },
    {
      "cell_type": "markdown",
      "metadata": {
        "id": "uDJR30KE1c_B"
      },
      "source": [
        "### **Evaluation of the model**"
      ]
    },
    {
      "cell_type": "markdown",
      "metadata": {
        "id": "Dp-OViJH92Sb"
      },
      "source": [
        "**Quantitatively**"
      ]
    },
    {
      "cell_type": "markdown",
      "metadata": {
        "id": "RMsPSsOk6RP5"
      },
      "source": [
        "We use the function of the TD to sum up the performance of the second Bert model."
      ]
    },
    {
      "cell_type": "code",
      "metadata": {
        "id": "G4Zye63r1uX0"
      },
      "source": [
        "from sklearn.metrics import classification_report, confusion_matrix, roc_curve, auc, plot_roc_curve\n",
        "import seaborn as sn\n",
        " \n",
        "def show_eval(y_true, y_pred):\n",
        " ''' \n",
        " Show eval metrics. Takes binarized y true and pred along with trained binarizer for label names\n",
        " '''\n",
        " print( classification_report(y_true, y_pred) )\n",
        " cm = confusion_matrix(y_true, y_pred) \n",
        " labels = ['negative', 'neutral', 'positive']\n",
        " df_cm = pd.DataFrame(cm, index=labels, columns=labels)\n",
        " # config plot sizes\n",
        " sn.set(font_scale=1.2)\n",
        " sn.heatmap(df_cm, annot=True, annot_kws={\"size\": 18}, cmap='YlGnBu', linewidth=0.5, fmt=\"\")\n",
        " plt.show()\n",
        " \n",
        " \"\"\"\n",
        " fpr = dict()\n",
        " tpr = dict()\n",
        " roc_auc = dict()\n",
        " for i, label in enumerate(labels):\n",
        "  fpr[i], tpr[i], _ = roc_curve(y_true[: i], y_pred[: i])\n",
        "  roc_auc[i] = auc(fpr[i], tpr[i])\n",
        "  print(label, roc_auc[i])\n",
        " \n",
        " for i, label in enumerate(labels):\n",
        "  plt.figure()\n",
        "  plt.plot(fpr[i], tpr[i], label='ROC curve (area = %0.2f)' % roc_auc[i])\n",
        "  plt.plot([0, 1], [0, 1], 'k--')\n",
        "  plt.xlim([0.0, 1.0])\n",
        "  plt.ylim([0.0, 1.05])\n",
        "  plt.xlabel('False Positive Rate')\n",
        "  plt.ylabel('True Positive Rate')\n",
        "  plt.title('Receiver operating characteristic for '+label)\n",
        "  plt.legend(loc=\"lower right\")\n",
        "  plt.show()\n",
        "\n",
        "  \"\"\""
      ],
      "execution_count": null,
      "outputs": []
    },
    {
      "cell_type": "markdown",
      "metadata": {
        "id": "LXQl6qmD6Ybp"
      },
      "source": [
        "**On the train set**"
      ]
    },
    {
      "cell_type": "code",
      "metadata": {
        "id": "Lgstov-YnuLQ"
      },
      "source": [
        "train_loss, train_predictions, train_true_vals = evaluate(dataloader_train)"
      ],
      "execution_count": null,
      "outputs": []
    },
    {
      "cell_type": "code",
      "metadata": {
        "id": "euNTzucH6kuM"
      },
      "source": [
        "y_pred_train =  np.argmax(train_predictions,axis=1).flatten()"
      ],
      "execution_count": null,
      "outputs": []
    },
    {
      "cell_type": "code",
      "metadata": {
        "colab": {
          "base_uri": "https://localhost:8080/",
          "height": 441
        },
        "id": "Rss7Dg3T6zga",
        "outputId": "df693be9-cbe9-4c21-e1a7-d78dbcede1b7"
      },
      "source": [
        "show_eval(train_true_vals, y_pred_train)"
      ],
      "execution_count": null,
      "outputs": [
        {
          "output_type": "stream",
          "text": [
            "              precision    recall  f1-score   support\n",
            "\n",
            "           0       0.83      0.77      0.80     15154\n",
            "           1       0.79      0.83      0.81     22981\n",
            "           2       0.94      0.93      0.94     28230\n",
            "\n",
            "    accuracy                           0.86     66365\n",
            "   macro avg       0.85      0.84      0.85     66365\n",
            "weighted avg       0.86      0.86      0.86     66365\n",
            "\n"
          ],
          "name": "stdout"
        },
        {
          "output_type": "display_data",
          "data": {
            "image/png": "[encoded data removed]",
            "text/plain": [
              "<Figure size 432x288 with 2 Axes>"
            ]
          },
          "metadata": {
            "tags": []
          }
        }
      ]
    },
    {
      "cell_type": "code",
      "metadata": {
        "colab": {
          "base_uri": "https://localhost:8080/"
        },
        "id": "PfUfSVRYqEpr",
        "outputId": "68db031a-2eaa-4506-9185-034909ffa0fd"
      },
      "source": [
        "accuracy_per_class(train_predictions, train_true_vals)"
      ],
      "execution_count": null,
      "outputs": [
        {
          "output_type": "stream",
          "text": [
            "accuracy  0.7685759535436189\n",
            "accuracy  0.8301640485618554\n",
            "accuracy  0.9323769040028339\n"
          ],
          "name": "stdout"
        }
      ]
    },
    {
      "cell_type": "markdown",
      "metadata": {
        "id": "9CIyyKD27iGo"
      },
      "source": [
        "**On the test set**"
      ]
    },
    {
      "cell_type": "code",
      "metadata": {
        "id": "DarPyWe_nuLS"
      },
      "source": [
        "test_loss, test_predictions, test_true_vals = evaluate(dataloader_test)"
      ],
      "execution_count": null,
      "outputs": []
    },
    {
      "cell_type": "code",
      "metadata": {
        "id": "DmGmFdBo7ond"
      },
      "source": [
        "y_pred_test =  np.argmax(test_predictions,axis=1).flatten()"
      ],
      "execution_count": null,
      "outputs": []
    },
    {
      "cell_type": "code",
      "metadata": {
        "colab": {
          "base_uri": "https://localhost:8080/",
          "height": 441
        },
        "id": "OoqFy9Gm7onf",
        "outputId": "740521ce-9b11-4fab-d3d7-b0cfa390bc10"
      },
      "source": [
        "show_eval(test_true_vals, y_pred_test)"
      ],
      "execution_count": null,
      "outputs": [
        {
          "output_type": "stream",
          "text": [
            "              precision    recall  f1-score   support\n",
            "\n",
            "           0       0.73      0.66      0.69      6735\n",
            "           1       0.69      0.74      0.71     10214\n",
            "           2       0.88      0.88      0.88     12547\n",
            "\n",
            "    accuracy                           0.78     29496\n",
            "   macro avg       0.77      0.76      0.76     29496\n",
            "weighted avg       0.78      0.78      0.78     29496\n",
            "\n"
          ],
          "name": "stdout"
        },
        {
          "output_type": "display_data",
          "data": {
            "image/png": "[encoded data removed]",
            "text/plain": [
              "<Figure size 432x288 with 2 Axes>"
            ]
          },
          "metadata": {
            "tags": []
          }
        }
      ]
    },
    {
      "cell_type": "code",
      "metadata": {
        "colab": {
          "base_uri": "https://localhost:8080/"
        },
        "id": "l3Thriv8qJs9",
        "outputId": "cbdad994-7a74-4f6b-d8e9-68dc683088b3"
      },
      "source": [
        "accuracy_per_class(test_predictions, test_true_vals)"
      ],
      "execution_count": null,
      "outputs": [
        {
          "output_type": "stream",
          "text": [
            "accuracy  0.6580549368968077\n",
            "accuracy  0.7393773252398669\n",
            "accuracy  0.8794931059217342\n"
          ],
          "name": "stdout"
        }
      ]
    },
    {
      "cell_type": "code",
      "metadata": {
        "colab": {
          "base_uri": "https://localhost:8080/"
        },
        "id": "W_maJ8FVPbXY",
        "outputId": "d4697439-3335-4231-c359-9e82f080b461"
      },
      "source": [
        "tpr[2]"
      ],
      "execution_count": null,
      "outputs": [
        {
          "output_type": "execute_result",
          "data": {
            "text/plain": [
              "array([0.00000000e+00, 7.97003268e-05, 1.52227624e-02, ...,\n",
              "       9.99920300e-01, 1.00000000e+00, 1.00000000e+00])"
            ]
          },
          "metadata": {
            "tags": []
          },
          "execution_count": 98
        }
      ]
    },
    {
      "cell_type": "code",
      "metadata": {
        "id": "1TfKRxD0Ogrw"
      },
      "source": [
        "from sklearn import preprocessing\n",
        "lb = preprocessing.LabelBinarizer()\n",
        "lb_test = lb.fit(test_true_vals)\n",
        "y_test_lb = lb_test.transform(test_true_vals)\n",
        "\n",
        " \n",
        "fpr = dict()\n",
        "tpr = dict()\n",
        "roc_auc = dict()\n",
        "labels = ['negative', 'neutral', 'positive']\n",
        "for i, label in enumerate(labels):\n",
        " fpr[i], tpr[i], _ = roc_curve(y_test_lb[:, i], test_predictions[:, i])\n",
        " roc_auc[i] = auc(fpr[i], tpr[i])\n",
        "\n",
        "\n",
        " \n"
      ],
      "execution_count": null,
      "outputs": []
    },
    {
      "cell_type": "code",
      "metadata": {
        "colab": {
          "base_uri": "https://localhost:8080/",
          "height": 884
        },
        "id": "GOpwjXgrQS8c",
        "outputId": "02323d93-a6a9-499e-9dbe-cdf722b149b6"
      },
      "source": [
        "for i, label in enumerate(labels):\n",
        " plt.figure()\n",
        " plt.plot(fpr[i], tpr[i],label='ROC curve (area = %0.2f)' % roc_auc[i])\n",
        " plt.plot([0, 1], [0, 1], 'k--')\n",
        " plt.xlim([0.0, 1.0])\n",
        " plt.ylim([0.0, 1.05])\n",
        " plt.xlabel('False Positive Rate')\n",
        " plt.ylabel('True Positive Rate')\n",
        " plt.title('Receiver operating characteristic for '+label)\n",
        " plt.legend(loc=\"lower right\")\n",
        " plt.show()"
      ],
      "execution_count": null,
      "outputs": [
        {
          "output_type": "display_data",
          "data": {
            "image/png": "[encoded data removed]",
            "text/plain": [
              "<Figure size 432x288 with 1 Axes>"
            ]
          },
          "metadata": {
            "tags": []
          }
        },
        {
          "output_type": "display_data",
          "data": {
            "image/png": "[encoded data removed]",
            "text/plain": [
              "<Figure size 432x288 with 1 Axes>"
            ]
          },
          "metadata": {
            "tags": []
          }
        },
        {
          "output_type": "display_data",
          "data": {
            "image/png": "[encoded data removed]",
            "text/plain": [
              "<Figure size 432x288 with 1 Axes>"
            ]
          },
          "metadata": {
            "tags": []
          }
        }
      ]
    },
    {
      "cell_type": "markdown",
      "metadata": {
        "id": "dGEsbPUO8Co4"
      },
      "source": [
        "If we compare the performances on the train and the test sets, we can see that we have a little bit of overfitting. If we concentrate on the test set we can see that the accuracy is better for the positive comments. This makes sense because the dataset is imbalanced. We also see in the confusion matrix that the cross around \"neutral\" has more misclassified values. This can be explained by the fact that the comments with The rating 3 are not necesserly neutral, they can be positive and negative too, so the model can do some mistakes because the labelling is not very good."
      ]
    },
    {
      "cell_type": "markdown",
      "metadata": {
        "id": "6Wz2lpFn96X-"
      },
      "source": [
        "**Qualitatively**"
      ]
    },
    {
      "cell_type": "markdown",
      "metadata": {
        "id": "ngasU5eP9_-w"
      },
      "source": [
        "We want to see examples of comments that are miclassified to see if we can find a pattern."
      ]
    },
    {
      "cell_type": "markdown",
      "metadata": {
        "id": "5LGxyIV8_UBj"
      },
      "source": [
        "\n",
        "\n",
        "---\n",
        "\n",
        "\n",
        "\n",
        "First we have a look on the negative comments that are predicted as positive :"
      ]
    },
    {
      "cell_type": "code",
      "metadata": {
        "colab": {
          "base_uri": "https://localhost:8080/"
        },
        "id": "gwzHzMtg-3qn",
        "outputId": "f5e6fc1b-97f1-4de4-9f7b-a48c53129c58"
      },
      "source": [
        "for i in range(len(y_pred_test)) :\n",
        "    if y_pred_test[i] == 2 and test_true_vals[i] == 0 :\n",
        "        print(i, X_train2[\"review\"][i])"
      ],
      "execution_count": null,
      "outputs": [
        {
          "output_type": "stream",
          "text": [
            "6 Very good seasoning! We used this with chicken, and I forgot to add the bullion, but it still turned out very good! I definitely recommend, and I have some left over for next time!\n",
            "14 I made this last night because I was looking for a quick snack.  I have to say that it was not my favorite.  The combo of the banana & grape juice was weird.  Next time I will just omit the banana.  Sorry!\n",
            "123 I'm not sure if I did something wrong. These were a little mushy inside. However, the wonderful taste did not suffer. I agree with previous reviewers that these were so flavorful. I will not add water next time I make these. For such a healthy recipe, it did not take up too much time in the morning.\n",
            "153 Okay, the crust was really good on this!  And I can't give it too bad a review because I added fresh peaches and that may be the reason that the filling did not set up.  I will use the crust recipe again but not the filling...\n",
            "218 This turned out to be the sweetest sambal I have ever made-sickly so. Wasted a pound of peppers. Really bummed. 1 cup of sugar? Seriously, way off, but I don't know how much less would make this any good.\n",
            "283 these are very easy to make but over all we didnt think there was any need to put as much filling in.it would work just as well with just the pattie and the pate.\r\n",
            "the pattie was incredible.\n",
            "319 Great cookies.  Love all the flavors in them.  Easy to work with and quick to do.\n",
            "329 Using the feedback from the reviews I &quot;kicked it up a notch&quot; About a half of a medium onion finely chopped, And about a 1/4 c. finely chopped green pepper. Then , before I poured the milk mixture over, I dollopped about a 1/3 of a jar of salsa here and there. Yummmy! Made some taco meat and put that on top the second time I made it and even yummier! Great , affordable meal. Thank you for sharing !\n",
            "536 This was really yummy!! I had to make 2 versions; 1 using cavatappi pasta as it is stated in the recipe, and 1 using gluten free pasta quills, so I could try it,,,the verdict was unanimous,,use any pasta  and this is delicious!\n",
            "604 This recipe tasted bitter to me. I&#039;m not sure why - perhaps it was the type of beer I used. But I&#039;ll not be using it again. There is another recipe that calls for rubbing the pork with sugar that I like more.\n",
            "715 The rice in this dish was very tasty, although not very saucy.  The pork chops were way too dry and difficult to eat.  Will not make this again.  Sorry.\n",
            "728 I should say right away, this this is not a 3/5 recipe. It's better than that. It's just that it's not a 4/5 recipe either, and I couldn't bring myself to add the extra star. 3.5 would be about right. Very nice, very easy to prepare, and very satisfying on a cold evening. Just don't expect to be blown away. 7/10 ain't bad though!\n",
            "802 I tried to make these with country harvest wheat and oat bread, but because of the texture and density of the bread it wouldnt roll...it just split.  So I ended up using wonder bread which rolled up beautifully.  They went over well at game night.  Thanks for the recipe.\n",
            "815 Hubby and I enjoyed this for a change of pace...it was very easy to prepare and fairly quick to make...we did feel it was lacking in flavor a bit...so hubby threw some hot sauce on top and really enjoyed it...I think next time I will double up on the herbs...thanks for posting it...:)\n",
            "847 I find the batter to be too thin.\n",
            "1098 I always had this growing up and loved it! Just a tip for the other reviewers who want the added honey, the Peter Pan Honey Roast is WONDERFUL!!! I like the creamy best for flavor. I will be getting my 4 year old son to help me make this, because his homework is to make a healthy snack together and talk about the ingredients and tools. Thank you for posting.\n",
            "1196 I made these for superbowl. DD ate the topping off of one, I had 2 and DH had 4 Everyone's opinion was a little different. So we averaged it to 3 stars.  Thanks for the tip on how to freeze them.  I'll freeze what is left and DH can pop 4 into the oven when he needs to grab something quick.\n",
            "1227 These were quite good. We loved the way the sour cream/bleu cheese mixture melted over the hot potatoes. We couldn't do the one-bite thing, but had a fun time wiping the corners of eachothers mouths. Great Job Andi. Thanks for sharing. \r\n",
            ":) We made these again, and revised a bit. We sprinkled a varied tad of shredded parmesan/white cheddar onto the hot potatoes after opening up the taters, then we let them bake for another 3-4 minutes, then added the sour cream/bleu cheese mixture atop. Wonderful! -2Bleu-\n",
            "1322 This was tasty, but took a lot of effort.  I used rotisserie chicken to speed things up but this was just too much for a weeknight meal in my book!  I added some Frank's Red Hot sauce and liquid smoke and forgot to pick up chocolate so I used a teaspoon of cocoa powder for depth.  Cornbread twists are no longer made, so I just made cornbread and dumped it on top - still tasty!  Will look forward to leftovers.\n",
            "1498 I think I am cursed when it comes to cooking fish so it very well could have been my fault but this one didn't really work out for us.  It didn't taste bad but there was nothing memorable about it.  Sorry\n",
            "1559 This recipe was waaaaaaay to acidic.  I'm also glad I seeded the peppers or the heat would've been too much.  Jalapenos would've been easier then the serranos.  Also, the filling had to be room temp or the dough had to be chilled.  I let the dough sit at room temp, according to the package directions, and they fell apart as soon as the filling touched them.  Sorry, but this didn't work for me.\n",
            "2069 Dry dry dry\n",
            "2187 My children loved these but i prefer more lemony taste.  It tasted more of a shortbread cookie with a hint of lemon topping.\n",
            "2224 My kids won't eat them.\n",
            "2367 Glad I tried this. I added about 2 cups of water, I think my stove cooks quicker than most. Served it with brown rice. Thanks for sharing! Made for ZWT 4\n",
            "2369 I liked the flavor on this quite a bit, but I think I prefer the method of roasting only for both texture and preparation ease.  \n",
            "2986 I have tried many different meatball recipes. They often are pretty similar. I felt this one was a bit basic and bland. I will use some aspects of it in the future but definitely add a bit more spice!!\n",
            "3084 This was super easy to make, but I think you really need to love coconut to eat more than one of these.  Because you need to keep them in the refrigerator, the chocolate is rock hard.  I think I'll try making it again, but I'll probably make the cookies wider and flatter, so the chocolate is thinner and easier to bite through.  Overall, it tastes just like Mounds!\n",
            "3130 Oh man!  If these could be more than 5 stars - I would give them a 10!  They are too die for! :)  DH and kids will come home to a tasty treat today!  I didn't make holes in the doughnuts - personal preference - and everything cooked through.  These are my new favorite doughnut recipe to make - and believe me - they will be made often!  All ingredients I keep on hand.  The only thing I did differently was use shortening instead of canola oil - as I was out of that.  I also omitted the chocolate frosting and kept the original sugar glaze.  That by itself was perfect!  Thank you again for such a wonderful recipe! :)\n",
            "3334 These are delicious! I wouldn't change a thing as they are so good just the way they are! I only substituted egg beater for the egg and cooked them in a couple Tablespoons of olive oil. I used the mozzarella and will try the cheddar next time! I dipped in sour cream as suggested and that was tasty too!  Thank you for sharing such an easy and delicious treat Merlot! :)\n",
            "3395 This cheesecake did not cook correctly at all. I followed the directions to the letter, but the next day when I took my cheesecake out of the refrigerator, the center of the cake had not cooked at all. I put it back in the oven at 325F for an additional hour and it was still an odd consistency--it was cooked, but unusually moist for a cheesecake, and the flavor was a bit off. It definitely was not the perfect cheesecake other reviewers have been raving about.\n",
            "3430 I love Mark Bittman's recipes, never too complex but they always taste great. This one is no exception. I used 4 cups of well-packed zucchini which seemed about right. I also added 4 bouillon cubes for flavor. This soup is primarily a zucchini chowder, but there is a semblance to egg flower soup as well, from the addition of egg and lemon. Yum! This will be a great way to use up frozen grated zucchini in the middle of winter.  Thanks blucoat!\n",
            "3631 Excellent!  First time I have made stuffing from scratch. I omitted the pecans because I was feeding some picky eaters.  I received rave reviews! The stuffing was perfectly moist with the amount of broth called for in the recipe. Will definetely go in the recipe box.\n",
            "3709 Made this with fresh peaches and replaced the sugar with splenda and it came out perfect.  I believe I have a new favorite pie!  This is wonderful, thank you so much for the recipe!\n",
            "3754 This was just OK. The flan looked good, but the flavor was a bit too eggy for my taste and the texture felt more like 'jello' if that makes sense. I prefer flan to have a more dense and rich flavor and texture.\n",
            "3770 the ribs weren't bad but i don't think they were good enough to make me want to cook this again. the smell from the soda cooking the ribs was AWFUL!!!! it filled the house and it was just a very unpleasant oder. in my mind the ends didn't justify the means. they weren't bad but i don't think i will ever bother to make this again, if only cause of the smell. sorry.\n",
            "3862 Flaky, golden and buttery-rich biscuits.  I was able to make sixteen 2 1/2\" biscuits, considerably more than the recipe indicates.  Thanks, P4.\n",
            "3902 I followed the directions exactly, and I'm sorry to say that this dessert tasted terrible! It took much longer to cook, therefore it was dry. Plus there was no taste to the brownies, very bland. I couldn't even get my kids to eat it.\n",
            "3933 I made this with Recipe #24576 as suggested, and it was good.  My 6 year old even ate the veggies, which is unheard of, but the rest of us thought it was just okay.\n",
            "4107 Ohhh, I love it.  I put 2 Tablespoons of peanut butter in, but then again I'm a bit of a peanut butter fiend...I will most certainly be making/eating this many many more times!  Thank you!\n",
            "4214 THe shortbread smells good... But when baking theres alot of cracks and while rolling the dough keeps on sticking on the rooling pin\n",
            "4413 I did like the recipe but not my husband unfortunately. He couldn't put his finger on it but I think that the main problem was missing sauce and the consistency of the whole casserole.\n",
            "4465 These were delicious, easy and fun to make with my three year old. We made them with lemon cake mix I had in the back of my pantry and frosted them with the lemon frosting that was also lurking back there.\r\n",
            "\r\n",
            "They are tasty, with a bit of the \"chemical\" taste you find in baked from a mix items. Very soft, puffy, tender cookies, perfect for a rainy day.\n",
            "4501 I made these as instructed and served on wheat buns with Roasted Garlic Mashed Potatoes by Mimi Bobeck. We weren't overly amazed by any of the meal. Rather ordinary sloppy joes; they did taste just like the stuff that comes out of a can. Since DH has decided sloppy joes in general are just okay and I have no real fear of preservatives and such, I'll probably just open a can and heat and save myself the effort next time.\n",
            "4620 So awesome I don&#039;t even know where to begin!  I didn&#039;t think anything of the directions until half the reviewers were squaking about it!  It was totally understandable if you have medium knowledge of cooking.  Anyways, I have to say prep time was kinda significant, but oh so worth it!  I used 1/2 juice of the zested orange and 1/2 the vinegar.  I did some extra minced ginger and added a tiny bit of jalapeno I had kickin around.  This was awesome!  Oh, I also split the sugar half brown half cane.  Thanks a TON for posting this flume!!!!!\n",
            "4682 This recipe was rather bland. I researched his other versions as well as the video for preparation on this dish from the F-Word. I am a huge fan of Gordon Ramsay, but have not been impressed by his recipes.  He suggests chopping the onion, carrots, and garlic very fine so that they dissolve into the mince.  It still leads to a rather bland pie. I have made this recipe multiple times, as I am a perfectionist and wanted to redeem my faith in his recipes, but to no avail. Up the garlic, add more salt, oregano,  and anise. Anise will make this dish. I also added a thin layer of cheese (shredded cheddar) between the meat filling and the potatoes. Add quite a bit of parm cheese to the potato topping as it will taste better and brown nicely. I also added a bit of flour to the meat mixture so it would thicken. Still heartbroken that his recipes are not my favorite...\n",
            "4753 I am not a big meatloaf fan... But this was incredible.  I made a few modifications based on what others said and modified to own tastes.  &lt;br/&gt;- Sauteed onions in butter&lt;br/&gt;- Only had 1 lb of ground beef so I used 1 1/4 cup of italian style breadcrumbs to thicken it up - Used 1 cup of heavy whipping cream instead of 1/2 and 1/2 or milk to also thicken it up&lt;br/&gt;- Added a bit of Worcestershire Sauce&lt;br/&gt;- Went light on the vinegar since I only had white vinegar&lt;br/&gt;- Added some bbq sauce to the the sauce (still used amount of ketchup and brown sugar recipe called for, but light on vinegar as noted above)&lt;br/&gt;-Baked in the lower oven on the convection cook for 1 hour and baked in (3) mini loaf pans to speed up the cook time (baseball practice almost every evening in our house)&lt;br/&gt;&lt;br/&gt;They had a little before leaving for baseball but actually asked me to SAVE some for when they get home from practice -  LOL!!!\n",
            "4785 This was good but rather bland for us.  I will make it again but perhaps add some additional spices - perhaps some garlic.  Thanks for providing a solid base!\n",
            "5293 Loved the texture, flavor and simplicity of this one.  I could not find Maggi brand and had to use Knorr boullion. Though I enjoyed the intensity of flavor from the cube, the saltiness was a bit too overpowering.  Wondering if finding the correct brand would have made a difference. In the meantime, thinking a mix of mix of low sodium and regular boullion might work. Will try that and re-review as there is certainly no shortage of zucchini right now. Thanks Chef Fifi. \n",
            "5577 I made a double mixture of this last night, ready for breakfast this morning. I was sure my son would love it, but he ate half his bowl, and said he didn't like it very much. I loved it though, so I'll make it for myself occasionally! It was very creamy, but still a nice, light breakfast. I warmed mine up, and it was really good. [Made for PAC Fall 2008]\n",
            "5620 This recipe isn't that spicy but does have the right combination of flavors. I used this on a eight pound chicken. I put rub under the skin and on top. I also placed some in the cavity of the chicken. I then cooked it on the grill for an hour by using the Beer Can Method. I also put some of the spice in the beer can and still have enough left to use another time. \n",
            "5695 I like the feta and herbs in this but it was a bit too acidic for me.\n",
            "5919 This recipe surprised me. I wasn't thinking much of it as I made it and thought it would be too salty. Keep going! It's great! Just the right combination of ingredients to make a great potato salad! Thanks Edith and Potscrubber!\n",
            "6026 Followed directions exactly. It tastes like warm apricots on bread. There is no crumbly topping that makes it a \"crumble square.\" It needs sugar in the dough and seems like it should, but the ingredient list doesn't give an amount. Even after cooking minutes over each time it was still under cooked. This has a lot of potential but need a serious tune up.\n",
            "6053 If you try this the oven temp (200) isnt' F....it's C....don't make the same mistake I made.  I had to increase the temp to 350 after the 15 minutes at 200 and bake another 10 minutes.  The yolk was cooked throughly though and I'm sure the original recipe had the yolk \"sunny side\" consistency.  Also, don't expect the Phyllo to be crispy...it's just a vehicle for the egg/bacon \"muffin\" to come out together.  You could always use rolled out biscuit dough for a base.\n",
            "6106 There's something wrong with the amount of liquid in this recipe. After several minutes of kneading in the machine, the bread was still just flour. I added almost a cup of warm water and a T. of oil.\n",
            "6108 This recipe tastes just like the mix, which we love! Unfortunately, we have not been able to find any this year. The only problem, is the texture. Very sandy, even when cooled completely. But, great flavor!\n",
            "6299 We loved these and will definately make again!  Thank you for sharing.\n",
            "6409 These were good. I'm always looking for breakfast recipes that break up the monotony of the old stand-bys. The Caribbean touch to these is definitely nice! Thank you for posting, swissms.\n",
            "6553 Very tasty however...there is no way to get 6 c of apricot puree from 2 lbs of apricots! I got 4 cups, adjusted the sugar accordingly.  Recipe should also mention the easiest way to peel apricots is to blanch them first.\n",
            "6555 Looking at the ratings, I tried this, but I don't think it was that great....I've had much better....needs somethin more as far as I'm concerned....I used fresh grated parm, but I think maybe should be fine grated...and the sauce didn't cover much\n",
            "6580 I have to say that cheese on beans are always a success!\n",
            "\n",
            "But to be a generic Jack in the Box it has to have the same ingredient.\n",
            "\n",
            "-------------------------------------------\n",
            "\n",
            "Beef Regular Taco or Beef Monster TacoÃÂ® Filling Ingredients: Beef, Water, Textured Vegetable Protein (Soy Flour, Caramel Color), Soy Grits, Seasoning [Chili Powder (Chili Peppers, Spices, Salt, Garlic Powder), Wheat Flour, Taco Mix (Chili Pepper, Garlic, Salt, Spices, Monosodium Glutamate, Dextrose, Onion), Imitation Beef Extract (Hydrolyzed Soy Protein, Hydrolyzed Soy, Wheat and Corn Protein, Monosodium Glutamate, Dextrose, Partially Hydrogenated Soybean Oil, Disodium Guanylate, Disodium Inosinate), Silicon Dioxide (added to prevent caking)], Salt, Tomato Paste, WorcestershireÃÂ® Sauce (Distilled Vinegar, Molasses, Corn Syrup, Water, Salt, Caramel Color, Garlic Powder, Sugar, Spices, Tamarind, Natural Flavor, Sulfiting Agent). Tortilla Ingredients: Ground Corn, Water, Lime. Cooked in Frying Shortening. Contains Soy, Wheat\n",
            "6599 I LOVE hot chocolate and this recipe is my first attempt at making my own.  I was very pleased with the traditional cocoa recipe and it will probably save me lots of money this winter!  I also tried the spiced version and did not like it at all... way too strong.  I might try it again whith significantly smaller amounts of the spices.\n",
            "6634 This was a very strong drink. I found that the rum overpowered the apricot and lime.  I'm glad that I tried it though.  Thanks for sharing.\n",
            "6742 I don't know if I should write my review or not.  There isnt a amount of sugar listed in the ingredients but its listed in the directions.  I look the liberty to add a cup of white sugar and could have added a bit more.  Also there isnt a temp listed so I baked them at 350 for 8 minutes, any more in my oven would have burnt them.  With the addition of the sugar I followed the rest of the recipe as written.  I felt the spices were right on, I like a strong cookie.  The dough was really easy to work with.  The dayhome kids loved them.  I made dinosaurs, rabbits and a puzzle (yes a puzzle).  I have a full cookie jar + they all had a feed at snack time.  With my adjustments I would make them again.\n",
            "7091 This salad has a nice crunchy chewy texture. There was something about the dressing that left me not enjoying it as much as I thought I would. \n",
            "7131 On its own, this recipe was pretty good.  It was easy to make and had good flavor.  If you really like authentic gumbo, though, this one will disappoint you.  It resembles jumbalaya much more so than gumbo.  I would call it gumbalaya.\n",
            "7502 This is so easy to prepare and taste so delicious. I loved the dipping sauce. I did have trouble keeping the crumb mixture on the chicken so next time I plan to use panko instead. I cut the recipe in half and used chicken tenderloins.  This is a keeper. Thanks for posting. :)\n",
            "7815 This is NOT the recipe It was way too sweet with the amount of sugar that the recipe called for on this site Texas Roadhouse spread is fluffy and stays fluffy This recipe here hardens after its refrigerated\n",
            "7915 Who's going to make guacamole with 24 avacados.  The ingredients do not make any sense at all.  1.5 onions to 24 avacados?  There isn't any cilantro.  Weak recipe at best\n",
            "8085 If I make this again I would put it in a 9 x 13 pan and double the rhubarb/brown sugar mixture.  I thought the cake overwhelmed the rhubarb taste but then I am a rhubarb lover. I guess I prefer a cobbler.\n",
            "8187 looks good, but what's the nutrition value ? Especially carbohydrates and sodium ! We got to think health !!!!!\n",
            "8701 These had a lot of potential and the directions were great. I didn't allow them to cool for the four hours, so they were still warm but this didn't seem to affect the way they came together. We just didn't care for the bland taste of the instant potatoes. Thank you for giving me something to make rather than buy though!\n",
            "8836 This recipe is not helpful to beginners. It states about altitude? Unproofed? Doesn't mention what dough should look or feel like after the first addition of flour to the starter. Poorly written. Before I wasted my starter that I cared for and nurtured for quite some time, I went to King Arthur Flour, and low and behold an instructional recipe , and a beautiful loaf of bread.\n",
            "8869 Very tasty! Has a varied texture from chewy to crunchy to smooth. One note, the cherries don't improve with age, losing their flavor and color. If your're cooking for two, cut the recipe rather than planning for leftovers. Otherwise, good stuff. \n",
            "9185 Tried it and followed the recipe ....however, after 12 hours on HIGH the skin still wasn't even close to coming off, so I cut it off.  The taste was great!  The consistency is really quite unique. Thanks for the recipe!\n",
            "9244 This is my second time making it and everyone goes crazy over it. I am a excellent cook.\r\n",
            "\r\n",
            "C\n",
            "9460 Be careful not to use too much broth.  Mine ended up too salty.\n",
            "9611 Plantains, or platanos, is one of the foods that came to the Caribbean from Africa with the early slaves of the Spanish conquistadors. The first islands settled were Hispaniola and its sister island Puerto Rico. \r\n",
            "The water here is actually for twice fried tostones, but this recipe omits the first fry, and so is not necessary.\n",
            "9935 In the 7 years I&#039;ve been living here on the ranch, I&#039;ve watched the deer attack the elderberry trees that grow wild all around here.  This year decided I wanted to find out (never had them before) what all the excitement was about so had DH collect some berries and tried this one out.  WELL, I can tell you from now on those deer are going to have competition as this jelly is awesome; a combo of sweet and tart that I think is going to be a favorite from now on.  I used the very small 4 oz jars as wanted samples for this and got 11 jars.  I did the water bath as don&#039;t know how to do the paraffin and think that&#039;s for the best.\n",
            "9999 This was easy to make, but I had hoped for a cheesier sauce. I did use a combination of swiss cheese and cheddar instead of velveeta, but for whatever reason I could not tell that there was any cheese in it. The recipe was ok, plates were cleaned, but it was just not what I had imagined. Thanks for posting.\n",
            "10550 This is an easy dish but it has marginal flavor.  If I needed a easy weeknight meal we would probably make it again but the family didn't really care for it.\n",
            "10561 Delicious! Delicate taste and beautiful green color. I used half and half and, based on B's review, used chicken bouillon cubes with the water and cut down on the salt.\n",
            "10851 my husband loved this,he had three servings and he's really picky about soup.thanks this ones going in the family favourites file!!\n",
            "10914 it was ok but very plain\n",
            "11019 Some liked it not, some liked it lots.. a big variation in tastes over this one Mrs G. The cakelike texture at the bottom was the biggest thing our guests either loved or hated... 6 guests rated this between 2 and 5 stars (I'm not allowed flour at the moment c.f. allergy testing so didn't try it) I think that the only fair way to rate this therefore is to go gracefully to a centre position, Please see my rating system, a lovely 3 stars:)  Thanks ! \n",
            "11031 If you prefer a crunchier cookie, you should like these.  I like my cookies to be a bit softer, so if I make these again, I will take the suggestion below and add a bit more butter to the recipe.  Being able to change the color of the M&M for the occasion was fun.  Thanks for posting the recipe!\n",
            "11338 I made this for my husband&#039;s birthday (2/08/14).  He is not a cake person, so I made this instead.  Except for using 1 tsp. cinnamon, and fresh blueberries (dusted with a little flour), I followed the recipe to a tee.  This is by far the best banana bread we have ever had!  I was going to give one of the loaves to a neighbor, but we finished almost the whole loaf the first night between the 2 of us, and my husband said, &quot;What..........you&#039;re not giving that away!&quot;.&lt;br/&gt;Coming from him, that says it all!!  Thank you Wildflour for this recipe!  Amazing!!!!!!!!!!\n",
            "11434 Amazing. I make it with the suggested frosting, and it's a hit every time. Wonderful recipe. Next time I make it, I'm going to try including some sour cream to make it even richer.\n",
            "11572 It was really good. I didn't add any ice insted used frozen bananas and it was really good. I enjoyed it. Thank you!\n",
            "11598 This is an incomplete recipe.  How many egg whites?  Is anything else missing?\n",
            "11705 This is a very tasty vegetarian stew.  My husband and I loved it!  I spiced it up by adding a good dose of chili flakes during the cooking.  I also took your advice and threw in some extra garlic just before serving.  I served it with a big spoonful of rice along the side of the bowl. Great recipe that we'll be making again and again.  Thanks!\n",
            "11735 Absolutely awful.  Sounded so good.  Tasted so bad.  Very Blah.  Needs lots of help.  Will never make again.\n",
            "11816 I only pre-cooked the beans a short time, as we like our vegetables more on the crunchy side. Made for Every Day Holiday Tag. :)\n",
            "12065 I really wanted this recipe to work.  For some reason we have an abundance of corn flakes right now and I really need to use them up.  Anyway, we found this crust to be disappointing.  I just couldn&#039;t get it to hold together.  It just crumbled apart and probably would have worked out better if I had just sprinkled it on the top of my pie.\n",
            "12243 When I went to make this I found I didn't have beef stock or even boullion cubes. So in went the Au Jus mix (Oxo French Dip) I don't know if this was a happy accident but it turned out fantastic. So flavourful - my husband, who is quite particular was super impressed and had seconds. Added some red wine to the browning beef and added the onion soup mix to the flour for the beef FYI. Also added about 50% more liquid (water) than called for and tons of mushrooms. Don't forget a couple bay leaves and a few red pepper flakes. Didn't bother with the extra potato/carrot/onion at the last 45 mins (just put more in to start and cut them pretty small) Added peas at the end. Awesome!\n",
            "12277 This came out very bland.  I was hoping for some of the sweetness other reviewers complained about but I didn't really taste much of anything.  I ended up getting out some sweet & sour sauce to at least have some flavour.\n",
            "12349 yum yum!  this recipe is delicious.  I've made this recipe twice.  The first time I followed the recipe exactly and the cake turned out great!  The second time I made cupcakes (baked at 275 for 35 minutes) instead of a cake.  I also cut the sugar back to 1 and 3/4 cups and they were plenty sweet enough.  I didn't put them in the freezer the second time and they still turned out super moist.  This is definitely a keeper!<br/>Sept. 24, 2011 - I've made this cake several times and every time its turned out great.  Today I tried substituting pumpkin puree for the banana and added some cinnamon, allspice and nutmeg and it turned out fantastic!  This is such a versatile cake.  You won't be disappointed!\n",
            "12408 I hate it when a recipe says put in lower 1/3 of your oven...how do you know if my oven is heated from the TOP or the BOTTOM?  What are you trying to achieve?  As mine is heated from the top (electric), I put it on the middle shelf, just in case, and left it in only 45 minutes and let it rest about 10 minutes.  Thermometer was way higher than stated and it was not pink inside, but not too overdone.  This is EXTREMELY HIGH heat.  My oven protection pan fused to the bottom of my oven!!!  Found that I am not alone in this issue and there is an elite club of people who have had this problem.  I hope that I can clean the oven, but my new stove will not be like new ever again.\n",
            "12486 This was a little bland for our taste. We loved the idea of it and the wilted lettuce was nice. We decided that chopped tomatoes would be a nice addition. Very, very easy to make!\n",
            "12624 Love the recipe but i did change it a bit. It had a little too much vinegar and oil for me personally. I doubled everything in the recipe except the oil and vinegar and it was perfect!!!\n",
            "12647 This was super! Nice take on a Mexican lasagna. I added a teaspoon of cumin and used frozen corn, a small can of tomatoes and regular cheese (but a lot less). Also, I always toast my quinoa dry (not wet) in a pan before rinsing it so it develops those nutty flavors, and use twice the liquid as the dry (ie. 2 cups of water). I think this would also be great without the meat too. The nonfat sour cream on top is a must, yum! Served 6.\n",
            "12762 This is so colorful and fresh tasting...A favorite in the spring in the spring and summer\r\n",
            "I use strawberry Jell-O and delete the pecans...the deep dish prepared pie crusts work the best\n",
            "12764 The perfect banana muffins!  I did add one extra banana so not to have to throw it away and I used whole wheat flour. Also, I filled my silicone muffin pans all the way to the brim and topped them off with shredded coconut. Delish!  My kids devoured them.  Easy-Peasy!!!\n",
            "12833 OH YUM! I used this recipe to ice Pumpkin Cupcakes recipe #258848. It was positively scrumptious, and actually not overly sweet! In fact, I think it's less sweet than a regular run-of-the-mill cream cheese frosting. I used 1 TBSP bottled lime juice in lieu of the fresh squeezed stuff. Also I whipped my cream in advance so it didn't feel like so much work when I went to make the icing. I love that it makes a lot too, so maybe I can refrigerate it and then make a small cake later this week too. THANKS!\n",
            "13243 I made this dish exactly as stated. The gravy was good but the meat was a little dull.  I would suggest added something to the meat, but I don't think I would make this again.\n",
            "13282 Smooth it is,very delicious\n",
            "13398 The chicken rolls looked great when I put them on the plate to serve them but alas the taste of the filling was quite bland.  Perhaps a cheddar instead of mozzarella cheese would improve it.\n",
            "13403 These were enjoyed by all!  My burger loving dd gave them 5 stars, my difficult to impress dh gave 3 (not even close to a 3, imho), everyone else gave 4 solid.  Very moist, good flavor and just a snap to make.  Will make again for sure.  Mine were just a little fall-apart-y.  Perhaps in the interest of not over working the meat, I underworked it?  Next time I will patty them up a bit tighter.  Thanks for another excellent one, Kittencal.\n",
            "13728 Tasty and suitable for mild chilli con carne eaters.  Can substitute the can of baked beans with a can of chilli style kidney beans and add more chilli powder for more kick.\n",
            "13756 For some reason, the cake didn't turn out as well for me as the other reviews said. I'm sure I probably just didn't do something right, but the cake had an odd aftertaste and so did the frosting. It was, however, very moist and rich, but there was just something about the taste that I didn't like much. I'll make sure to try this recipe a second time, though, and see how it compares.\n",
            "13760 This shrimp dish was a little wierd and too sweet in my opinion.  My husband thought it was great as he tends to enjoy unusual flavors.  If you like odd combinations...this is for you.\n",
            "13818 Super easy &amp; delicious!\n",
            "13862 It stuck to the pan but once I got it released it rolled real good. I did not care for the texture and if I would decide to make this again I would not use the flour.\n",
            "13889 awesome!! it was a big hit.  Love this recipe.  I will make it many more times.\n",
            "14247 Well, I tripled this dish to make enough for my family, and I have to say that the lemon and basil taste were way too strong. I think it had a lot of potential and next time I will use maybe enough lemon and basil for two instead of three. The chicken turned out GREAT! but the rice was entirely toooooo strong. BUT I definitly think that it will be great if I use less lemon and basil and I will definitly make this again. THANKS!\n",
            "14333 This was very good.  I substituted jack cheese for the brie since I love avocado and jack cheese together.  My husband doesn't like avocado (what a weirdo), so I made it without putting the avocado on his and he said it was still very good.\n",
            "14355 This cost me $35.00 for all the ingredients!!!!\r\n",
            "I agree with the previous review.  I would have like it creamier and tastier.If I made it again I would leave out some of the eggs(6), I don' think a dozen eggs are necessary. Do without the velvetta and add more cheddar cheese.  I have read good reviews on Martha Stewarts' mac & cheese.  I think I'll try it.\n",
            "14448 The flavor of this meatloaf is outstanding and would have earned this recipe 5 stars!!  But, it was so wet it never completely firmed up in the pan and was so crumbly we almost had to eat it with a spoon.  I'm going to try again because we enjoyed the flavor so much and also because I have an open bag of stuffing to use.  When I do I'll try using a little less milk and adding a little more stuffing.  I'll update my review at that time.\n",
            "14469 These are delightful. I found they needed about 10 minutes in the oven but they are not lasting long outside of it!\n",
            "14719 Needed lots more flavor and seasonings. It took me a while to boost it's flavor. I added some butter, and lots and lots of: seasoning salt, pepper, salt, garlic salt, and cayenne pepper into the batter AND the dredging cornstarch. I used this to batter mushrooms and also served it with ranch for dipping.\n",
            "14760 I'm not sure what I'm missing. I made this recipe because of the great reviews. Although the sauce was delicious (I doubled it (except for the vinegar), as recommended), the meat was so disappointing. It was dry and tough. I too had concerns about cooking it in the oven for that long with no liquid, but tried it anyway, with ultimate disappointment. Maybe my cubes were too small? Maybe I'm missing something? I have never cooked this cut of meat before. Perhaps another cut would be better. Although it seems this should be cooked in liquid and covered if for that long to tenderize. Would love to figure this out, as the reviews were great.\n",
            "14872 Disappointing! I will not make this again. In fact, right after I was finished cooking this dish, my husband and I threw it out! Not worth the expense of Fontina, good cheddar and Parmesan! :(\n",
            "14976 This is missing ONE key ingredient.  A couple of weekends ago I made my version of Panera Bread's Fuji Apple chicken salad (still perfecting the dressing - but close).  In preparing everything and taking my first bite, the grilled chicken said a hint of KFC original recipe!<br/><br/>OK... here's the skinny.  I seasoned the organic chicken breast with Lawry's garlic salt, McCormick's onion salt, McCormick's Garlic Pepper and drum roll... McCormick's Ground Cardamom (a new $10 spice I bought after hearing it so often on cooking shows).<br/><br/>It HAS to be the cardamom.  I've cooked with the others for YEARS and nothing remotely close to KFC.  Now, I'm curious to find the 11 and try fried chicken.  I worked @ KFC as a teen and the original is cooked in oil a closed pressure cooker, so I'll try it with my FryDaddy.<br/><br/>I have not tried this recipe and most reviews say it's not KFC.  Try some combination that includes Cardamom.  The spice itself, when you taste it gives nothing away regarding what it becomes when used with other spices and cooked.  It tastes like Earl Gray tea/bergamot, actually.\n",
            "14978 What a great recipe!  I've made it twice already. Thank you for posting it.\n",
            "15031 This was awesome!  I loved the banana dressing, it is what really made this salad special.  I did leave out the papaya because my mom does not care for it but did everything else exactly as directed.  I wish the dressing could have bee slightly thicker so next time I might add an extra banana to the mix.  When I took this to my mom's for Easter dinner and everyone raved about it.  Thanks so much for posting.\n",
            "15140 these had a great flavor...no syrup necessary, but, the waffles wouldn't crisp.  so, i tried the batter as pancakes, and the insides stayed mushy.  great idea, just didn't really work for me\n",
            "15269 A definite keeper, I added a bit of honey to the dressing which was amazing to begin with and upped the quantities of all the good stuff (bacon, toasted coconut, and almonds...because who wouldn't want more!!!!!!!!!!!!!!!)\n",
            "15413 I enjoyed the orange flavor this recipe gave.  My 10 yr old (who is not a fan of oatmeal) did not.  I did not add the banana b/c I was using things I had on hand.  I added brewers yeast, cinnamon, flax seed oil & dark brown sugar to the oatmeal when it was done.\n",
            "15591 I love tomatoes and avocados and was very anxious to try this salad.  Adding cheese and baby greens just seemed like a perfect mix.  However, I couldn't seem to enjoy the flavor of the dressing.  I prepared it first as directed with the red wine vinegar.  I didn't care for it at all when sampling prior to mixing with the greens.  Then I followed the same recipe using white wine balsamic vinegar and just a touch of sugar.  It was better, but still not great.  I am wondering if the marjoram and dried oregano were too pungent for the mix.  This had the makings for a great salad.  I am sorry that the dressing just didn't suit my tastes.\n",
            "16015 A little too much flavor (salty?) for my taste, and too much work for what I got out of it.\n",
            "16340 I originally gave this cake 4 stars, but the more of it I ate, the more I realized how dry the cake was and how much I didn't care for how it turned out.  I almost think I would have been better off making the cake just using the cake mix without any additions.  I don't have any plans of making this cake again.\n",
            "16427 The chops were tender, but the sauce was not as exciting as I'd hoped.  Okay, but definitely not outstanding.\n",
            "16479 This recipe is like succotash. Kind of bland and dry. I had to add a little milk to make it more creamy. Peas add a nice sweetness. I added some French's onions on top for flavor and texture. Edible.\n",
            "16847 Wow!  This is full of flavor.  I did not have time to marinate, but simply threw the marinade ingredients in the frying pan with the pork (using only 2 T. oil).  I also made a few minor ingredient substitutions for what I had on hand.  It is fairly simple to make and adds a unique flavor to dinner.  Will definitely be making again!  Thanks for posting.\n",
            "16874 This was good!! Since I had half and half on hand, I used it instead of milk. I used 1 1/2 cups of the half and half and mixed a half cup of water in with that. I also used \"regular\" jello and not sugar free. I shared it with my neighbor who also liked it.  It is very filling. I think this would be good with other flavors of jello as well. It was easy to make. I will definitely be making this again. Thanks for a good recipe Pat. \n",
            "16937 We really wanted to love this based on the description and previous review, but it was too lackluster in flavor.  I increased amounts to serve a larger crowd.  The noodles, having been made first, got cold and congealed.  I added more sour cream and held them in a warm oven, but they were very drab.  (It really didn't feel right to boil them in saltless water, too.)  I used panko crumbs for the pork schnitzel, which made for a beautiful and crunchy coating.  I think the flavor of the schnitzel would have been better if some butter had been used along with the oil.  Plus, it didn't call for nearly enough oil to fry the pork to obtain a golden finish.  This dish was disappointing.  Sorry!\n",
            "17042 I was extrememly disappointed by how this turned out. It had good reviews so I went ahead and made it for a neighbor of mine for her bday. Once ours was done and we tried it, I was very disappointed. I almost didn't want to take it to our neighbor because it was so bad. I wouldn't make this again.\n",
            "17340 The cake tastes good but for a beginning cook the recipe was a little hard to follow. more direction would have been nice. Also when i took the cake out it wasn't very prettty, it had air holes covering the top and was very dense, basically it looked like one big round brownie. I'm not sure if it was the recipe or the cook but that was my experience.\n",
            "17457 This didn't go over very well.  There's no problem with the recipe - the proportions are perfect.  One child hated it, one child LOVED it, Dh & I liked it.  The fresh bread crumbs were a huge hit.  (I think they're just missing the pork fat).  Made for Aussie Swap 1/13.\n",
            "17511 So easy to make, and everyone in our home -- including our 21-month-old daughter -- absolutely loves this recipe. Nearly every time we have leftover chicken from dinner, I make this salad for lunch the next day. (I get cravings for it!) I like to swap half the mayo for Greek yogurt and use a bit less salt &amp; pepper. Such a great flavor &amp; texture.\n",
            "17519 This just did not have enough flavor for my family's taste. I added cumin and a lot of cheese-- and even then I had to add another can of green chiles. All in all, it did not have enough flavor for our taste.\n",
            "17835 Thanks for this recipe, it tastes really good, wish I had knew this before !!!!\n",
            "17894 I used this on a cherry cake, it was light with just the perfect touch of chocolate. Heaven!\n",
            "17896 This was great! Warmed me right up on a chilly day!\n",
            "18152 I found these pancakes horrible. They were super dense and tasted gross. I would not recommend this recipe at all. I threw them all out.\n",
            "18310 This was a very quick and easy throw together dressing for a salad. It was great that you could just put it in a tupperware bowl with a lid and just shake when ready to serve. I also added a splash of vinegar to it and used olive oil for the salad oil. It was enough dressing to coat the salad but seemed to lack just a little bit in flavor. Might try adding a few things to it next time. Thank you for the recipe!\n",
            "18326 Good recipe.  I used Colorado peaches for this.  I think next time I would use a bit less butter to help the topping be a bit more crunchy.  Loved the spices!  Some recipes are overbearing in this department, but these spices were delightful.\n",
            "18498 This is a wonderful way to get a very flavorful ham slice off the grill!  The pineapple juice made it awesome but I love pineapple and ham anyway.  It needs to be watched on the grill as it does burn easily.  I drained the juice from a can of pineapple rings and used it, it came out almost exaclty 3/4 cup and then lightly grilled the slices with the ham, brushing them with the marinade.  The leftovers were diced and thrown on a frozen cheese pizza for a Hawaiian pizza for lunch the next day....Thanks Vicki this was great!\n",
            "18641 Nice  omelet.  Quick an easy to make.  Thanks for posting.\n",
            "18651 These were alright, although I think I used too many potatoes. This just wasn't spicy enough for my taste.\n",
            "18785 I was thinking about making enchiritos the other day, and am glad I found your recipe.  I made it exactly as written, except that I used two jars of enchilada sauce instead of red chili sauce.  I made it in a 13\"x9\" pan, and put some sauce on the bottom.  Then I placed the folded enchiritos in the pan.  I cooked mine at 350 degrees for 15 minutes instead of microwaving them.  It was interesting to learn the technique of mixing seasoned ground beef with water in a skillet and breaking it up until it is a little mushy.  It made a much better consistency for the filling than just sauteed hamburger.  I'll use this method again when making tacos, etc.  We used sour cream and green onions as toppings.  These are so delicious, and I'll be making them again!\n",
            "18856 I cant believe how great these turned out. This is one I plan on keeping. We couldn't stop eating them. :)\n",
            "18966 The ingredients were yummy! I skipped both the butter and the cheese and served on those little pumpernickel squares for a very satisfying lunch. I also substituted garlic for the salt. Delish!\n",
            "19139 Thank you for sharing. Its still missing something to give it that extra tangy flavor. I doctored it up with more mustard and horseradish sauce, did not like sugar in it. BUT This was good with onion rings just not quite burger kings. I&#039;m going to use the leftovers on sandwiches.\n",
            "19143 I am trying this for my co-workers and boss hoping they like it,also made sugar cookies and peanut butter fudge !!!!!\n",
            "19677 I tried this recipe last week because I have been craving PF Changs Mongolian Beef like crazy... unfortunately, I don&#039;t think this was even close.  Maybe different restaurants make it differently, because I see this has gotten a lot of good review, but I didn&#039;t think it tasted anything like what I get at the restaurant.  It was good... but just not what I was expecting.  I think next time I will try less brown sugar, I thought this recipe was too sweet.  I think I will also add more green onion next time.\n",
            "19870 Delicious and decadent! Great treat with minimal effort. Made for ZWT 4.\n",
            "19980 I am a Dunkin Donuts Iced Coffee lover. I get it pretty much every single day. I made this recipe and followed it to a t, it was absolutely horrible. It tasted nothing like DD. DD has a distinct flavor that this is lacking, just horrible.\n",
            "20101 This is a wonderful recipe.  I loved it! I used sharp white cheddar and it was perfect.  I will make this again and again!\n",
            "20342 Maybe I did something wrong, but I thought these turned out a little 'gummy'.\n",
            "20562 Delicous, spicy and easy to make.  They have a nice soft texture (not rubbery, like so many sugar-free baked goods).  I wondered if 1/2 teaspoon of white pepper would be too much, but it's not -- just adds a subtle heat.  I did make several substitutions for ingredients I didn't have: eliminated applesauce, brown sugar substitute, water and egg substitute; replaced with butter, cooking Splenda and 2 eggs.  Also used 2 t. white vinegar + milk to make 2/3 cup, in place of buttermilk, and added 2 T. powdered milk.  Your notes in the heading helped me make these substitutions; thanks for including them!  My cupcakes were completely cooked at 20 minutes, and filled the kitchen with the fragrance of gingerbread.  I had to hide the leftovers -- DH wanted to polish off the whole batch!\n",
            "20617 Very yummy! I think this is much better, only using the one whole egg with 3 yolks, because this makes the toast less \"eggy\" tasting. Was great with country style maple syrup.\n",
            "20710 I have to give this chicken three stars. The chicken needed flavor, perhaps some seasoning before dipping it in the ranch would of made a difference. Other than that, my husband and I didn't care for this dish at all.\n",
            "20772 Im making tonight for the first time. Will let you know how it turns out.\n",
            "20903 low making this! i've tried it with low carb tortillas before and they got a little tough when baked. would recommend using flour tortillas. i usually put a lot of cheese on this too, but this dish can taste fine if it's vegan, too.\n",
            "20968 Very Good! We enjoyed it and I will be making it again soon. Very simple but very tasty. :)\n",
            "21096 I made this last friday...it did turn out good my family liked it but the rice turned a bit soft...next time i will add less stock to cook the rice...good recipe on the whole.\n",
            "21325 Thanks for the recipe.  I made this vegan for my fiance and I on New Year's Day 2012 and served it along with corn and blackeyed peas.  We used Sriracha instead of crushed red pepper flakes, liquid aminos instead of pork, and omitted the brown sugar (although we may try it next time). Yum!\n",
            "21477 It was good ... but fell apart too easily.\n",
            "21573 I'm not a big chicken pot pie person but this was really really good!  Everyone had seconds.  It does take a while to make but it worth it if that's what you are craving.  The only thing I changed was adding a little garlic (maybe 1tsp) while cooking the veggies.  I used my mom's no fail pie crust recipe and it was perfect. Thanks!\n",
            "21636 I made this for the Photo Swap. The carrots did add a nice texture and crunch to the houmous, but I will definitely reduce the amount of tahini and lemon juice next time, as I thought there was too much of both, which spoilt the overall taste for me. I did add a clove of minced garlic, because I thought it needed it. Sorry, Sackville Girl, but I'm sure somebody else will love it!\n",
            "21874 These do not taste anything like Logans yeast rolls. They are thicker and heavier. I prefer a lil bit sweeter and stronger flavor yeast rolls.\n",
            "21974 I recently made this recipe and it was way too thin.  I would either cut the milk in half next time or eliminate it entirely.  The flavor was very good!\n",
            "22247 It smells so good while cooking.  I used chicken drumsticks.  Next time, I'll use skinless.  Cause it was not so crispy.  After the cooking time was done, the veggies were still crispy. Next time, I'll bake the veggies for about 10 minutes before adding the chicken.  And 6 mushrooms were not enough, I used 1/2 lb :)  I love mushrooms.  Thanks CulinaryQueen.  Made for photo tag game.\n",
            "22291 We really enjoyed the meal. We used chicken breasts without the skin and followed the recipe and directions exactly otherwise. I would suggest adding a little more of the citrus flavoring as the soy seemed to over power the dish slightly. Also, I didn't tenderize my breasts and would suggest doing so as the less thick parts of my chicken came out somewhat dry. Otherwise great recipe, can't wait to try this one again\n",
            "22446 we LOVED this!  I took it to the nursing home for dinner with my dad - he made sure I was passing the recipe to my mom and my sister so he could have it again!  I lightened it up, using pam spray, lite yogurt and fat-free milk.  Was sooo yummy!\n",
            "22564 This tasted odd to me. The hidden valley ranch mix was really strong, I could barely taste anything else. I think if I was ever to make this again I would greatly reduce the amount of ranch mix the recipe calls for.  My husband, however, loved it! So I am giving it 3 stars.\n",
            "22665 These made me sick for THREE DAYS! If you have ever cleaned out an old, rusty radiator then you will understand the monstrosity that fell out of my buttocks last weekend. My mothers birthday,Ruined. I Hope the creator of this poison has the same feeling of the whole world faling out my a**\n",
            "22676 Best ice cream ever!!! I absolutely love this recipe. I was craving cheesecake when I was pregnant and this ice cream was the perfect solution.\n",
            "22721 Sorry, but this just wasn't for me. The sauce tasted a little process and it just wasn't too flavorful. It was quick and easy though. So if your not picky and you want a hot meal... then it works.\n",
            "22729 This tasted good but I didn't like the consistency of the ricotta. However, I liked the orange flavour with the apples. I think if I were to make this again I'd use a different cheese, or no cheese at all. Come to think of it, it would be good with a cream cheese type sauce drizzled on the top after cooking. I served this warm paired with vanilla ice cream.\n",
            "22733 finally!! i've got one so easy to cook without the use of oven.. I've no oven in my dorm.\n",
            "22800 The first time these were so good with recipe#19678 and sliced bananas on top! However I tried it again forr DH with those additions as well and the strongest flavour was egg. The first time I used organic bananas, half good eggs at least they said free range but still where can I get organic grass fed eggs??? For the nut butter I used almond hazelnut as I did the second time as well with a little cashew butter. Maybe the eggs were old the second time? Made for FEBRUARY'S SUN and SPICE EVENT.\n",
            "23010 The flavor is really good.  Reading Tara's review below, I agree about too much sugar.  I cut it in half and it was still too much.  I cut the recipe and only made 1 serving to test it, so I cooked them on a silpat lined baking sheet and only cooked them for 10-12 minutes and they were already drying out.    Since the flavor is good, I will adjust a few things and try again.  Definitely salt these on your plate!\n",
            "23199 Thank you Ken! My husband just went deep sea fishing and brought back 20lbs of Halibut. I followed the direction expect, set the oven at 450 instead or 500 and cooked it for 20min (think 15min would have been perfect). The flavor was very good, next time (and there will be a next time) I'm gonna try to add some heat to it (crushed red peppers). Thanx again.\n",
            "23244 Please see review and picture under 125583.  I am not sure which one I saw first, but the recipes are the same.  Thanks Bev!\n",
            "23245 I am very disappointed in this recipe:(  I followed recipe and the nuts were chewy, not crispy. I don't know how to remedy thd problem, so will probably feed the squirrels with this. IF I try it again I will definitely not put any oil in recipe, it made them greasy.\n",
            "23251 Outstanding!  So easy and meaty.  I used 1 onion and garlic salt instead of fresh garlic.  It was still very flavorful - my whole family enjoyed it.\n",
            "23305 I followed the recipe to the letter EXCEPT I rinsed the brine off the pork before coating it with mustard and rub (not directed in the recipe) and I cooked it on a Traeger smoker at 200&deg; until 160&deg; (not 170&deg;) internally. The resulting meat was almost unbearably salty and slightly overcooked. (Good thing I pulled it off before it reached 170&deg;!)&lt;br/&gt;&lt;br/&gt;Although I would attempt the mustard/rub combination again, I certainly would NOT marinate in the salt/sugar solution again. I really think that ruined this otherwise fine piece of meat.\n",
            "23346 This was really good.  I realized I only had one onion so I added some onion flakes to the mix. I doubled the sauce, used 1 and 1/2 bottles of chili sauce and increased the garlic.  I think the amount of onions is a must.  My chops were boneless, inch thick and cooked on low 4 1/2 hours.\n",
            "23442 I ended up making this with a brown rice blend b/c I was out of white rice. Lots of flavor! I served it as a side dish to stuffed chicken breasts, along with sauteed green beans. Yum! Thanks for sharing.\n",
            "23555 This was excellent and it made a TON of rice.  My husband absolutely loved it.  And it freezes very well!  Thanks for the recipe!\n",
            "23678 Superb.  Will become a staple in my Thanksgiving menu for certain.\n",
            "23700 Very good and tasty dish.  Loved the vegetables!  Chicken breasts were pounded to a more uniform thickness.  There were too many vegetables for my skillet so I did those in the wok.  Next time I will cook the chicken and vegetables at the same time in separate skillets.  Unfortunately, the chicken was slightly dry and the broccoli was overcooked (I will add it later next time around).  BTW, these vegetables would make an excellent side dish too.  Thanks for the recipe.\n",
            "23716 This cake was easy to make and wonderful, but very sweet. thank you!\n",
            "23977 This was a bit messy, but super tasty! I put dark chocolate and then white chocolate for a neat color contrast. This is a very cute and yummy dessert for the holidays or any day!\n",
            "24043 Not enough sauce!! Made this tonight and I would change the recipe to double the sauce as all it does is coat the pasta. Not saucy at all.\n",
            "24272 Yum.  This is a wonderful dish that can stand alone as a meal.  It fills you up without feeling too heavy, and it is absolutely delicious -- especially on a rainy day :)  My boyfriend loves it, and says, \"Oh!  You made the stuff!\"  He always asks if he can have more.  Thanks!\n",
            "24406 Very nice dish. I skipped the onion, used grape tomatoes and dried herbs with great results. Thank you.\n",
            "24738 The flavor was a bit dry.  But not bad overall.\n",
            "24880 This soup was easy to make, but just not my thing.  It was an unusual spice combination for soup, which I just didn't find enjoyable.\n",
            "25371 We thought this dish was ok. My husband only had one serving. It is quick and easy and has few ingredients, which is nice.\n",
            "25634 Very delicious!! I couldn't find the soup mix called for in the recipe so I followed *karri's instructions for mixing  up my own, and also added some dried onions along with the fresh chopped. I omitted the oil.<br/>This recipe is SO MUCH better than other veggie meatloaf recipes I have made that use faux \"meat\".  The texture, taste and look (after cooking, lol) are spot on! This will definitely be my family's go-to recipe from now on.\n",
            "25655 This is what I was looking for, great taste and simplicity. It looks stunning on the plate next to some green and yellow vegies e.g. wilted spinach and grilled asparagus.\n",
            "25662 I didn't find this recipe hard at all.  Takes a little time, but I got plenty of that these days!  These yummy chicken rolls were so tasty.  My friends came over to visit, and I had made some for DH and I, so I baked them up for us to have while visiting.  Everyone grabbed for them like they were 100 dollar bills!  DIpping sauce was great too!   We used Chinese Duck sauce.\n",
            "25735 I was so excited about this recipe. I followed the instructions perfectly (as I haven&#039;t made anything like this before) and ended up with a bowl of burnt caramel popcorn (only half the kernels popped, I stopped the cooking process when I smelt the burning) plus, my favourite pot is burnt and needs to be well scrubbed and I hope isn&#039;t ruined.  I kept the heat on medium and shook the pot every 4-5 seconds. I would recommend the sugars being added much later in the cooking process.  I&#039;m so very sorry to give such a poor review.\n",
            "25743 I am very sorry but these cookie bars didnt work well for us. They are extremely sweet and rich and dont seem to work well with the graham cracker crust. When biting into the bars, the only thing that you taste is the sweetness of the filling, not the cranberries, white chocolate chips, or coconut. It is a nice sounding recipe but just did not work for us.\n",
            "25899 \n",
            "25969 I was at my boyfriend's house looking for something quick yet original to make for a party, so I tried this recipe. The cookies were good and had a delicate, gourmet-esque consistency to them once cooked, but be warned: do not attempt to make 'big' cookies from this recipe (more than two tablespoons). I tried this only to meet disaster. Keep them small, though, and they will be a hit.\n",
            "\n",
            "I'm only giving three stars instead of four only because I got really excited in thinking these would have some sort of 'cornflake' or 'oatmeal' quality to them- the batter, when sampling while baking the rest, sure did, but the finished product was just a decent, somewhat chewy (although still good) cookie. If you were expecting what I was, maybe add more than 1/2 of a cup of the oats and cornflakes. \n",
            "\n",
            "I'll surely keep this recipe around and play with the ingredients, thanks for sharing!\n",
            "26042 Made this dish according to the directions. It was ok, but I thing something was laking in the cabbage dish. Needed a little more punch of sweetness and, maybe, a little bit of oil to improve the flavor binding to the cabbage. I do another cabbage dish with thiny sliced onions and cumin seeds that I prefer to this one. Or maybe the white sweet potatoes I served as a side overshadowed the cabbage and apples.\n",
            "26089 good but not great and could barely tell the ranch and onion was there\n",
            "26217 i used lime instead of lemon and realized part way through that i was out of butter and margarine so i used canola oil instead. i found the uneven cooking of the microwave really annoying and had to use the electric mixer to get the lumps out. unfortunately this leads to hot filling flying around and burning you. also, ceramic bowls get VERY hot in the microwave and made this rather hazardous. i think i'd have been better off just using the stove. i know from experience that you can't properly whip egg whites in a food processor or blender so i just did it the right way with a hand mixer, adding sugar and salt after the egg whites were already fairly solid. was very frustrated by the lack of time guidance for baking. mine was brown after 15 min but obviously not cooked since it was leaking raw egg all over the oven! i reduced the temp to 325 and cooked for another 20 min or so (with a cookie sheet under to catch drips) and cooled thoroughly to make sure the meringue set (i have a serious thing against undercooked eggs, yuck). half a cup of corn starch seemed like a heck of a lot and it ended up with that glue-like smell to it but otherwise it was tasty. this certainly was not easy or fast and it made a huge mess of my kitchen but i might bother doing it again on the stovetop for special occasions only\n",
            "26300 This dish is not a bad dish at all.  I just didn't care for the wine in the recipe.  The flavor sort of overpowered the flavor of the broccoli and cheeses.  I will probably try it again and leave the wine off.  It does make a very pretty presentation.\n",
            "26324 This was different and delish. First I used 2 tablespoon oil, 1 to sautee the onions then 1 to sautee the shrimp(crevettes not used). Didn`t pour any on top. Used 1 cup sliced scallions for the bunch of spring onions. Didn`t have ouzo so I used the same flavored liquor I got from Aruba which the only difference is it`s sweeter and its red. The feta never really melted just softened. I would be carefull when using the full amount of oil when sauting the shrimp which gets ignited. I had a full flame and used a small portion of the oil that was called for. But all in all we enjoyed this very much. Please do take note the stars are based on how I prepared it! Thanks!!!\n",
            "26403 It seemed more like soup instead of stew. Very watery consistency. Next time I'm going to eliminate the water AND the tomatoes (since it's supposed to be Chile Verde (green). Also, I used only 1 jalape&ntilde;o pepper which was equal to about a tablespoon. Otherwise, it was good. Served with rice, it was very tasty!\n",
            "26485 I thought this soup was good, but not as spectacular as I expected after the rave reviews. I love that it is loaded with vegetables, it's so healthy! I wanted a little more of a flavor punch, but they all blended together into something that was good, but not great. Makes a HUGE pot. I'll try sautÃÂ©ing the vegetables first next time.\n",
            "26549 This is an excellent and easy recipe that I am already being asked to make again. The only thing I did differently was I folded about a cup of semi-sweet chocolate chips into the batter prior to baking. The chocolate made an already rich cheesecake even more so. Thanks for the recipe Mean Chef...\n",
            "26566 This was super delish and the whole family loved it. I only added a tbsp of garlic powder because i love garlic and a little more ketchup with everything. Thanks for the easy yet very tasty recipe :)\n",
            "26572 Well...it would have been nice to read about the bitters in the ingredients rather than in the directions and note in step 6.  I cannot rate this fairly until I try it with a milder jalapeno - even my Mexican husband said it was too hot, and I will have to see if I can find bitters somewhere in my podunk town.\n",
            "26618 this is delicious! i purchase fresh dough from my local pizzeria, made this after work, and it just vanished! i made 2 pizzas and added sliced red onion and red pepper strips to one of them. we all enjoyed this quick easy dinner\n",
            "26636 Mirjam I love your recipes but this one just didn't hit it with me.  I didn't change anything but it lacked some zing. The flavor just didn't come through. Neat time I think I will omit the grated orange rind as this caused a bit of bitterness to the flavor (perhaps our oranges are not up to the quality you have access to). The recipe did not say when to put in the green pepper but I assumed that it would go in with the onion, celery & garlic on the bottom. I asked my guests to rate the recipe and they all said about a 3 - It was okay but---\n",
            "26825 This is the best recipe ever. i love to make them . Easy and delicious thank you KZHANSEN. :-)\n",
            "26937 This was one of the recipes that I had in mind when I finally purchased an electric hand mixer. Needless to say, I felt that this was truly a letdown. I had high hopes for this recipe, what with all the envisions of light melt-in-your mouth cookies worth only 10 calories! The pictures on the website were so promising!<br/>On my first try, I found that my egg whites weren't reaching the soft peak stage, much less the stiff peak stage. I decided to do a redo, but only this time I wasn't going to whisk the cocoa in. Instead, I folded the cocoa into the egg whites after they had been whipped. <br/>After baking them for an hour, I was shocked to discover that my lovely meringue cookies had burnt! This is one recipe that definitely has some kinks that need to be worked out.\n",
            "26969 I set my timer for 30 minutes to start and it was still very brown on top.  It was not ruined, but i will use a lower temp next time......I snuck a small piece and I can see it being very addictive!  I will also add a little more creamed corn (the entire 15 oz can) and a little more honey.\n",
            "27089 Absolute mess.  There's no oil in this so I was leary and should have paid attention to my gut feeling.\n",
            "27345 Fantastic recipe!  This will definately be in our rotation of Friday night pizzas!  Thanks for posting.\n",
            "27368 This was so easy. I used Left-over chicken, and used rice noodles which of course made the cooking time about to about 20 - 30 minutes from start to finish. This would be a great dinner on a rushed day. With there only being two of us if we roast a chicken we always have a lot left over, so this is pefect. Thanks for the great recipe.\r\n",
            "\r\n",
            "Leanne\n",
            "27490 This was a nice recipe.  The kids enjoyed it, which is rare.  It was not made clear whether we were supposed to boil off all of the liquid before putting the mince and onion mixture into the pie crust, so I drained off almost 2 cups of liquid.  Unfortunately, it was still runny and made the bottom crust soggy.  It also looked unappetizing.  I used frozen, diced onions, which were ideal to cut the cooking time.  I also used beef granules to replace the bouillon cubes.  My frozen pie crust was just a tad too sweet for this recipe, but that is not your fault.  Next time I make this, I will boil off all of the liquid and use a different pie crust (or find a recipe here) that is not sweet (aka a fruit pie crust).  I had a 9.5 inch pie plate, and I needed just 1/2 tablespoon of milk to coat the top.  This was great with the mashed potatoes, by the way.  I ate them together with every forkful.  Yummy!  We rounded it out with a salad, and it was a very filling meal.  We have half of the pie left over this morning.  This is a recipe I will try again with the above modifications.  It goes well with my international-themed menu this week (Russian, French, Scottish, Japanese, German).  Thanks for sharing it!\n",
            "27926 Hi, I am sure I am doing something terribly wrong. I have tried this recipe 4 times now, and each time it's an utter flop. Have no idea. I am using whole wheat flour. Is that the problem? Also, it would be so helpful to offer yeast measurements in tablespoons, as well, since I am using fast-active yeast in powder form. The ounces would half been half the jar, and I don't think you man that. I followed your instructions to a T. Any suggestions? I am determined to make my own pizzas!!!!!\n",
            "28049 The popcorn looked super so I can see why it is a kid pleaser.  I found that the popcorn remained a bit on the soft side (or gooey?) despite the time spent in the oven.  Maybe it is not suppose to be crunchy like carmel popcorn??  The taste was alright though.  It's worth attempting again.\n",
            "28085 I&#039;m not sure if it was my fault, but I cooked this today, word for word, everything. great flavor, but was so tough, depressing\n",
            "28129 I had always heard it was difficult to cook chicken breasts w/o getting them tough, and I think I made that mistake here.  The flavor was pretty good.  Next time, I would set the timer for 30 minutes and test with an instant thermometer.  I might also keep the lid on it to keep moisture/steam inside to help cook the chicken and keep it moist.   I've had pretty good luck with that method in the past.  I really liked the fresh taste of the citrus in this.  Different and good.\n",
            "28175 We really enjoyed the way the pesto played up the smoked turkey and the consistency the cream cheese and pesto mixed. Made as written using the red onion option and am sure we will be having again. Thanks for the post.\n",
            "28231 Not enough sugar on the recipe, they needed way more than that :(\n",
            "28326 So simple yet sooooooo good!!!!  I used pre-sweetened strawberries and lite sour cream and this turned out great!  Next time, I think I'll try strawberry yogurt,in place of the sour cream for an even bigger strawberry taste.  \n",
            "28366 This soup had a good taste- but it was the consistency of chicken broth. It would probably be good if it were a creamy, thick (normal) broccoli cheddar soup. I used fresh broccoli and I think that part was good. The white wine gives it a good flavor. And the chicken stock is definitely a different touch!\n",
            "28741 We really enjoyed this carrot salad Paula! I made this using regular orange yogurt in place of low-fat and also just used 3 large carrots, remember to hand-squeeze out most extra moisture in the carrots or you will have a very watery salad! Thank, Kitten:)\n",
            "28971 This worked very well as an all day cock-pot recipe with a boneless pork loin roast. It made a ton of gravy and a very tender roast.  I added baby carrots and mushrooms halfway through cooking time and served with mashed potatoes. I was somewhat disappointed with the result. We found the slightly sweet flavor to be interesting and different, okay but not outstanding.\n",
            "29109 This is our first time trying eggs benedict, and first time trying hollandaise sauce.  I'm giving it a 3 star, only because we were thrown back by how lemony it was.  I messed up the first batch by placing the sauce on heat, and it curdled. But the second batch came out like it should.  If it didn't have such a strong lemon taste, it would be something we would make again.\n",
            "29197 This was a pretty good recipe.  Easy to make, mostly just time consuming.  While it had good flavor, I gave it 3 stars because there just seemed to be too much of something.  I may make this again.\n",
            "29320 Had a friend staying that loves parsnips, also had someone here not too fond of them SOooooo along came this great recipe.  I would call it a cold weather recipe but it went over well here in the Summer.  I did cut back on the butter and used only a half cup 2% milk. Loved the blended flavors of the onion, parsnip and potatoe - Thanks Debster\n",
            "29392 i took out the kielbasa as i am a vegan and it was tasty...althuogh i did find the cabbage not so complimenting so i took it out\n"
          ],
          "name": "stdout"
        }
      ]
    },
    {
      "cell_type": "markdown",
      "metadata": {
        "id": "02NxSlBb_-3l"
      },
      "source": [
        "We can see that there are different reasons that presumed negative comments (those who had a rating of 1 or 2) are qualified as positive :\n",
        "\n",
        "\n",
        "*   Comments that are actually positive but the person gave a bad grade (maybe a missclick ?) :\n",
        "\n",
        "\n"
      ]
    },
    {
      "cell_type": "code",
      "metadata": {
        "colab": {
          "base_uri": "https://localhost:8080/"
        },
        "id": "32BxXH69Av0a",
        "outputId": "eb070651-0995-4b1f-8e3b-e5900988e5f2"
      },
      "source": [
        "#Examples :\n",
        "print(X_train2[\"review\"][6],\"\\n\",X_train2[\"review\"][319])"
      ],
      "execution_count": null,
      "outputs": [
        {
          "output_type": "stream",
          "text": [
            "Very good seasoning! We used this with chicken, and I forgot to add the bullion, but it still turned out very good! I definitely recommend, and I have some left over for next time! \n",
            " Great cookies.  Love all the flavors in them.  Easy to work with and quick to do.\n"
          ],
          "name": "stdout"
        }
      ]
    },
    {
      "cell_type": "markdown",
      "metadata": {
        "id": "pW1yyc6PA_Ly"
      },
      "source": [
        "\n",
        "\n",
        "*   Comments that find a flaw in the recipe but despite this flaw they say the recipe is good (this confuses the model because positive vocabulary is used). This shows that our hypothesis saying that comments are only positive or only negative was too strong.\n",
        "\n",
        "\n"
      ]
    },
    {
      "cell_type": "code",
      "metadata": {
        "colab": {
          "base_uri": "https://localhost:8080/"
        },
        "id": "rbcF2yMcBOWE",
        "outputId": "5af1479d-0b38-40cc-9791-bf0669da8da3"
      },
      "source": [
        "#Examples :\n",
        "print(X_train2[\"review\"][123],\"\\n\",X_train2[\"review\"][1322])"
      ],
      "execution_count": null,
      "outputs": [
        {
          "output_type": "stream",
          "text": [
            "I'm not sure if I did something wrong. These were a little mushy inside. However, the wonderful taste did not suffer. I agree with previous reviewers that these were so flavorful. I will not add water next time I make these. For such a healthy recipe, it did not take up too much time in the morning. \n",
            " This was tasty, but took a lot of effort.  I used rotisserie chicken to speed things up but this was just too much for a weeknight meal in my book!  I added some Frank's Red Hot sauce and liquid smoke and forgot to pick up chocolate so I used a teaspoon of cocoa powder for depth.  Cornbread twists are no longer made, so I just made cornbread and dumped it on top - still tasty!  Will look forward to leftovers.\n"
          ],
          "name": "stdout"
        }
      ]
    },
    {
      "cell_type": "markdown",
      "metadata": {
        "id": "aO8GDG0KB-YK"
      },
      "source": [
        "\n",
        "\n",
        "*   Some are negative but the algorithm made a mistake\n",
        "\n"
      ]
    },
    {
      "cell_type": "code",
      "metadata": {
        "colab": {
          "base_uri": "https://localhost:8080/"
        },
        "id": "kzL1ahjOCIG4",
        "outputId": "c8be8620-ee37-48fe-ba88-72420586bbcf"
      },
      "source": [
        "#Examples :\n",
        "print(X_train2[\"review\"][218],\"\\n\",X_train2[\"review\"][3902])"
      ],
      "execution_count": null,
      "outputs": [
        {
          "output_type": "stream",
          "text": [
            "This turned out to be the sweetest sambal I have ever made-sickly so. Wasted a pound of peppers. Really bummed. 1 cup of sugar? Seriously, way off, but I don't know how much less would make this any good. \n",
            " I followed the directions exactly, and I'm sorry to say that this dessert tasted terrible! It took much longer to cook, therefore it was dry. Plus there was no taste to the brownies, very bland. I couldn't even get my kids to eat it.\n"
          ],
          "name": "stdout"
        }
      ]
    },
    {
      "cell_type": "markdown",
      "metadata": {
        "id": "WsnNv0Y0Cfph"
      },
      "source": [
        "\n",
        "\n",
        "---\n",
        "\n",
        "Now let's see the positive comments that are classified as negative."
      ]
    },
    {
      "cell_type": "code",
      "metadata": {
        "colab": {
          "base_uri": "https://localhost:8080/"
        },
        "id": "aQ-TX49kCntG",
        "outputId": "2c793fb3-4077-4d1c-ebe6-9037221c1ce8"
      },
      "source": [
        "for i in range(len(y_pred_test)) :\n",
        "    if y_pred_test[i] == 0 and test_true_vals[i] == 2 :\n",
        "        print(i, X_train2[\"review\"][i])"
      ],
      "execution_count": null,
      "outputs": [
        {
          "output_type": "stream",
          "text": [
            "811 It was all right.  It had a tad too much spinach IMO and I added a little more alfredo sauce...if I do make it again, I'll definitely cut the spinach in half.  Other than that though, I'll leave it alone!  My daughter loved it as is though! =o)\n",
            "842 I made this as a breakfast scramble and added chopped fake sausage links!  The lime gives it a nice tang!\n",
            "895 Easy to make, but my husband and I didn't really care for this. If I do try it again, I would use garlic powder instead of garlic salt for a little more garlic flavor since you add salt to taste anyway. Thanks.\n",
            "1061 YUM! This was very good!  Normally when I try something new my son says \"it's ok\" when I made this dish he said \"Mmmm this is good. you should make this again!\"  I will be making it again soon!\n",
            "1100 I chose this recipe because I have the fondest memories of my grandmother's molasses cookies.  We called them \"Grandma Cookies.\"  She always made them before our visits.  As a matter of fact the tray the cookies are on in the picture was hers. I had never made cookies before where you had to melt shortening and then let it cool.  But it made it much easier to mix with the other wet ingredients.  The spices were right on target!  These are unbelievably good cookies.  I refrigerated them for about 3 hours and the dough was very workable.  I chose not to add cinnamon to the sugar I rolled them in.  I baked the first batch as the recipe stated and came out with plump, soft cookies.  The second batch I flattened with the  bottom of a sugar-coated glass.  They came out thin and crispy, very good too.  This would be a good recipe for a novice cookie baker.  My DS took a warm cookie off the plate and with a full mouth said, \"These are great.\"  Linda, thanks for the wonderful recipe.\n",
            "1148 I was very excited about using this recipe since my breads have collapsed in my bread machine due to high altitude (4,600 ft.). This recipe was a disaster. To me, there is too much water to flour, it was a puddle in the machine. I left it finish nonetheless and it not only collapsed, but the taste was terrible. Won't be doing this one again.\n",
            "1435 This is so good, very \"old country\" comfort food. Made as posted, except I had to use dried dill and parsley. I saved a few servings in the freezer, but I don't think they will be there long. :lol: Made for Alphabet Soup Game. Thanks for posting a keeper!\n",
            "1440 This was an okay recipe, but I did not find it especially interesting.  I notice that the other reviewers who gave it higher stars marinated the pork, and I did not.  Maybe that makes all the difference\n",
            "1533 I loved this and so did the entire office.  I put everything but the pasta in the crockpot the night before and put it in the fridge.  I cooked the pasta (just plain macaroni) and put it in a separate container.  Took everything to the office the next morning and turned on the crockpot.  Put the pasta in the last hour.  It was all gone!  Oh, and instead of frozen carrots, I coarsely chopped raw ones.  They were perfectly cooked by lunch time.  I left out the mushrooms and hot sauce.  This went in my permanent cookbook!\n",
            "1770 My Chinese wife gave it 2 thumbs up and &quot;Very Good!&quot;.\n",
            "1791 I will never have to worry about not having pancake mix. These were so good, light and fluffy and made quite a few nice sized pancakes. I was able to get 10. I used a 1/2 cup messuring cup to messure out. These are my new Saturday morning breakfast!\n",
            "2099 This turned out good, but did not get any raves from the family.  It was very easy to prepare.\n",
            "2200 These were spectacular!!!! My DH is from Trinidad and he could not get enough. Thanks for sharing.\n",
            "2509 Let's see, what's better about this recipe.....is it the easy prep or the great taste?? Since we had it two nights in a row, I guess it's the great taste. The wrinkle we added is to broil the chops and used olive oil to start the onions. But either way this one is a definite must try!\n",
            "2626 This was a 3 from everyone at our house.  In the words of my daughter \"It's ok, but I'd rather have regular french toast.\"  We all ate it but probably won't make again.\n",
            "2672 I like this one and it is filling. This certainly has some taste and a zing to it, nothing extra needed.\n",
            "2950 I cooked mine on the grill.  Don't let the \"burn\" look fool you - it's just the sugar caramelizing.  I dont' know if it was the cut of meat I used (a split pork loin) of the length of time it took to cook - but the meat was tough.  The outside was hard and the flavor was weird.  I don't do this one again.\n",
            "3367 This is easy and delicious. Thank you for sharing. It has a great consistency. I made it as written except for no pimentos.\n",
            "3411 Pretty interesting combination, but actually quite good and surprisingly not fishy.  The high protein also makes it very filling.  I won't be making this every night, but definitely one I will make more than once.\n",
            "3429 This juice has always been my favourite.  Carrots and apples.  So simple, yet the flavours of the two just seem to go so well together.  If the carrots aren't very big I put in more than four, I like the carrots to be slightly more predominant in the flavours.  Like Geema stated, I also sometimes add a small piece of ginger.  Thanks for posting Rita, now I'll have this in my cookbook so I don't forget about my favourite juice combo!  :)\n",
            "3629 I figured with so many good reviews that this would be amazing.  I found it to be just okay and will not make again.  We did not like the texture or flavor.  I subsequently tried a couple other Zaar banana bread recipes and was much happier with them.\n",
            "3843 I made this last night- It was so good! I used a 4.5 pound pork roast, so I changed the amounts of the ingredients as needed. The flavors blended perfectly! The meat was nice and moist too! Thanks for sharing! I will be making this again!\n",
            "3848 I think I'd rename this to \"Hot and Sour Chicken with Rhubarb\"! This is fantastic! Where I live, rhubarb is a big thing, so, when speaking to co-workers about this dish, they were all intrigued! Who'd have thought that rhubarb could elevate from pie or cobbler status?! Used rhubarb from my garden and made as directed. Thanks, Kitzy! Made for PRMR.\n",
            "3965 I made this the other night and it was really good.  Next time I will add some sort of spices or taco seasoning or something.  It's very filling!!!  Thanks for the recipe. :O)\n",
            "4090 I really wanted to like this recipe, but it just did not turn out well for me.  I used a lemon cake mix (no pudding) and followed the directions exactly.  The resulting cupckes were very flat, without that nice little rounded top.  Some of them overflowed the top.  Also, there were a lot of tunnels (air pockets) in the cakes.  I don't know if that was a result of the ingredients, or the way they were piped into the pan using a zip-loc bag.  Anyway, I was able to use them by piling high with frosting, but they just weren't what I was expecting.\n",
            "4206 Delicious!  Since we only had a large can of regular tomatoes, we got risqu? and substituted the smaller-sized can of fire roasted tomatoes instead. I think it really worked with the paprika, and was an awesome match for a nice bottle of Gamay Noir.   The only thing we'll change next time is to leave out the salt added with the herbs and let everyone add their own salt at the table.   Yummy!\n",
            "4435 you dont need all that stuff\n",
            "4936 I made this as part of Worldwide Recipezaar Day.  Sorry, Wilz, the quiche did create it's own crust, but it was soggy.  I left out the bacon, but I don't think that would have been the reason, if anything, it made the quiche less fatty.  Had the quiche been crustier I'm sure that this would have been delicious, based on all the other yummy ingredients in the recipe.\n",
            "4948 Very easy to prepare and I enjoyed the tang the lemon added to the soup.  Thanks for a great lunch Sage!!\n",
            "4980 Oooh, this is a super pasta dish, which we thoroughly enjoyed.  the creamy sauce has a wonderful flavour and the tomato puree turns it a lovely colour.   I can't confirm the poor behaviour of UK single cream, as I only had extra thick double cream to hand :-)  I didn't have enough cream for the recipe so I created a thinner 'cream' by mixing half the specified amount of cream with an equal amount of full fat milk.  This worked a treat and behaved very well indeed!  \n",
            "4985 This was ok, but there just was something I didn't like about the taste.\n",
            "5044 I used my own stuffing recipe. The flavors of all the diffrent birds went very well together. My family said it was a must make again!\n",
            "5175 We were looking for a different way to do macaroni & cheese so we thought we'd give this a try.  It was great!  We made it as written except for the mushrooms which we were all out of & used frozen, chopped spinach.  We'll certainly be making this again the next time we're looking for some comfort food with a twist.\n",
            "5287 This looked fun and different, so I decided to try it.  When mixing it up, I starting having doubts about it because the grape flavor was so intense.  But after chilling, the flavor and consistency was right.  Loved the color---a pretty lavender color.  This would be something pretty on the table at Easter.\n",
            "5635 I very much enjoyed these cookies!  I omitted the egg and used light cool whip.  I do weight watchers and they are very low in points.  Very pretty and very rich!  I mixed the dough when the cool whip was still frozen and had no problems with the dough being too sticky to work with!\n",
            "5782 This is too sweet for us.\n",
            "5830 Made for Healthy Choices 2008 ABC (May).  We thought this would be better with several changes.  There wasn't nearly enough stew to feed six people - next time I would double the stew ingredients and I would also make a thicker sauce and increase the amount.  There just wasn't enough sauce with the veggies - it was kind of dry.  The dumpling recipe was adequate and they were good - not sure if they were right or not because I\"ve never made dumplings before.  I would make this again with some of the above changes.  Thanks, Annacia for giving me a place to start.\n",
            "5985 Way too sweet for biscuits. Even my breakfast gravy couldn't disguise the sweetness.\n",
            "6292 This wasn't bad. I, too, assumed about 3 tbsp. of butter & cut the lemon juice in half. It reminded me a lot of country gravy.\n",
            "6482 It just didn't have enough flavor for me\n",
            "6937 I love salmon. I love pecans. I love honey mustard. The combo of all is just not right on fish. I will try this again, but with chicken. I think it would be awesome then.\n",
            "7243 This is a good base recipe, but I feel like it needs a little tweaking. The veggies turned out very flavorful - the instructions don't say what to do with the garlic clove or the olive oil, so I sliced two medium sized garlic cloves with the veggies, then used olive oil spray to coat them evenly during roasting. I also added half a red bell pepper, yum!  The polenta was very creamy, but needed some seasoning. I added about a teaspoon of kosher salt, but we felt like it still needed something... Unfortunately, I was out of parmesan for sprinkling on top, I'm sure that would have added to the great flavor in the veggies.\n",
            "7298 I wouldn't agree that this was the best recipe for beef and broccoli, but it was easy.  The flavor was okay.  Not our favorite.\n",
            "7394 If this spaghetti wasn't so much work, I'd make it a lot more often.  If you want to impress someone with your cooking, this is the dish to make.  My SO is Italian and he fell in love with it.\n",
            "7439 I thought these pancakes were pretty good.  I did have to add about 1/3 cup more of flour because they were way too watery.  I think I'll be sticking to my regular WW pancake recipe, but thought these would be worth a shot.  Thanks for posting.\n",
            "7546 It was okay, just a little too plain for my liking.\n",
            "8496 I used 100% whole wheat flour which makes the muffins a bit more dense.  I used the splenda and applesauce but regular eggs.  For spices, I added a lot more which makes a huge difference: 1.5 tsp of cinnamon, 1 tsp of ginger, 0.5 tsp of nutmeg.  Try them!\n",
            "8945 I made these and they came out good. They were thick and more cake like. I was looking for something a little more light and fluffy. As stated in another comment I would probably addd more milk to achieve a lighter cake. This one is more dense but still good.\n",
            "8976 Very quick and filling.  I used cheddar cheese and whole wheat toast, and topped mine with red and black pepper for more flavor.\n",
            "9024 I was so excited to try this pie but it was a lot of work and it did not set up (even though I spent a very long time cooking the berries down to 2 cups exactly.)  The whipped topping/frosting also did not set up, even though it was initially \"stiff peaks.\"  Taste-wise, I would rate this as a 5 (especially the frosting) but the texture would be a 2 so I'm giving it 3 stars.  Maybe it was because I used fresh berries?  I'm not sure I would try this again since I think CC's recipe for \"Fresh Strawberry Pie\" is much easier and also delicious.\n",
            "9102 Fantastic!  What a great way to make Bierocks without all the fuss.  Easy and quick and still tastes great.  I'll be making it this way from now on.  Thanks so much for sharing, Jarmer.\n",
            "9476 I really wanted to like this recipe, but it was just NOT up to par.  Very little flavor, and the texture was bad.<br/>I used excellent salsa, so that excuse won't work for me.  Made as described adding only a small onion.  <br/>Had one bite, and threw out the rest.  We had frozen pizza for dinner that night.\n",
            "9543 WOW!! Really good! I topped these with a brownsugar banana sauce and they were so tasty! My mom suggested that next time we add some pecans for texture..YUM!\n",
            "9666 We liked these!  Really enjoyed the flavor!  I had problems with them sticking to the pan, next time I'll spray the pan first.  Thanks Mary.  made for ZWT, please see my rating system as I rate tougher than most.\n",
            "9915 Very simple recipe.  Taste was good.  A little dry.  Will try again.\n",
            "10064 Colorful and delicious combo - the red onion and artichokes are the best! Prep this at the beginning of the week to use for sides, wraps and omelettes.\n",
            "10347 Fantastic recipe!  My family loved it!\n",
            "10370 Excellent!!  I used whole wheat flour, and coconut oil, and added some ground flax seed, and the loaf is soo very tasty, with the oats adding a bit of crunch.  Absolutely a keeper!!\n",
            "10427 My hubby really liked this! I added some mushrooms during the saute phase and a teaspoon basil.  I used recipe #92095 for the meatballs. It was really good!\n",
            "11221 These were pretty good, but boy do they have a LOT of fiber!\n",
            "11263 not our taste...too much ginger for us\n",
            "11481 I cut the recipe in half using some leftover pork and rice.  I actually made this for lunch tomorrow, but had to go ahead and try it tonight.  It was super easy to make and the flavors combined nicely.\n",
            "11617 Came out completely dry and tasteless, and that's after turning it off 2 hours early. Potatoes were way too large and should have been cut at 1' cubes. Not enough broth for the volume of ingredients. Didn't even call for Worcestershire sauce. Awful recipe.\n",
            "11667 Great classic recipe. I prepared a great holiday breakfast for my family. I would recommend to add more sugar to make the pancakes more sweet. The syrup sometimes is not enough. Also, if you have a ceramic pan, you can make them without oil!!!\n",
            "12011 I didn't have a dutch oven so I just cooked the ground beef in a skillet. I had trouble getting the onions to saute without burning the meat. I would suggest cooking them up separately at the same time the ground beef is cooking. Otherwise, this was pretty simple to make and did taste good. I give it 3 stars because I 'like it'. I just don't think sweet chili is for me. I might try it again though without adding the sugar. If you really like a spicy chili you'll need to add some additional spice. It wasn't hot at all, and it isn't supposed to be. It's a great recipe to make for kids.\n",
            "12067 this recipe was pretty good. but they need to add that after you butter the skillet on medium, turn the heat to low so your french toast won&#039;t burn. :) other than that, it was great.\n",
            "12079 This was a nice, hearty meal but tasted a little different than I expected it to.  The two tomato cans made it taste a tad bit too tomatoey and the amount of seasonings IMO were not enough to really lend much flavor although the cayenne did give it a nice kick.  I will make this again, albeit with the seasonings adjusting the seasonings.\n",
            "12227 Blue Cheese lovers will like this. The reason I am giving this a 3 star is cause the blue cheese I used was a bit to strong we think, other than that the chicken was good. (Rosenborg Danish Blue Cheese is what I used)\r\n",
            " I added some chopped onion in the mixture and some black pepper and I used seasoning salt and more black pepper on top of chicken breast along with the lemon (I used fresh lemon) and paprika. \r\n",
            "Thanks for sharing the recipe.\n",
            "12268 Next time I make these, I will double the crab and halve the cream cheese.  Otherwise, they were good, and very simple.\r\n",
            "\n",
            "12315 The bottom was burnt at 350 during the precook. I think next time I may try these at 300 for the 15 minute precook. The rest was fine.\n",
            "12328 My family liked this better than steaks on the grill. The cook times were a bit long, but everything still tasted good. I went by how it looked, not by the time to know when to flip the pan seared steaks. Another quick note, I put the butter on and then put it back in the warm oven (turned off, but still warm) to melt the butter.\n",
            "12478 21 reviews and THE d-e-l-i-o-u-s photos by Pamela,definitely grabbed my attention.So off I went to try this and may i tell u it is not so different from the other reviewers......EXCELLENTLY,GORGEOUSLY,DIVENELY,CHOCODELICIOUSLY........yUMMMMMMMMMMY.....thnx BEV...(just wish i could have a better metabolism!!)\n",
            "12622 Did not like flavor or consistency. Also lacked any sweetness even though I used sweetened applesauce. I had also added vanilla and cinnamon.\n",
            "12723 I brought this to a dessert potluck and it got rave reviews. I baked it in an  8\"x 8\" pan and added some semi-sweet chocolate chips. I also used half whole wheat flour.\n",
            "12838 Very good! I am a real southern girl who loves cheese in her grits and this is a terrific and authentic recipe. Thanks!\n",
            "12920 Wonderful cucumbers! I used one English cucumber, minced garlic, and plain yogurt. Salted the sliced cucumbers and let them drain for a bit. Blotted dry with a paper towel than added remaining ingredients. Loved the fresh dill flavor, great summer side dish or salad. Made and reviewed for ZWT 4 - Family Picks.\n",
            "13406 Not impressed.  Taste was very bland.\n",
            "13612 I always know where to go when I want good beans now that I have this recipe!  Wow were these awesome!\n",
            "13621 My mother makes chocolate and biscuits, but she never measures and never makes it the same way twice... so I am looking for a recipe so I can make it for my children. I made this as written except I added 1/2tsp vanilla.  It was more like chocolate syrup to me, not the texture of my mom's at all... I have to keep looking.  It was easy to make and it did not go to waste. :)\n",
            "13640 This cucumber salad was good with the fresh chives in it. I used English cucumber in it to avoid seeds but I think they are less watery than regular cucumbers so it made the salad a little thick. I might cut back on the sour cream next time or thin with a little milk. Otherwise it was quite nice and went very welll with my meal. Made for ZWT4 Family Picks for team Kumquat's Kookin' Kaboodles. Thanks for sharing. ~Sue\n",
            "13806 My goal is to get my toddler to eat more veggies, so i pureed the spinach and just mixed it in with the soup mixture. I also will cook it closer to an hour and a half next time because the rice didn't cook fully. My toddler truly liked it!!\n",
            "14430 Easy easy! Nice flavor. I made it with diced mangoes and loved that! I also sauteed the shallots which added depth. \r\n",
            "\r\n",
            "thanks for the basic recipe. It can be varied in so many ways.\r\n",
            "\r\n",
            "Ivy\n",
            "14451 This was an excellent side dish! I used whole milk instead of half-n-half, 3eggs and montery jack cheese! All the flavors blended nicely and everyone in family invcluding two year old loved it! Thanks again kitten for lovely recipe!\n",
            "14567 Very yummy and oh so simple. At first I was concerned about using my wine in a soup recipe, but oh what a great addition to the soup. Fall is just around the corner and I'm sure we'll we trying this again.\r\n",
            "\n",
            "14708 I used to have a neighbor who was Lebanese and she would put lemon in everything.  But she never made tuna salad, she thought of it as \"American\" food.  This is a wonderful idea!  I love the fact that there is no mayonnaise in here, it makes the salad that much more special.  I used half parsley and half coriander leaves, served the salad on toasted whole-grain bread with some mint tea on the side.  Yum!\n",
            "14936 These are incredible!  I've made 6 dozen in the past 3 days.  They're moist, and are the perfect blending of flavours - the banana and blueberries go so well together.  Maybe I'll actually give them as a gift in a jar next time...\n",
            "15609 This is very dry.  I did exactly as the recipe instructed, and was not impressed.  There didn't seem to be enough of the sour cream to easily spread, and I actually added a second container.  I think a stick of butter, melted, might have helped.  I think a little extra salt would also have helped.  Sorry, but don't think this will be one I repeat.\n",
            "15774 This recipe is aweful. What a huge waste of expensive ingredients. My husband said this was the second worst thing I have ever made. We threw them out. I think that the baking temperature is off, because after 35 minutes the mix felt barely warm in the pan. When I cranked up the temperature to 350 degrees and baked for another 15 minutes, they seemed cooked but they tasted aweful. Do not waste your time or taste buds. \n",
            "15844 Oh Latchy... the first recipe of yours I've ever made and I can't even thank you. :o(  It was sublime. I will think of you on each of the MANY occasions we enjoy this dish!  Instead of chili paste, I used what I had: a ready-made curry paste. Mmmm!  I also didn't have kaffir lime leaves, so I went out back and tore two lemon verbena leaves off my plant. Perfect!  Just remember to remove them like the instructions say. ;o) For palm sugar, I used light brown sugar. I know, I know... lots of subs, but it was still a 5-star recipe all the way. Thank you, Latchy, wherever you are!\n",
            "16043 Seems that when I originally made this recipe, I forgot to review it.  This was put together in the morning and refrigerated until dinner time.  It made a great side for a cookout.\n",
            "16348 I made these into rolls. I really wanted to like this recipe. But there was just something about it we didn't like. The baked up very nice and the smell was AWESOME!. I'm sure others will really enjoy this recipe. I guess it wasn't for us. I am glad I tried it! But I don't think I'll make it again. Thanks for sharing! :)\n",
            "16407 This recipe is tasty but 100% definitely not the famous sauce of the big three (acropole, sams trenton, Alices). This sauce is red and does not come out brown like pictou county pizza sauce. I have heard rumours of lard being the secret ingredient? I did puree all the veggies before adding to sauce. I would add more onions, garlic, mushrooms to the recipe and use less oil more broth. Pepper amount is fine. brothers pepperoni is also needed. I know greeks are very picky about their olive oil so maybe using a nice olive oil instead of dirty canola oil would add to it as well.\n",
            "16598 I usually don&#039;t take time to review recipes and when I saw all the excellent reviews on this, I thought it must be good...This recipe was not good! It was like bland grease in my mouth and actually left my stomach turning. I&#039;m so glad I trialed this before putting it on my daughter&#039;s baby shower cake. Back to the drawing board to find a good piping frosting...\n",
            "16865 Pretty good. I used oat and rice cereal instead of flour and oatmeal, peanut butter rather than butter, and made them as bar cookies instead.\n",
            "17144 Yummy and delicious.  I increased the recipe to serve 6 and served it topped with Italian Sausage, Peppers and Onions.  Everyone said it was very creamy with lots of flavor.  Made for Culinary Quest 2014.\n",
            "17346 Excellent recipe!\n",
            "17524 I tried it as to the recipe and it was okay. I felt it was missing something. I made it second time and tweaked it a little. 1. I swapped the coke out for root beer 2. I added some brown sugar 3. I added some cayenne to kick it up a little 4. I added a little Apple cider vinegar. 5. I added a little yellow mustard. With these tweaks it goes great on pulled pork Just my 2 cents\n",
            "18536 This is a very different take on the usual quiche.  I used a ready-made crust and baked it using the directions on the package.  I used canned mushrooms, but I believe the fresh ones would have been better.  I used egg substitute and soy milk to make a low cholesterol version.  I also added artichokes.  I really like the feta cheese on top.  It adds a great texture to finish it all off.\n",
            "18546 No delineation about whether or not the rice and chicken should have been cooked before putting them in the oven?  My assumption was that it was NOT to be cooked, since there was no specification in the ingredient list, nor was it listed as a step in the cooking process.  I had to boil the rice in the salsa mixture to try to cook the rice, then realized as I put the entire thing in the oven that 30 minutes would not be enough time to cook the chicken.  The sad thing is that I tasted the recipe throughout, and the sauce was delicious (the only reason I did not give this one star).  Some really bad recipe writing.  I would like to come back and try it again when the recipe is updated properly.\n",
            "18557 Don't laugh, but the first time I made these I by mistake grabbed the cayenne pepper instead of the cinnamon, so the filling was spicy and the whole thing tasted gross. The second time, it tasted very good, but wasn't the right texture. The dough didn't rise and it was very heavy. It could have been my yeast because that also happened to the dough the first time I made these.\n",
            "18637 This is a good recipe but it's not my favorite dish.  It was too hot for my older daughter & enough curry paste so I could taste the cilantro which I detest.  But my 5y.o. loved it.  ;)  The recipe is very good - a nice balance of flavors/textures - the raisins & mangoes take the edge of the heat.  \n",
            "18826 What a great recipe, I had it years ago and lost it, but sure is nice find it again, Thanks Dana!  There is a vanilla vodka by Stoli&#039;s, it makes a fabulous Vanilla White Russian.  Equal parts kahlua and vodka over ice, top off with milk and shake.  Yummeee!  If you have a party, usually women don&#039;t know what to drink because they really don&#039;t like the taste of liquor, this one makes them come back for more!  Be careful, it&#039;ll sneak up on you!\n",
            "18880 Im giving 5 stars for two things: 1, the chops were great, nice and tender, but as in Grayberts review, the flavor could have been a little stronger. and 2, the INSTRUCTIONS on cooking the chops was so detailed, i doubt i could have messed them up. this is the technique i now use for all my grilled chops, and they all come out perfeclty!  thanks!\n",
            "19314 We found this to be entirely too salty with nothing to cut the blue cheese.  If I were to make this again, I would make a quick b&eacute;chamel to temper the cheese and cut down on the salt level.  We did not enjoy it.\n",
            "19370 I have made this dish twice now.  We like it - it is a good hearty casserole.  I double the cumin - love cumin!  Instead of the can of Mexican-style tomatoes - this last time I used a can of green chile enchilada sauce.  Very tasty.  Gave it a little more of an enchilada taste.  I also used a red pepper instead of green.  Just a personal preference.  Thanks for posting.  We enjoyed this.\n",
            "19577 This was waaaay too salty!! I didn't even use the potatow chips on top. I used panko bread crumbs. I would definately use low sodium soup if I made it again.\n",
            "19863 I think this recipe was just ok.  I was hoping for a nice burst of flavors from the fruit, but it was very bland tasting and the fruit taste wasn't there really at all.  We left the juice in as suggested by another reviewer and even still there wasn't much flavor.  We ended up adding a bit of brown sugar and shredded coconut to taste to our individual plates and that made it a bit better, but still not something we would make again.\n",
            "19881 I chose this recipe because I needed to make cookies to take to a party and I didn't have any butter.  I was surprised this recipe didn't call for flour, but they mixed up very quickly.  I have other recipes I like better than this one, but when I took them to my party, the girls ate them all and 2 people asked for the recipe so I had to go with 5 stars!\n",
            "19942 The fish tasted good but the breading stuck to the pan. It might be good to dip the fish in olive oil after brushing on the lemon, then bread it.\n",
            "20016 Well, my kids loved these, seeing as they contain sugar and are chocolate and mini. Also, they were pretty quick and easy to do. Mine needed closer to 12 minutes bake time in the mini pan. I like that they can be mixed up by hand without an electric mixer - the batter is thick and kind of gummy-textured so it&#039;s not exactly easy, but not difficult enough for me to lose patience with it, so definitely doable with effort. The thickness and gumminess of the batter makes it rather difficult to get into the mini donut pan neatly, as it&#039;s not pourable and clumps in the pan and sticks to the spoon when you try to distribute it evenly so the donut doesn&#039;t turn out with a lumpy bumpy top. I am glad the recipe did not make any more than 24 because I would have gotten fed up with trying to get this batter into the little cavities. I also felt that these were lacking in the flavor department, but I can appreciate the fact that they are a fairly quick easy way to delight kids with cute mini donuts without needing to deep-fry. I imagine a glaze would surely help with the taste issue, so if you are trying these I do recommend that you plan on glazing them.\n",
            "20135 Que rico! One of our favorites!\n",
            "20167 Wow I can't believe I haven't rated this recipe.  I have made this twice and my family loves it.  It is so easy to make and taste like Chinese takeout :)\r\n",
            "Thank you for a great recipe!\n",
            "20374 I've never had Lentil Dal before. It was fairly bland to me, from my experience with curry type dishes. I do love the idea that it is a healthy vegetarian dish.  I would make it again for myself since I love to eat healthy, but I would never make it for company or a hot date.\n",
            "20555 Mmmm strawberries!  This is delicious!  I made mine with frozen strawberries, so added a little cornstarch so it wouldn't be soupy.  I'd love to try it with fresh next time.  I really really enjoyed this.\n",
            "21224 The description of this is so right. This tasted like I had spent all day making when I did not.  So easy to make with such a great outcome.  Will be making this again.\n",
            "21435 I had really hoped to give this a higher mark.  It was too sweet; perhaps I should&#039;ve not used as much honey as the recipe calls for ???  I did use the suggestion to add crushed red peppers but the sweetness was too overpowering.  I only had chicken tenders (fingers) so I&#039;m not sure if that had something to do with how it tasted or not.  It&#039;s an &quot;okay&quot; recipe but I doubt this will be on our go-to in the near future.\n",
            "21619 We, too, had high hopes for these since Martha Stewart approved them.  We found them to have a really  noticable bean sprout taste (which is the garfava flour).  The texture was good and the were real moist, we just couldn't get past the \"bean\" taste.  And the xanthan gum cost me almost $10.00!  You get a lot for that price (probably a lifetime supply) but you only need the 1/4 tsp, and I don't know what else I'd use it in.  These were expensive to make, but maybe worth it for some who can't eat regular brownies.  And maybe the \"bean\" taste isn't as noticable to some people as it was to us.\n",
            "21652 Gateau Marjolaine is NOT really a Meringue cake. Although there is alot of whipped egg whites in the recipe, there is also a small amount of pastry flour (4oz by weight) folded in with the nuts. I tried this recipe because I thought it might be an interesting twist on my favourite cake but this recipe is awful! Between the meringue and the buttercream, it is far too sweet. The meringue is very difficult to work with and doesnt do any justice at all. If you are going to spend the time, money, and effort to make the glorious \"Gateau Marjolaine\", dont waste it by using this recipe.\n",
            "21767 woah!!! Loved it, the whole family did! Didn't change a thing but next time i'm going to add just a couple more sun-dried tom's. Cant wait to have some of the left overs for lunch tomorrow! The perfect dinner party meal....u cant go wrong.\n",
            "21781 My guests loved this gooey cake.  I would say the frosting turned out more like a glaze, but it made for an incredibly moist cake.  Instead of nuts, I used toffee bits, which melted and contributed to the yummy \"gooey\" facter.  I'll be making this again.\n",
            "21879 I tried it with flounder but didn't season the fish like I should have.  The sauce itself was good and I'll have to try it with a more flavorful fish like Salmon.\n",
            "22117 It's a little bland, but you can spice it up with things like red pepper & garlic or a little balsamic vinegar in the mix or even green onion.  I would change it next time to be more flavorful using a variety of spices/aromatics.\n",
            "22456 Boomie - I'm so sorry to have to give these cookies such a low rating.  This recipe just does not work in the end.  Even though I thoroughly made sure the strawberries were room temperature and dry, after baking the dough around the mound of strawberry just soaked up moisture and broke apart.  The next day they were so moist I was afraid to eat them.  I tried a cookie soon after baking and the flavors were good but the moisture is a huge issue.  I am wondering if you chopped up the strawberries if that would not work better instead of mounding around a small one?  I so wish I could have given this more stars ... the recipe just needs a new method to incorporate the strawberries without being whole.  Made for The Circus Has Come Photo Forum Challenge.\n",
            "22485 I have to say that I just didn't enjoy this one all that much. It may have been the dill. It was a bit over-powering.\n",
            "22506 I would advise anyone who uses this recipe to only use the egg yolk and not the whole egg. I used the whole egg and the finished product tasted like straight up egg. The batter was fine before I put in the egg and it turned out really fluffy. Just too much egg\n",
            "22588 So delicious - thank you! It was a &quot;let&#039;s save those limes in the fridge&quot; so try a lime recipe exercise and I actually added some ginger (just because I love ginger) to it and made it with brown sugar but followed every steps as stated and result is magnificent. I will make from next time. xxx\n",
            "22743 Wonderful,i rated it before but doesnt look like it took,it is a 5 star recipe.\n",
            "22771 Very simple &amp; easy, but there isn&#039;t any originality or &#039;pep&#039; to this recipe. I&#039;ve thought of this one myself. &lt;br/&gt;However, it&#039;s good to eat. Although I am going to add herbs &amp; some spices to it next time. Not to mention marinating it.\n",
            "22794 This recipe had great reviews and I had mini m&amp;ms so I figured I would try it. I followed this recipe almost exactly, just used a little less flour since the consistency was very thick and dry. The cookies were very thick and doughy almost like scones or something. Using all shortening in this recipe gave the cookies a fake, chemical- like taste. They were not very sweet and definitely not indulgent. Chocolate Chip Cookies are a classic that everyone enjoys and these cookies completely miss the mark.\n",
            "23425 I did it the stir fried way and the squid turned out really tender. It's definitely a unique way of cooking squid and I am pleasantly surprised. Perhaps the fact that I skipped the peanut oil and the fish sauce dip didnt quite bring out the authentic flavour this dish is supposed to have. Still this dish is bad at all. Thanks!\n",
            "23485 I've been looking for an eggless birthday cake recipe for my egg-allergic daughter.  This one looked good, so I gave it a try...I think I'll keep looking.  The cake was very dense and moist, but tasted strange and had an odd brown/beige color to it.\n",
            "23549 Easy comfort food! I definitely thought it was impossible, but it worked. :D  I used 6 egg whites in place of the eggs and skim milk.  It came out super fluffy.  Thanks, Wendy!\n",
            "23564 These were very easy to make... at first batter seemed very runny but turned out very well!\n",
            "23632 I am a huge chocolate fan, and I thought this would be chocolate overkill, but it didn't come together like I thought it would.  I purchased pizza dough in the can, and did not care for the combination of the dough and the chocolate.  There was not a huge cariance in texture, just dough and chocolate.  Don't think I would make again, but if I did, I would have to add some stuff on top to make the toppings thicker and more varied, maybe marshmallows, more nuts, graham cracker crumbs or something.  I didn't get any comments of people liking it other than my mom saying it was ok.\n",
            "23635 It does jazz up a plain tuna salad sandwich.  It has a nice kick to it and we'll be making it again, next time I'll add more veggies to it.  Thank you!\n",
            "23726 Wicked good and easy to make.  I love it with the lemon peel and vanilla. If yours comes out too \"soupy\" it is probably because you are not using the right kind of rice: make sure to use arborio or at the very least a short-grained rice.  Thanks again, Evelyn!!!\n",
            "24261 The technique works, but my marmalade is too bitter and not at all sour. I used limes bought at Wal-Mart, and I would have been better off squeezing them for limeade. If I try this again, I'll peel the zest from the limes and cut the pith away. Maybe I used the wrong kind of limes. They were the only ones available.\n",
            "24278 I thought the sauce was very good but the ribs turned out to be quite dry and almost burned looking.  This was the very first time I've ever made ribs, though.  Don't really know what I'm doing.  I feel the ribs being dry was a mistake on my part and not caused by the recipe.  Maybe I should wait to put on the sauce?  I'll try this one again someday.  Cook and learn.\n",
            "24670 I followed the directions exactly and still had trouble peeling the eggs.  It seemed to work better when I only cracked one half of the egg.  If I rolled the whole egg, it was hard to get the shell off.\n",
            "24688 I see why some people were having problems with this-- if you leave too much of the mixture on the bread, it makes a huge mess and never really cooks right.  try soaking and scraping excess liquid off the bread before putting it in the pan- this seemed to make it cook better and more like regular french toast\n",
            "24809 I made this for family and it went over ok! Not sure what to change but I felt it needed something.\n",
            "24811 I worked in a restaurant that specialized in rotisserie chicken and it wasn't even close to being this good! Definitely, the juicier the fruit you use, the better. I've tried it a number of times with different fruits and have found oranges and lemons (skip the apple) seem to add the most flavor and keep the chicken its juiciest. I put chopped garlic and ginger inside the chicken with the fruit and rub the outside with ground ginger, garlic powder, rosemary or thyme and oregano.\n",
            "24955 This is quick and short preparation!  The flavor is awesome. Wash, cut, open and dump everything to the pot and let it simmer. Potatoes and carrots in my opinion probably be better to cook first for 3-5 minutes before joining the rest of the ingredients. Serving with 3oz of Sirloin Steak and a scoop of Linguine with Garlic & Olive Oil for dinner of 2. Very fulfilling! Thank you for sharing!!!\n",
            "25476 I thought these were just ok.  Kinda tasted like a brownie to me and that's probably why they aren't my favorite, not a big brownie lover.    Everyone at my party and 153 reviewers disagree with me tho.  :-) Thanks for sharing your recipe, it's fun to try something new.\n",
            "25522 too much pressure in bowl, microwave blew up\n",
            "25572 We found that these were really good burgers, but they shrunk a lot and just weren't as good as i would have liked them to be.  I'm going to try them again just to give them a second shot though.\n",
            "25647 Thanks.  I try not to add things loaded with MSG to my meals for my family. This recipe will help out alot!\n",
            "25704 Not as crunchy as I would have liked, but healthier than frying.  My kids liked it pretty well.\n",
            "25901 Okay, I think this recipe had great potential, but I tried it twice and it was not very cooperative.  The sauce was great, very nice flavor, but with only 4 cups of rice, it was swimming in the sauce.  The first time I made it I used 4 cups + 2 additional cups or rice, not all the way cold, but cooled down.  I also only used 1/2 cup of water.  I removed about 3/4 c of liquid from this mixture with a spoon in attempt to get them to stick together.  The second time, I cooled the rice all the way down in the fridege, used less water and a little more peanut butter and honey.  Still not sticking together well.  I used probably 1/2 c of peanut butter which is probably not the intended flavor, but it was okay.  On the 2nd batch, I used only 1/2 tsp of Cayenne.  I used medium grained rice.  I tried this twice because I wanted this to work, it was for a party I was having and I ended up not serving them, let my fiance eat them instead.\n",
            "25931 GREEEEEEAAAAT recipe!!!! so moist so full of flavour!! this recipe's for keeps!! thanks kittencal for sharing this recipe!! everone loved them!!! have to keep making hem again n again!!! oohhh n the buttercream icing is TO DIE FOR!!!\n",
            "26074 not so hot bugals just did not cut it\n",
            "26235 These were a lot of work - but in the end my DH was happy to have something that reminded him of Nebraska football.\n",
            "26450 I wasn't sure how many stars to give because we loved the pork and made it as directed but couldn't even get close to using the bbq sauce.  It was so strong that when I tried to taste it, my eyes watered.  We threw that part away but the pork itself was very good.  I served it with Sweet Baby Ray's on the side.\n",
            "26475 Hi Jude, i tried making this cake twice but could not achieve the fluffy chocolate cakes we see in bakeries-mine felt rubbery.\r\n",
            "\r\n",
            "May i know what flour did you use? Was it plain flour/cake flour/self-raising flour? Really lost here as i am still quite new to baking cakes. Many Thanks!:)\r\n",
            "\r\n",
            "P/S: i have posted a picture of how my cake turned out on both occasions. Hope that you guys could give me some advice!\n",
            "26495 Very disappointed by this recipe.  I was expecting an out of this world cherry pie and I got a bland meh cherry pie.  The cherry mixture was missing an acid. I will make this again but add some lemon juice and hope it turns out better.  I did LOVE one reviewers mention of using a beer bottle and eraserless pencil to pit her cherries.  THAT was the best tip I have ever gotten.  Saved me so much time cutting out each pit.\n",
            "26626 Maybe it's not fair to give this recipe only three stars, but I wasn't thrilled - it was VERY sweet, even with the addition of some onions and peppers to tone it down a bit.  I will say that my husband and kids seemed to like it.  Be sure to cook it for only the 4 1/2 hours cooking time specified - I did put it in the crockpot and left for work in the morning so it cooked for 8 hours - the sweet sauce was literally infused into the kielbasa and it sort of had a funny texture - this was my fault, though.  I may try it again, monitor the cook time carefully and add some soy sauce as a similar recipe had this listed as one of the ingredients.\n",
            "26791 This was great.  I used fresh raspberries.  I added splenda cause it was not sweet enough for my taste.  Thanks Redsie.  Made for 123 hit wonders\n",
            "26918 I made as written.  It was ok.  Definitely very easy and I didn't need to cook any longer than 30 min.  The sauce was very acidic - perhaps more sugar would have minimized this?  We also had it straight up w/o rice or noodles.  I would definitely recommend some sort of starch accompaniment - it was pretty potent.\n",
            "27023 These tasted like flour on our tongues!  I followed the recipe exactly.  I don't know what I could have done wrong but these were awful.  We tasted no lemon or coconut just flour.\n",
            "27230 I made this for our annual girls getaway weekend, they were a huge hit !  Everyone loved them, they were the first thing gone (and there was a lot of food!)...they were so popular that I have to make them again this year and everyones asked for the recipe.\n",
            "27347 Sorry folks but this was not what Thai food means at our house.  It was pretty bland.  I added some extra fish sauce at table to make it saltier but still everyone left most of it on their plates.  I followed the recipe exactly with the exception of using frozen mango.\n",
            "27352 carrabba's also adds anchovies, fyi\n",
            "27681 really delicious! recipe worked perfectly as written, end product does have a nice dark brown-reddish tint to it, just like the picture. Hard to stop eating, so so so yummy.\r\n",
            "\r\n",
            "I found it easiest to completely remove the pulp from the boiled, cooled grapefruit halves, squeeze the juice from the pulp, then finely chop the pulp before adding it back to the cooking pot. Removing the pulp allowed me to much more finely slice the cooked/cooled rind.\n",
            "27718 I know this doesn't need another 5 star rating...but oh my, it deserves it.  I am always looking for a way to cook pork chops so that they comes out moist and tender.  This recipe is flavorful, rich and creamy.  The only change I made was to use cream of chix soup as DH does not like mushrooms.  I also added some chopped onion to pan after browning the chips and caramelized them then added to the sauce.  Next time I will double the amount of the sauce as it was killer.  The chops were fall apart tender.  A keeper!\n",
            "27721 Family just returned from San Juan, and loved the cusine!  My eldest son loved the PR rice and beans.  He thought these were exactly right!  I used kidney beans, but prefer the pink beans if I can only find them!\n",
            "27872 Disappointing. Mostly had a \"sharp\" off-flavor, I guess from the wasabi, or could be from the wine.\r\n",
            "And I love wasabi. Don't know what went wrong.\r\n",
            "\n",
            "28079 I can&#039;t rate as highly as Sydney below.  I am not sure if the cook time is too long but it definitely yielded a very browned pudding.  I wouldn&#039;t say &quot;burned&quot; but the brown-ness added a dull flavor.  And overall, the flavor was lacking. I really could not taste the chorizo as a stand out flavor and I did not skimp on the sausage quality.  &lt;br/&gt;I brought it to the host as a Thanksgiving side and it was unimpressive so I was very disappointed.  Live and Learn.  Was not worth six eggs and quality sausage, or time invested.\n",
            "28190 I had high expectations and it didn't really live up to them.  I wanted a stronger flavor than the bars had... was too nervous to add more margarita mix, as I didn't want to make the bars too runny.  Maybe with the limeade concentrate they would be better.\n",
            "28344 Followed the recipe and it tastes sour. Not even close to what I&#039;ve had at restaurants. I&#039;m wondering if the measurements should be in teaspoons instead of Tablespoons?\n",
            "28705 this is a very nice recipe, but we found the amount of herbs and spices confusing on the taste buds, we would take out the ground allspice, coriander seed and salt and use just the remaining ingredients. the tenderloin was the best we have ever tasted so sorry about the 2 star rating but i may well upgrade that after trying it again without the ingredients i have stated\n",
            "28891 I had a lot of trouble with this simple cookie. First they dough was way underdone and I used too much, it was all over the muffin tin. Second time, super hard to get out of the muffin tin. I used sugar cookie dough, have some left so will try again because people who ate them really liked them. I will try Megs_ method.\n",
            "29064 This was easy & wonderful!  My family is persnickety about zucchini but I love the stuff.   Thank you!\n",
            "29193 I deviated from my regular homemade mac and cheese recipe to try this, and it didn't turn out well for me. I tripled the recipe because I have a large family, and maybe that created an issue. I purchased a higher grade sharp cheddar, and it didn't melt into a smooth consistency. If I were to make this again, I was try a sharp American or another cheese that melts better.\n",
            "29297 Super delicious! Icing was very easy to work with in decorating cookies. Dried really shiny & pretty! Thanks!\n",
            "29371 I didn't care for this-perhaps i did something wrong.\n"
          ],
          "name": "stdout"
        }
      ]
    },
    {
      "cell_type": "markdown",
      "metadata": {
        "id": "hBynE2ONDYh3"
      },
      "source": [
        "We have the same patterns here :\n",
        "\n",
        "\n",
        "*   Actually negative comments but with a rating that did not match (missclick ?)\n",
        "\n",
        "\n"
      ]
    },
    {
      "cell_type": "code",
      "metadata": {
        "colab": {
          "base_uri": "https://localhost:8080/"
        },
        "id": "qspIWOssDizc",
        "outputId": "15a659e9-bf88-4a91-d1cc-b725b81930f2"
      },
      "source": [
        "#Examples :\n",
        "print(X_train2[\"review\"][3629],\"\\n\",X_train2[\"review\"][11263])"
      ],
      "execution_count": null,
      "outputs": [
        {
          "output_type": "stream",
          "text": [
            "I figured with so many good reviews that this would be amazing.  I found it to be just okay and will not make again.  We did not like the texture or flavor.  I subsequently tried a couple other Zaar banana bread recipes and was much happier with them. \n",
            " not our taste...too much ginger for us\n"
          ],
          "name": "stdout"
        }
      ]
    },
    {
      "cell_type": "markdown",
      "metadata": {
        "id": "5iNcjOLbD2_U"
      },
      "source": [
        "\n",
        "\n",
        "*   Comments that have positive and negative aspects\n",
        "\n"
      ]
    },
    {
      "cell_type": "code",
      "metadata": {
        "colab": {
          "base_uri": "https://localhost:8080/"
        },
        "id": "HbE_8cO5ELej",
        "outputId": "c1a51d8e-a672-49e7-8bb5-c8fd1f1df245"
      },
      "source": [
        "#Examples :\n",
        "print(X_train2[\"review\"][9915])"
      ],
      "execution_count": null,
      "outputs": [
        {
          "output_type": "stream",
          "text": [
            "Very simple recipe.  Taste was good.  A little dry.  Will try again.\n"
          ],
          "name": "stdout"
        }
      ]
    },
    {
      "cell_type": "markdown",
      "metadata": {
        "id": "7QDN1_mbEjVv"
      },
      "source": [
        "\n",
        "\n",
        "*   Comment that are really positive but the model made a mistake\n"
      ]
    },
    {
      "cell_type": "code",
      "metadata": {
        "colab": {
          "base_uri": "https://localhost:8080/"
        },
        "id": "NKHnwzIxEw0D",
        "outputId": "23727b72-17dc-4f69-be83-6354fa660e5c"
      },
      "source": [
        "#Examples :\n",
        "print(X_train2[\"review\"][10347],\"\\n\",X_train2[\"review\"][20167])"
      ],
      "execution_count": null,
      "outputs": [
        {
          "output_type": "stream",
          "text": [
            "Fantastic recipe!  My family loved it! \n",
            " Wow I can't believe I haven't rated this recipe.  I have made this twice and my family loves it.  It is so easy to make and taste like Chinese takeout :)\r\n",
            "Thank you for a great recipe!\n"
          ],
          "name": "stdout"
        }
      ]
    },
    {
      "cell_type": "markdown",
      "metadata": {
        "id": "EuFeddL3FKlA"
      },
      "source": [
        "### **III. Answer to our problem : Do vegetarian meals taste bad ?**"
      ]
    },
    {
      "cell_type": "markdown",
      "metadata": {
        "id": "NVcu_Q90IGe-"
      },
      "source": [
        "We get back to the notation -1 for negative, 0 for neutral and 1 for positive :"
      ]
    },
    {
      "cell_type": "code",
      "metadata": {
        "id": "VB0INS7TGXJs"
      },
      "source": [
        "y_pred_test = y_pred_test - 1\n",
        "test_true_vals = test_true_vals - 1"
      ],
      "execution_count": null,
      "outputs": []
    },
    {
      "cell_type": "code",
      "metadata": {
        "colab": {
          "base_uri": "https://localhost:8080/"
        },
        "id": "HzboJpiWI2cW",
        "outputId": "5de20f21-f005-416a-c851-2993a07f6405"
      },
      "source": [
        "is_vege = []\n",
        "is_not_vege = []\n",
        "n = len(y_pred_test)\n",
        "for i in range(n) :\n",
        "    if X_train2[\"vegetarian\"][i] :\n",
        "        is_vege.append(i)\n",
        "    else :\n",
        "        is_not_vege.append(i)\n",
        "\n",
        "nb_vege = len(is_vege)\n",
        "nb_no_vege = n - nb_vege\n",
        "mean_sentiment_vege = 0\n",
        "mean_sentiment_no_vege = 0\n",
        "for i in range(n) :\n",
        "    if i in is_vege :\n",
        "        mean_sentiment_vege += y_pred_test[i]\n",
        "    else :\n",
        "        mean_sentiment_no_vege += y_pred_test[i]\n",
        "mean_sentiment_no_vege = mean_sentiment_no_vege / nb_no_vege\n",
        "mean_sentiment_vege = mean_sentiment_vege / nb_vege\n",
        "print(\"The average sentiment on vegetarian recipes is \",mean_sentiment_vege)\n",
        "print(\"The average sentiment on non vegetarian recipes is \", mean_sentiment_no_vege)"
      ],
      "execution_count": null,
      "outputs": [
        {
          "output_type": "stream",
          "text": [
            "The average sentiment on vegetarian recipes is  0.2024989228780698\n",
            "The average sentiment on non vegetarian recipes is  0.221091172447091\n"
          ],
          "name": "stdout"
        }
      ]
    },
    {
      "cell_type": "markdown",
      "metadata": {
        "id": "42k5EwKVMCJi"
      },
      "source": [
        "Now let's see the repartition between negative, neutral and positive :"
      ]
    },
    {
      "cell_type": "code",
      "metadata": {
        "colab": {
          "base_uri": "https://localhost:8080/",
          "height": 360
        },
        "id": "NUTVa7HqKy74",
        "outputId": "42efca29-fc9c-4882-98e0-940115cd3a33"
      },
      "source": [
        "y_vege = [y_pred_test[i] for i in is_vege]\n",
        "y_no_vege = [y_pred_test[i] for i in is_not_vege]\n",
        "##Histograms\n",
        "plt.hist([y_vege,y_no_vege], density=True, range = (-2, 2), bins = 6, color = ['blue','red'],alpha=0.25,label=[\"végétarien\",\"non végétarien\"])\n",
        "#plt.hist(nonvegetaBoxplot.rating,  density=True, range = (0, 6), bins = 10, color = 'red', alpha=0.25,label=\"non végétarien\")\n",
        "plt.xlabel('Sentiments')\n",
        "plt.legend()"
      ],
      "execution_count": null,
      "outputs": [
        {
          "output_type": "stream",
          "text": [
            "/usr/local/lib/python3.7/dist-packages/numpy/core/_asarray.py:83: VisibleDeprecationWarning: Creating an ndarray from ragged nested sequences (which is a list-or-tuple of lists-or-tuples-or ndarrays with different lengths or shapes) is deprecated. If you meant to do this, you must specify 'dtype=object' when creating the ndarray\n",
            "  return array(a, dtype, copy=False, order=order)\n"
          ],
          "name": "stderr"
        },
        {
          "output_type": "execute_result",
          "data": {
            "text/plain": [
              "<matplotlib.legend.Legend at 0x7f79fa2613d0>"
            ]
          },
          "metadata": {
            "tags": []
          },
          "execution_count": 84
        },
        {
          "output_type": "display_data",
          "data": {
            "image/png": "[encoded data removed]",
            "text/plain": [
              "<Figure size 432x288 with 1 Axes>"
            ]
          },
          "metadata": {
            "tags": []
          }
        }
      ]
    }
  ]
}